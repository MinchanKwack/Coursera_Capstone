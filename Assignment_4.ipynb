{
 "cells": [
  {
   "cell_type": "markdown",
   "metadata": {},
   "source": [
    "# Sydney or Melbourne - Exploring and Clustering to compare the two cities?"
   ]
  },
  {
   "cell_type": "markdown",
   "metadata": {},
   "source": [
    "Trong Dinh Thac Do\n",
    "\n",
    "Feb 20, 2020"
   ]
  },
  {
   "cell_type": "markdown",
   "metadata": {},
   "source": [
    "### I. Introduction"
   ]
  },
  {
   "cell_type": "markdown",
   "metadata": {},
   "source": [
    "Migration or tourist in Australia is a topic that interest many people around the world. Sydney or Melbourne, the two largest cities cities of Australia, always attract heat debate. People often compare the two cities. There are several questions without answers.\n",
    "\n",
    "In this project, I will use the machine learning techniques to group the neighbourhoods of both cities and explore several venues in both cities. This work would help people with better decision when they want to migrate or visit Australia. "
   ]
  },
  {
   "cell_type": "markdown",
   "metadata": {},
   "source": [
    "### II. Business problem"
   ]
  },
  {
   "cell_type": "markdown",
   "metadata": {},
   "source": [
    "This work aims to help people on the decision of where would they migrate in Australia, especially the two largest cities, Sydney and Melbourne. The findings also help visitors with the venues for better planning of their trips. Further, stakeholders can find useful information on the place they should put money on."
   ]
  },
  {
   "cell_type": "markdown",
   "metadata": {},
   "source": [
    "### III. Data Description"
   ]
  },
  {
   "cell_type": "markdown",
   "metadata": {},
   "source": [
    "1. Data source\n",
    "\n",
    "There are several soures of data, but we use the data from [1]. This source of data includes:\n",
    "\n",
    "    a. Postal code\n",
    "    b. Neighbourhood\n",
    "    c. Lattitute\n",
    "    d. Longitute\n",
    "    \n",
    "of all states in Australia.\n",
    "\n",
    "2. Data preprocessing\n",
    "\n",
    "We only interest in the data from Sydney and Melbourne. Thus, we use the postcode for only Sydney (NSW) and Melbourne (VIC) from [2]. Further, we group the neighbourhood with same postcode."
   ]
  },
  {
   "cell_type": "markdown",
   "metadata": {},
   "source": [
    "### References"
   ]
  },
  {
   "cell_type": "markdown",
   "metadata": {},
   "source": [
    "1. https://gist.github.com/randomecho/5020859\n",
    "2. https://postcodez.com.au/postcodes"
   ]
  },
  {
   "cell_type": "code",
   "execution_count": null,
   "metadata": {},
   "outputs": [],
   "source": []
  }
 ],
 "metadata": {
  "kernelspec": {
   "display_name": "Python 3",
   "language": "python",
   "name": "python3"
  },
  "language_info": {
   "codemirror_mode": {
    "name": "ipython",
    "version": 3
   },
   "file_extension": ".py",
   "mimetype": "text/x-python",
   "name": "python",
   "nbconvert_exporter": "python",
   "pygments_lexer": "ipython3",
   "version": "3.8.3"
  }
 },
 "nbformat": 4,
 "nbformat_minor": 4
}
