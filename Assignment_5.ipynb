{
 "cells": [
  {
   "cell_type": "markdown",
   "metadata": {},
   "source": [
    "# Sydney or Melbourne - Exploring and Clustering to compare the two cities?"
   ]
  },
  {
   "cell_type": "markdown",
   "metadata": {},
   "source": [
    "Trong Dinh Thac Do\n",
    "\n",
    "Feb 20, 2020"
   ]
  },
  {
   "cell_type": "markdown",
   "metadata": {},
   "source": [
    "### I. Introduction"
   ]
  },
  {
   "cell_type": "markdown",
   "metadata": {},
   "source": [
    "Migration or tourist in Australia is a topic that interest many people around the world. Sydney or Melbourne, the two largest cities cities of Australia, always attract heat debate. People often compare the two cities. There are several questions without answers.\n",
    "\n",
    "In this project, I will use the machine learning techniques to group the neighbourhoods of both cities and explore several venues in both cities. This work would help people with better decision when they want to migrate or visit Australia. "
   ]
  },
  {
   "cell_type": "markdown",
   "metadata": {},
   "source": [
    "### II. Business problem"
   ]
  },
  {
   "cell_type": "markdown",
   "metadata": {},
   "source": [
    "This work aims to help people on the decision of where would they migrate in Australia, especially the two largest cities, Sydney and Melbourne. The findings also help visitors with the venues for better planning of their trips. Further, stakeholders can find useful information on the place they should put money on."
   ]
  },
  {
   "cell_type": "markdown",
   "metadata": {},
   "source": [
    "### III. Data Description"
   ]
  },
  {
   "cell_type": "markdown",
   "metadata": {},
   "source": [
    "1. Data source\n",
    "\n",
    "There are several soures of data, but I use the data from [1]. This source of data includes:\n",
    "\n",
    "    a. Postal code\n",
    "    b. Neighbourhood\n",
    "    c. Lattitute\n",
    "    d. Longitute\n",
    "    \n",
    "of all states in Australia.\n",
    "\n",
    "I also extract the sources of venues from Foursquare API.\n",
    "\n",
    "2. Data preprocessing\n",
    "\n",
    "We only interest in the data from Sydney and Melbourne. Thus, I use the postcode for only Sydney (NSW) and Melbourne (VIC) from [2]. Further, I group the neighbourhoods with same postcode.\n"
   ]
  },
  {
   "cell_type": "markdown",
   "metadata": {},
   "source": [
    "### IV. Methodology"
   ]
  },
  {
   "cell_type": "markdown",
   "metadata": {},
   "source": [
    "These pakages are used for this project."
   ]
  },
  {
   "cell_type": "code",
   "execution_count": 193,
   "metadata": {},
   "outputs": [],
   "source": [
    "import pandas as pd\n",
    "import requests\n",
    "import numpy as np\n",
    "import matplotlib.cm as cm\n",
    "import matplotlib.colors as colors\n",
    "import folium\n",
    "from sklearn.cluster import KMeans\n",
    "from geopy.geocoders import Nominatim"
   ]
  },
  {
   "cell_type": "markdown",
   "metadata": {},
   "source": [
    "<ul>\n",
    "    <li><b>pandas</b>: To perform the data analysis</li>\n",
    "    <li><b>requests</b>: Handle HTTP requests</li>\n",
    "    <li><b>matplotlib</b>: graph library for generating maps</li>\n",
    "    <li><b>folium</b>: Generating maps of Sydney and Melbourne</li>\n",
    "    <li><b>sklearn</b>: To import Kmeans for clustering the venues</li>\n",
    "    <li><b>geopy</b>: To get the location of Sydney and Melbourne</li>\n",
    "</ul>"
   ]
  },
  {
   "cell_type": "markdown",
   "metadata": {},
   "source": [
    "The process of this project is on 4 folds. First I perform the preprocessing on geolocation of Australia to extract the information of Melbourne and Sydney. Second, I provide the maps of both cities. Next, I use the Foursquare API to get the information on venues in both cities. Lastly, I apply the clustering technique, i.e., Kmeans on data to obtain the similarities between neighbourhoods."
   ]
  },
  {
   "cell_type": "markdown",
   "metadata": {},
   "source": [
    "#### 1. Data Preprocessing"
   ]
  },
  {
   "cell_type": "markdown",
   "metadata": {},
   "source": [
    "I get the data on location and geo infomation from this website [1]. For convinient, I extract the raw data to csv file and embed in the project. These data include the information on the whole Australia."
   ]
  },
  {
   "cell_type": "markdown",
   "metadata": {},
   "source": [
    "We need to get the data from only NSW (i.e., state of Sysney) and VIC (i.e., state of Melbourne)."
   ]
  },
  {
   "cell_type": "markdown",
   "metadata": {},
   "source": [
    "First, read the CSV file using pandas. We obtain 16742 rows from raw data. The results should look like this."
   ]
  },
  {
   "cell_type": "code",
   "execution_count": 194,
   "metadata": {},
   "outputs": [
    {
     "data": {
      "text/html": [
       "<div>\n",
       "<style scoped>\n",
       "    .dataframe tbody tr th:only-of-type {\n",
       "        vertical-align: middle;\n",
       "    }\n",
       "\n",
       "    .dataframe tbody tr th {\n",
       "        vertical-align: top;\n",
       "    }\n",
       "\n",
       "    .dataframe thead th {\n",
       "        text-align: right;\n",
       "    }\n",
       "</style>\n",
       "<table border=\"1\" class=\"dataframe\">\n",
       "  <thead>\n",
       "    <tr style=\"text-align: right;\">\n",
       "      <th></th>\n",
       "      <th>Postal Code</th>\n",
       "      <th>Neighbourhood</th>\n",
       "      <th>State</th>\n",
       "      <th>Latitude</th>\n",
       "      <th>Longitude</th>\n",
       "    </tr>\n",
       "  </thead>\n",
       "  <tbody>\n",
       "    <tr>\n",
       "      <th>0</th>\n",
       "      <td>200</td>\n",
       "      <td>Australian National University</td>\n",
       "      <td>ACT</td>\n",
       "      <td>-35.28</td>\n",
       "      <td>149.120</td>\n",
       "    </tr>\n",
       "    <tr>\n",
       "      <th>1</th>\n",
       "      <td>221</td>\n",
       "      <td>Barton</td>\n",
       "      <td>ACT</td>\n",
       "      <td>-35.20</td>\n",
       "      <td>149.100</td>\n",
       "    </tr>\n",
       "    <tr>\n",
       "      <th>2</th>\n",
       "      <td>800</td>\n",
       "      <td>Darwin</td>\n",
       "      <td>NT</td>\n",
       "      <td>-12.80</td>\n",
       "      <td>130.960</td>\n",
       "    </tr>\n",
       "    <tr>\n",
       "      <th>3</th>\n",
       "      <td>801</td>\n",
       "      <td>Darwin</td>\n",
       "      <td>NT</td>\n",
       "      <td>-12.80</td>\n",
       "      <td>130.960</td>\n",
       "    </tr>\n",
       "    <tr>\n",
       "      <th>4</th>\n",
       "      <td>804</td>\n",
       "      <td>Parap</td>\n",
       "      <td>NT</td>\n",
       "      <td>-12.43</td>\n",
       "      <td>130.840</td>\n",
       "    </tr>\n",
       "  </tbody>\n",
       "</table>\n",
       "</div>"
      ],
      "text/plain": [
       "   Postal Code                   Neighbourhood State  Latitude Longitude\n",
       "0          200  Australian National University   ACT    -35.28   149.120\n",
       "1          221                          Barton   ACT    -35.20   149.100\n",
       "2          800                          Darwin    NT    -12.80   130.960\n",
       "3          801                          Darwin    NT    -12.80   130.960\n",
       "4          804                           Parap    NT    -12.43   130.840"
      ]
     },
     "execution_count": 194,
     "metadata": {},
     "output_type": "execute_result"
    }
   ],
   "source": [
    "df = pd.read_csv(\"australian-postcodes.csv\")\n",
    "df.head()"
   ]
  },
  {
   "cell_type": "code",
   "execution_count": 195,
   "metadata": {},
   "outputs": [
    {
     "data": {
      "text/plain": [
       "(16742, 5)"
      ]
     },
     "execution_count": 195,
     "metadata": {},
     "output_type": "execute_result"
    }
   ],
   "source": [
    "df.shape"
   ]
  },
  {
   "cell_type": "markdown",
   "metadata": {},
   "source": [
    "As the data include information from all Australia's states. However, we only interest in the infomation from NSW and VIC. Thus, we only keep the data on NSW and VIC. After this action, only 8281 rows remain. The results should look like this."
   ]
  },
  {
   "cell_type": "code",
   "execution_count": 196,
   "metadata": {},
   "outputs": [
    {
     "data": {
      "text/html": [
       "<div>\n",
       "<style scoped>\n",
       "    .dataframe tbody tr th:only-of-type {\n",
       "        vertical-align: middle;\n",
       "    }\n",
       "\n",
       "    .dataframe tbody tr th {\n",
       "        vertical-align: top;\n",
       "    }\n",
       "\n",
       "    .dataframe thead th {\n",
       "        text-align: right;\n",
       "    }\n",
       "</style>\n",
       "<table border=\"1\" class=\"dataframe\">\n",
       "  <thead>\n",
       "    <tr style=\"text-align: right;\">\n",
       "      <th></th>\n",
       "      <th>Postal Code</th>\n",
       "      <th>Neighbourhood</th>\n",
       "      <th>State</th>\n",
       "      <th>Latitude</th>\n",
       "      <th>Longitude</th>\n",
       "    </tr>\n",
       "  </thead>\n",
       "  <tbody>\n",
       "    <tr>\n",
       "      <th>0</th>\n",
       "      <td>1001</td>\n",
       "      <td>Sydney</td>\n",
       "      <td>NSW</td>\n",
       "      <td>-33.79</td>\n",
       "      <td>151.270</td>\n",
       "    </tr>\n",
       "    <tr>\n",
       "      <th>1</th>\n",
       "      <td>1002</td>\n",
       "      <td>Sydney</td>\n",
       "      <td>NSW</td>\n",
       "      <td>-33.79</td>\n",
       "      <td>151.270</td>\n",
       "    </tr>\n",
       "    <tr>\n",
       "      <th>2</th>\n",
       "      <td>1003</td>\n",
       "      <td>Sydney</td>\n",
       "      <td>NSW</td>\n",
       "      <td>-33.79</td>\n",
       "      <td>151.270</td>\n",
       "    </tr>\n",
       "    <tr>\n",
       "      <th>3</th>\n",
       "      <td>1004</td>\n",
       "      <td>Sydney</td>\n",
       "      <td>NSW</td>\n",
       "      <td>-33.79</td>\n",
       "      <td>151.270</td>\n",
       "    </tr>\n",
       "    <tr>\n",
       "      <th>4</th>\n",
       "      <td>1005</td>\n",
       "      <td>Sydney</td>\n",
       "      <td>NSW</td>\n",
       "      <td>-33.79</td>\n",
       "      <td>151.270</td>\n",
       "    </tr>\n",
       "  </tbody>\n",
       "</table>\n",
       "</div>"
      ],
      "text/plain": [
       "   Postal Code Neighbourhood State  Latitude Longitude\n",
       "0         1001        Sydney   NSW    -33.79   151.270\n",
       "1         1002        Sydney   NSW    -33.79   151.270\n",
       "2         1003        Sydney   NSW    -33.79   151.270\n",
       "3         1004        Sydney   NSW    -33.79   151.270\n",
       "4         1005        Sydney   NSW    -33.79   151.270"
      ]
     },
     "execution_count": 196,
     "metadata": {},
     "output_type": "execute_result"
    }
   ],
   "source": [
    "df = df[df['State'].isin([\"NSW\", \"VIC\"])].reset_index(drop=True)\n",
    "df.head()"
   ]
  },
  {
   "cell_type": "code",
   "execution_count": 197,
   "metadata": {},
   "outputs": [
    {
     "data": {
      "text/plain": [
       "(8281, 5)"
      ]
     },
     "execution_count": 197,
     "metadata": {},
     "output_type": "execute_result"
    }
   ],
   "source": [
    "df.shape"
   ]
  },
  {
   "cell_type": "markdown",
   "metadata": {},
   "source": [
    "The data of interest are only from Sydney CBD and Melbourne CBD as defined in [3]. Thus, we exclude the data from regional of NSW and VIC. After this action, only 204 rows remain. The results should look like this."
   ]
  },
  {
   "cell_type": "code",
   "execution_count": 198,
   "metadata": {},
   "outputs": [
    {
     "data": {
      "text/html": [
       "<div>\n",
       "<style scoped>\n",
       "    .dataframe tbody tr th:only-of-type {\n",
       "        vertical-align: middle;\n",
       "    }\n",
       "\n",
       "    .dataframe tbody tr th {\n",
       "        vertical-align: top;\n",
       "    }\n",
       "\n",
       "    .dataframe thead th {\n",
       "        text-align: right;\n",
       "    }\n",
       "</style>\n",
       "<table border=\"1\" class=\"dataframe\">\n",
       "  <thead>\n",
       "    <tr style=\"text-align: right;\">\n",
       "      <th></th>\n",
       "      <th>Postal Code</th>\n",
       "      <th>Neighbourhood</th>\n",
       "      <th>State</th>\n",
       "      <th>Latitude</th>\n",
       "      <th>Longitude</th>\n",
       "    </tr>\n",
       "  </thead>\n",
       "  <tbody>\n",
       "    <tr>\n",
       "      <th>0</th>\n",
       "      <td>1100</td>\n",
       "      <td>Sydney</td>\n",
       "      <td>NSW</td>\n",
       "      <td>-33.79</td>\n",
       "      <td>151.270</td>\n",
       "    </tr>\n",
       "    <tr>\n",
       "      <th>1</th>\n",
       "      <td>1101</td>\n",
       "      <td>Sydney</td>\n",
       "      <td>NSW</td>\n",
       "      <td>-33.79</td>\n",
       "      <td>151.270</td>\n",
       "    </tr>\n",
       "    <tr>\n",
       "      <th>2</th>\n",
       "      <td>1105</td>\n",
       "      <td>Sydney</td>\n",
       "      <td>NSW</td>\n",
       "      <td>-33.79</td>\n",
       "      <td>151.270</td>\n",
       "    </tr>\n",
       "    <tr>\n",
       "      <th>3</th>\n",
       "      <td>1106</td>\n",
       "      <td>Sydney</td>\n",
       "      <td>NSW</td>\n",
       "      <td>-33.79</td>\n",
       "      <td>151.270</td>\n",
       "    </tr>\n",
       "    <tr>\n",
       "      <th>4</th>\n",
       "      <td>1107</td>\n",
       "      <td>Sydney</td>\n",
       "      <td>NSW</td>\n",
       "      <td>-33.79</td>\n",
       "      <td>151.270</td>\n",
       "    </tr>\n",
       "  </tbody>\n",
       "</table>\n",
       "</div>"
      ],
      "text/plain": [
       "   Postal Code Neighbourhood State  Latitude Longitude\n",
       "0         1100        Sydney   NSW    -33.79   151.270\n",
       "1         1101        Sydney   NSW    -33.79   151.270\n",
       "2         1105        Sydney   NSW    -33.79   151.270\n",
       "3         1106        Sydney   NSW    -33.79   151.270\n",
       "4         1107        Sydney   NSW    -33.79   151.270"
      ]
     },
     "execution_count": 198,
     "metadata": {},
     "output_type": "execute_result"
    }
   ],
   "source": [
    "sydney_range_1 = list(range(1100, 1300))\n",
    "sydney_range_2 = [2000, 2001, 2007, 2009]\n",
    "postcode_sydney = sydney_range_1 + sydney_range_2\n",
    "\n",
    "melbourne_range_1 = list(range(3000, 3007))\n",
    "melbourne_range_2 = [3205]\n",
    "melbourne_range_3 = list(range(8000, 8400))\n",
    "postcode_melbourne = melbourne_range_1 + melbourne_range_2 + melbourne_range_3\n",
    "\n",
    "postcode_of_interest = postcode_sydney + postcode_melbourne\n",
    "\n",
    "df = df[df['Postal Code'].isin(postcode_of_interest)].reset_index(drop=True)\n",
    "df.head()"
   ]
  },
  {
   "cell_type": "code",
   "execution_count": 199,
   "metadata": {},
   "outputs": [
    {
     "data": {
      "text/plain": [
       "(204, 5)"
      ]
     },
     "execution_count": 199,
     "metadata": {},
     "output_type": "execute_result"
    }
   ],
   "source": [
    "df.shape"
   ]
  },
  {
   "cell_type": "markdown",
   "metadata": {},
   "source": [
    "Next, as there are several neighbourhood with the same geolocation (i.e., Latitude and Longitude), we need to group them into one and get the list of Neighborhoods. The results should look like this."
   ]
  },
  {
   "cell_type": "code",
   "execution_count": 200,
   "metadata": {},
   "outputs": [
    {
     "data": {
      "text/html": [
       "<div>\n",
       "<style scoped>\n",
       "    .dataframe tbody tr th:only-of-type {\n",
       "        vertical-align: middle;\n",
       "    }\n",
       "\n",
       "    .dataframe tbody tr th {\n",
       "        vertical-align: top;\n",
       "    }\n",
       "\n",
       "    .dataframe thead th {\n",
       "        text-align: right;\n",
       "    }\n",
       "</style>\n",
       "<table border=\"1\" class=\"dataframe\">\n",
       "  <thead>\n",
       "    <tr style=\"text-align: right;\">\n",
       "      <th></th>\n",
       "      <th>Latitude</th>\n",
       "      <th>Longitude</th>\n",
       "      <th>State</th>\n",
       "      <th>Postal Code</th>\n",
       "      <th>Neighbourhood</th>\n",
       "    </tr>\n",
       "  </thead>\n",
       "  <tbody>\n",
       "    <tr>\n",
       "      <th>0</th>\n",
       "      <td>-38.37</td>\n",
       "      <td>144.770</td>\n",
       "      <td>VIC</td>\n",
       "      <td>3001, 8001, 8045, 8051, 8060, 8061, 8066, 8069...</td>\n",
       "      <td>Melbourne, Melbourne, Melbourne, Melbourne, Me...</td>\n",
       "    </tr>\n",
       "    <tr>\n",
       "      <th>1</th>\n",
       "      <td>-38.19</td>\n",
       "      <td>146.290</td>\n",
       "      <td>VIC</td>\n",
       "      <td>8010</td>\n",
       "      <td>Law Courts</td>\n",
       "    </tr>\n",
       "    <tr>\n",
       "      <th>2</th>\n",
       "      <td>-38.11</td>\n",
       "      <td>145.150</td>\n",
       "      <td>VIC</td>\n",
       "      <td>8002</td>\n",
       "      <td>East Melbourne</td>\n",
       "    </tr>\n",
       "    <tr>\n",
       "      <th>3</th>\n",
       "      <td>-37.93</td>\n",
       "      <td>145.030</td>\n",
       "      <td>VIC</td>\n",
       "      <td>3205, 3205</td>\n",
       "      <td>South Melbourne, South Melbourne DC</td>\n",
       "    </tr>\n",
       "    <tr>\n",
       "      <th>4</th>\n",
       "      <td>-37.84</td>\n",
       "      <td>144.980</td>\n",
       "      <td>VIC</td>\n",
       "      <td>3004, 3004, 8004</td>\n",
       "      <td>Melbourne, St Kilda Road Central, St Kilda Road</td>\n",
       "    </tr>\n",
       "  </tbody>\n",
       "</table>\n",
       "</div>"
      ],
      "text/plain": [
       "   Latitude Longitude State  \\\n",
       "0    -38.37   144.770   VIC   \n",
       "1    -38.19   146.290   VIC   \n",
       "2    -38.11   145.150   VIC   \n",
       "3    -37.93   145.030   VIC   \n",
       "4    -37.84   144.980   VIC   \n",
       "\n",
       "                                         Postal Code  \\\n",
       "0  3001, 8001, 8045, 8051, 8060, 8061, 8066, 8069...   \n",
       "1                                               8010   \n",
       "2                                               8002   \n",
       "3                                         3205, 3205   \n",
       "4                                   3004, 3004, 8004   \n",
       "\n",
       "                                       Neighbourhood  \n",
       "0  Melbourne, Melbourne, Melbourne, Melbourne, Me...  \n",
       "1                                         Law Courts  \n",
       "2                                     East Melbourne  \n",
       "3                South Melbourne, South Melbourne DC  \n",
       "4    Melbourne, St Kilda Road Central, St Kilda Road  "
      ]
     },
     "execution_count": 200,
     "metadata": {},
     "output_type": "execute_result"
    }
   ],
   "source": [
    "df['Postal Code'] = df['Postal Code'].astype(str)\n",
    "df = df.groupby(['Latitude', 'Longitude', 'State'], as_index=False).agg({'Postal Code': ', '.join, 'Neighbourhood': ', '.join})\n",
    "df.head()"
   ]
  },
  {
   "cell_type": "code",
   "execution_count": 201,
   "metadata": {},
   "outputs": [
    {
     "data": {
      "text/plain": [
       "(25, 5)"
      ]
     },
     "execution_count": 201,
     "metadata": {},
     "output_type": "execute_result"
    }
   ],
   "source": [
    "df.shape"
   ]
  },
  {
   "cell_type": "markdown",
   "metadata": {},
   "source": [
    "Although, the name of Neighbourhood look not nice. However, atleast we have the geograpical coordinate."
   ]
  },
  {
   "cell_type": "markdown",
   "metadata": {},
   "source": [
    "Next, we need to separate the data for Sydney and Melbourne. It should look like this."
   ]
  },
  {
   "cell_type": "code",
   "execution_count": 202,
   "metadata": {},
   "outputs": [
    {
     "data": {
      "text/html": [
       "<div>\n",
       "<style scoped>\n",
       "    .dataframe tbody tr th:only-of-type {\n",
       "        vertical-align: middle;\n",
       "    }\n",
       "\n",
       "    .dataframe tbody tr th {\n",
       "        vertical-align: top;\n",
       "    }\n",
       "\n",
       "    .dataframe thead th {\n",
       "        text-align: right;\n",
       "    }\n",
       "</style>\n",
       "<table border=\"1\" class=\"dataframe\">\n",
       "  <thead>\n",
       "    <tr style=\"text-align: right;\">\n",
       "      <th></th>\n",
       "      <th>Latitude</th>\n",
       "      <th>Longitude</th>\n",
       "      <th>State</th>\n",
       "      <th>Postal Code</th>\n",
       "      <th>Neighbourhood</th>\n",
       "    </tr>\n",
       "  </thead>\n",
       "  <tbody>\n",
       "    <tr>\n",
       "      <th>0</th>\n",
       "      <td>-34.79</td>\n",
       "      <td>147.690</td>\n",
       "      <td>NSW</td>\n",
       "      <td>1192</td>\n",
       "      <td>Sydney</td>\n",
       "    </tr>\n",
       "    <tr>\n",
       "      <th>1</th>\n",
       "      <td>-33.89</td>\n",
       "      <td>151.180</td>\n",
       "      <td>NSW</td>\n",
       "      <td>1209, 1210, 1211, 1212, 1213, 1214, 1215</td>\n",
       "      <td>Australia Square, Australia Square, Australia ...</td>\n",
       "    </tr>\n",
       "    <tr>\n",
       "      <th>2</th>\n",
       "      <td>-33.88</td>\n",
       "      <td>151.200</td>\n",
       "      <td>NSW</td>\n",
       "      <td>2007, 2007</td>\n",
       "      <td>Broadway, Ultimo</td>\n",
       "    </tr>\n",
       "    <tr>\n",
       "      <th>3</th>\n",
       "      <td>-33.87</td>\n",
       "      <td>151.190</td>\n",
       "      <td>NSW</td>\n",
       "      <td>2009</td>\n",
       "      <td>Pyrmont</td>\n",
       "    </tr>\n",
       "    <tr>\n",
       "      <th>4</th>\n",
       "      <td>-33.87</td>\n",
       "      <td>151.210</td>\n",
       "      <td>NSW</td>\n",
       "      <td>1221, 1222, 1223, 1224, 1225, 1226, 1227, 1228...</td>\n",
       "      <td>Royal Exchange, Royal Exchange, Royal Exchange...</td>\n",
       "    </tr>\n",
       "    <tr>\n",
       "      <th>5</th>\n",
       "      <td>-33.86</td>\n",
       "      <td>151.210</td>\n",
       "      <td>NSW</td>\n",
       "      <td>2000, 2000, 2000, 2000, 2000, 2000, 2000, 2000</td>\n",
       "      <td>Barangaroo, Dawes Point, Haymarket, Millers Po...</td>\n",
       "    </tr>\n",
       "    <tr>\n",
       "      <th>6</th>\n",
       "      <td>-33.82</td>\n",
       "      <td>151.040</td>\n",
       "      <td>NSW</td>\n",
       "      <td>1231, 1232, 1233, 1234, 1235</td>\n",
       "      <td>Sydney South, Sydney South, Sydney South, Sydn...</td>\n",
       "    </tr>\n",
       "    <tr>\n",
       "      <th>7</th>\n",
       "      <td>-33.79</td>\n",
       "      <td>151.270</td>\n",
       "      <td>NSW</td>\n",
       "      <td>1100, 1101, 1105, 1106, 1107, 1108, 1109, 1110...</td>\n",
       "      <td>Sydney, Sydney, Sydney, Sydney, Sydney, Sydney...</td>\n",
       "    </tr>\n",
       "    <tr>\n",
       "      <th>8</th>\n",
       "      <td>-33.74</td>\n",
       "      <td>151.030</td>\n",
       "      <td>NSW</td>\n",
       "      <td>1216, 1217, 1218, 1219, 1220</td>\n",
       "      <td>Grosvenor Place, Grosvenor Place, Grosvenor Pl...</td>\n",
       "    </tr>\n",
       "    <tr>\n",
       "      <th>9</th>\n",
       "      <td>-33.67</td>\n",
       "      <td>150.870</td>\n",
       "      <td>NSW</td>\n",
       "      <td>1116</td>\n",
       "      <td>Sydney</td>\n",
       "    </tr>\n",
       "    <tr>\n",
       "      <th>10</th>\n",
       "      <td>-33.66</td>\n",
       "      <td>150.870</td>\n",
       "      <td>NSW</td>\n",
       "      <td>1117, 1132</td>\n",
       "      <td>Sydney, Sydney</td>\n",
       "    </tr>\n",
       "    <tr>\n",
       "      <th>11</th>\n",
       "      <td>-29.82</td>\n",
       "      <td>151.660</td>\n",
       "      <td>NSW</td>\n",
       "      <td>1208, 1236, 1237, 1238, 1239, 1240</td>\n",
       "      <td>Haymarket, Haymarket, Haymarket, Haymarket, Ha...</td>\n",
       "    </tr>\n",
       "  </tbody>\n",
       "</table>\n",
       "</div>"
      ],
      "text/plain": [
       "    Latitude Longitude State  \\\n",
       "0     -34.79   147.690   NSW   \n",
       "1     -33.89   151.180   NSW   \n",
       "2     -33.88   151.200   NSW   \n",
       "3     -33.87   151.190   NSW   \n",
       "4     -33.87   151.210   NSW   \n",
       "5     -33.86   151.210   NSW   \n",
       "6     -33.82   151.040   NSW   \n",
       "7     -33.79   151.270   NSW   \n",
       "8     -33.74   151.030   NSW   \n",
       "9     -33.67   150.870   NSW   \n",
       "10    -33.66   150.870   NSW   \n",
       "11    -29.82   151.660   NSW   \n",
       "\n",
       "                                          Postal Code  \\\n",
       "0                                                1192   \n",
       "1            1209, 1210, 1211, 1212, 1213, 1214, 1215   \n",
       "2                                          2007, 2007   \n",
       "3                                                2009   \n",
       "4   1221, 1222, 1223, 1224, 1225, 1226, 1227, 1228...   \n",
       "5      2000, 2000, 2000, 2000, 2000, 2000, 2000, 2000   \n",
       "6                        1231, 1232, 1233, 1234, 1235   \n",
       "7   1100, 1101, 1105, 1106, 1107, 1108, 1109, 1110...   \n",
       "8                        1216, 1217, 1218, 1219, 1220   \n",
       "9                                                1116   \n",
       "10                                         1117, 1132   \n",
       "11                 1208, 1236, 1237, 1238, 1239, 1240   \n",
       "\n",
       "                                        Neighbourhood  \n",
       "0                                              Sydney  \n",
       "1   Australia Square, Australia Square, Australia ...  \n",
       "2                                    Broadway, Ultimo  \n",
       "3                                             Pyrmont  \n",
       "4   Royal Exchange, Royal Exchange, Royal Exchange...  \n",
       "5   Barangaroo, Dawes Point, Haymarket, Millers Po...  \n",
       "6   Sydney South, Sydney South, Sydney South, Sydn...  \n",
       "7   Sydney, Sydney, Sydney, Sydney, Sydney, Sydney...  \n",
       "8   Grosvenor Place, Grosvenor Place, Grosvenor Pl...  \n",
       "9                                              Sydney  \n",
       "10                                     Sydney, Sydney  \n",
       "11  Haymarket, Haymarket, Haymarket, Haymarket, Ha...  "
      ]
     },
     "execution_count": 202,
     "metadata": {},
     "output_type": "execute_result"
    }
   ],
   "source": [
    "sydney_data = df[df['State'] == 'NSW'].reset_index(drop=True)\n",
    "sydney_data"
   ]
  },
  {
   "cell_type": "code",
   "execution_count": 203,
   "metadata": {},
   "outputs": [
    {
     "data": {
      "text/html": [
       "<div>\n",
       "<style scoped>\n",
       "    .dataframe tbody tr th:only-of-type {\n",
       "        vertical-align: middle;\n",
       "    }\n",
       "\n",
       "    .dataframe tbody tr th {\n",
       "        vertical-align: top;\n",
       "    }\n",
       "\n",
       "    .dataframe thead th {\n",
       "        text-align: right;\n",
       "    }\n",
       "</style>\n",
       "<table border=\"1\" class=\"dataframe\">\n",
       "  <thead>\n",
       "    <tr style=\"text-align: right;\">\n",
       "      <th></th>\n",
       "      <th>Latitude</th>\n",
       "      <th>Longitude</th>\n",
       "      <th>State</th>\n",
       "      <th>Postal Code</th>\n",
       "      <th>Neighbourhood</th>\n",
       "    </tr>\n",
       "  </thead>\n",
       "  <tbody>\n",
       "    <tr>\n",
       "      <th>0</th>\n",
       "      <td>-38.37</td>\n",
       "      <td>144.770</td>\n",
       "      <td>VIC</td>\n",
       "      <td>3001, 8001, 8045, 8051, 8060, 8061, 8066, 8069...</td>\n",
       "      <td>Melbourne, Melbourne, Melbourne, Melbourne, Me...</td>\n",
       "    </tr>\n",
       "    <tr>\n",
       "      <th>1</th>\n",
       "      <td>-38.19</td>\n",
       "      <td>146.290</td>\n",
       "      <td>VIC</td>\n",
       "      <td>8010</td>\n",
       "      <td>Law Courts</td>\n",
       "    </tr>\n",
       "    <tr>\n",
       "      <th>2</th>\n",
       "      <td>-38.11</td>\n",
       "      <td>145.150</td>\n",
       "      <td>VIC</td>\n",
       "      <td>8002</td>\n",
       "      <td>East Melbourne</td>\n",
       "    </tr>\n",
       "    <tr>\n",
       "      <th>3</th>\n",
       "      <td>-37.93</td>\n",
       "      <td>145.030</td>\n",
       "      <td>VIC</td>\n",
       "      <td>3205, 3205</td>\n",
       "      <td>South Melbourne, South Melbourne DC</td>\n",
       "    </tr>\n",
       "    <tr>\n",
       "      <th>4</th>\n",
       "      <td>-37.84</td>\n",
       "      <td>144.980</td>\n",
       "      <td>VIC</td>\n",
       "      <td>3004, 3004, 8004</td>\n",
       "      <td>Melbourne, St Kilda Road Central, St Kilda Road</td>\n",
       "    </tr>\n",
       "    <tr>\n",
       "      <th>5</th>\n",
       "      <td>-37.82</td>\n",
       "      <td>144.950</td>\n",
       "      <td>VIC</td>\n",
       "      <td>3005, 8005</td>\n",
       "      <td>World Trade Centre, World Trade Centre</td>\n",
       "    </tr>\n",
       "    <tr>\n",
       "      <th>6</th>\n",
       "      <td>-37.82</td>\n",
       "      <td>144.960</td>\n",
       "      <td>VIC</td>\n",
       "      <td>8009</td>\n",
       "      <td>Flinders Lane</td>\n",
       "    </tr>\n",
       "    <tr>\n",
       "      <th>7</th>\n",
       "      <td>-37.82</td>\n",
       "      <td>144.970</td>\n",
       "      <td>VIC</td>\n",
       "      <td>3006, 3006</td>\n",
       "      <td>South Wharf, Southbank</td>\n",
       "    </tr>\n",
       "    <tr>\n",
       "      <th>8</th>\n",
       "      <td>-37.82</td>\n",
       "      <td>144.990</td>\n",
       "      <td>VIC</td>\n",
       "      <td>3002</td>\n",
       "      <td>East Melbourne</td>\n",
       "    </tr>\n",
       "    <tr>\n",
       "      <th>9</th>\n",
       "      <td>-37.81</td>\n",
       "      <td>144.940</td>\n",
       "      <td>VIC</td>\n",
       "      <td>3003</td>\n",
       "      <td>West Melbourne</td>\n",
       "    </tr>\n",
       "    <tr>\n",
       "      <th>10</th>\n",
       "      <td>-37.81</td>\n",
       "      <td>144.960</td>\n",
       "      <td>VIC</td>\n",
       "      <td>8006, 8011</td>\n",
       "      <td>Abeckett Street, Little Lonsdale Street</td>\n",
       "    </tr>\n",
       "    <tr>\n",
       "      <th>11</th>\n",
       "      <td>-37.81</td>\n",
       "      <td>144.970</td>\n",
       "      <td>VIC</td>\n",
       "      <td>3000</td>\n",
       "      <td>Melbourne</td>\n",
       "    </tr>\n",
       "    <tr>\n",
       "      <th>12</th>\n",
       "      <td>0.00</td>\n",
       "      <td>0.000</td>\n",
       "      <td>VIC</td>\n",
       "      <td>8003, 8007, 8008, 8012</td>\n",
       "      <td>Collins Street East, Collins Street West, St K...</td>\n",
       "    </tr>\n",
       "  </tbody>\n",
       "</table>\n",
       "</div>"
      ],
      "text/plain": [
       "    Latitude Longitude State  \\\n",
       "0     -38.37   144.770   VIC   \n",
       "1     -38.19   146.290   VIC   \n",
       "2     -38.11   145.150   VIC   \n",
       "3     -37.93   145.030   VIC   \n",
       "4     -37.84   144.980   VIC   \n",
       "5     -37.82   144.950   VIC   \n",
       "6     -37.82   144.960   VIC   \n",
       "7     -37.82   144.970   VIC   \n",
       "8     -37.82   144.990   VIC   \n",
       "9     -37.81   144.940   VIC   \n",
       "10    -37.81   144.960   VIC   \n",
       "11    -37.81   144.970   VIC   \n",
       "12      0.00     0.000   VIC   \n",
       "\n",
       "                                          Postal Code  \\\n",
       "0   3001, 8001, 8045, 8051, 8060, 8061, 8066, 8069...   \n",
       "1                                                8010   \n",
       "2                                                8002   \n",
       "3                                          3205, 3205   \n",
       "4                                    3004, 3004, 8004   \n",
       "5                                          3005, 8005   \n",
       "6                                                8009   \n",
       "7                                          3006, 3006   \n",
       "8                                                3002   \n",
       "9                                                3003   \n",
       "10                                         8006, 8011   \n",
       "11                                               3000   \n",
       "12                             8003, 8007, 8008, 8012   \n",
       "\n",
       "                                        Neighbourhood  \n",
       "0   Melbourne, Melbourne, Melbourne, Melbourne, Me...  \n",
       "1                                          Law Courts  \n",
       "2                                      East Melbourne  \n",
       "3                 South Melbourne, South Melbourne DC  \n",
       "4     Melbourne, St Kilda Road Central, St Kilda Road  \n",
       "5              World Trade Centre, World Trade Centre  \n",
       "6                                       Flinders Lane  \n",
       "7                              South Wharf, Southbank  \n",
       "8                                      East Melbourne  \n",
       "9                                      West Melbourne  \n",
       "10            Abeckett Street, Little Lonsdale Street  \n",
       "11                                          Melbourne  \n",
       "12  Collins Street East, Collins Street West, St K...  "
      ]
     },
     "execution_count": 203,
     "metadata": {},
     "output_type": "execute_result"
    }
   ],
   "source": [
    "melbourne_data = df[df['State'] == 'VIC'].reset_index(drop=True)\n",
    "melbourne_data"
   ]
  },
  {
   "cell_type": "markdown",
   "metadata": {},
   "source": [
    "#### 2. Map"
   ]
  },
  {
   "cell_type": "markdown",
   "metadata": {},
   "source": [
    "We will explore the map of both Sydney and Melbourne. First, we need to get the geograpical coordinate of both Sydney and Melbourne."
   ]
  },
  {
   "cell_type": "code",
   "execution_count": 204,
   "metadata": {},
   "outputs": [
    {
     "name": "stdout",
     "output_type": "stream",
     "text": [
      "The geograpical coordinate of Sydney are -37.8142176, 144.9631608.\n"
     ]
    }
   ],
   "source": [
    "address_sydney = 'Sydney'\n",
    "\n",
    "geolocator = Nominatim(user_agent=\"to_explorer\")\n",
    "location_sydney = geolocator.geocode(address_sydney)\n",
    "latitude_sydney = location_sydney.latitude\n",
    "longitude_sydney = location_sydney.longitude\n",
    "print('The geograpical coordinate of Sydney are {}, {}.'.format(latitude, longitude))"
   ]
  },
  {
   "cell_type": "code",
   "execution_count": 205,
   "metadata": {},
   "outputs": [
    {
     "name": "stdout",
     "output_type": "stream",
     "text": [
      "The geograpical coordinate of Melbourne are -37.8142176, 144.9631608.\n"
     ]
    }
   ],
   "source": [
    "address_melbourne = 'Melbourne'\n",
    "\n",
    "geolocator = Nominatim(user_agent=\"to_explorer\")\n",
    "location_melbourne = geolocator.geocode(address_melbourne)\n",
    "latitude_melbourne = location_melbourne.latitude\n",
    "longitude_melbourne = location_melbourne.longitude\n",
    "print('The geograpical coordinate of Melbourne are {}, {}.'.format(latitude, longitude))"
   ]
  },
  {
   "cell_type": "markdown",
   "metadata": {},
   "source": [
    "The map of Sydney should look like this."
   ]
  },
  {
   "cell_type": "code",
   "execution_count": 206,
   "metadata": {},
   "outputs": [
    {
     "data": {
      "text/html": [
       "<div style=\"width:100%;\"><div style=\"position:relative;width:100%;height:0;padding-bottom:60%;\"><span style=\"color:#565656\">Make this Notebook Trusted to load map: File -> Trust Notebook</span><iframe src=\"about:blank\" style=\"position:absolute;width:100%;height:100%;left:0;top:0;border:none !important;\" data-html=%3C%21DOCTYPE%20html%3E%0A%3Chead%3E%20%20%20%20%0A%20%20%20%20%3Cmeta%20http-equiv%3D%22content-type%22%20content%3D%22text/html%3B%20charset%3DUTF-8%22%20/%3E%0A%20%20%20%20%0A%20%20%20%20%20%20%20%20%3Cscript%3E%0A%20%20%20%20%20%20%20%20%20%20%20%20L_NO_TOUCH%20%3D%20false%3B%0A%20%20%20%20%20%20%20%20%20%20%20%20L_DISABLE_3D%20%3D%20false%3B%0A%20%20%20%20%20%20%20%20%3C/script%3E%0A%20%20%20%20%0A%20%20%20%20%3Cstyle%3Ehtml%2C%20body%20%7Bwidth%3A%20100%25%3Bheight%3A%20100%25%3Bmargin%3A%200%3Bpadding%3A%200%3B%7D%3C/style%3E%0A%20%20%20%20%3Cstyle%3E%23map%20%7Bposition%3Aabsolute%3Btop%3A0%3Bbottom%3A0%3Bright%3A0%3Bleft%3A0%3B%7D%3C/style%3E%0A%20%20%20%20%3Cscript%20src%3D%22https%3A//cdn.jsdelivr.net/npm/leaflet%401.6.0/dist/leaflet.js%22%3E%3C/script%3E%0A%20%20%20%20%3Cscript%20src%3D%22https%3A//code.jquery.com/jquery-1.12.4.min.js%22%3E%3C/script%3E%0A%20%20%20%20%3Cscript%20src%3D%22https%3A//maxcdn.bootstrapcdn.com/bootstrap/3.2.0/js/bootstrap.min.js%22%3E%3C/script%3E%0A%20%20%20%20%3Cscript%20src%3D%22https%3A//cdnjs.cloudflare.com/ajax/libs/Leaflet.awesome-markers/2.0.2/leaflet.awesome-markers.js%22%3E%3C/script%3E%0A%20%20%20%20%3Clink%20rel%3D%22stylesheet%22%20href%3D%22https%3A//cdn.jsdelivr.net/npm/leaflet%401.6.0/dist/leaflet.css%22/%3E%0A%20%20%20%20%3Clink%20rel%3D%22stylesheet%22%20href%3D%22https%3A//maxcdn.bootstrapcdn.com/bootstrap/3.2.0/css/bootstrap.min.css%22/%3E%0A%20%20%20%20%3Clink%20rel%3D%22stylesheet%22%20href%3D%22https%3A//maxcdn.bootstrapcdn.com/bootstrap/3.2.0/css/bootstrap-theme.min.css%22/%3E%0A%20%20%20%20%3Clink%20rel%3D%22stylesheet%22%20href%3D%22https%3A//maxcdn.bootstrapcdn.com/font-awesome/4.6.3/css/font-awesome.min.css%22/%3E%0A%20%20%20%20%3Clink%20rel%3D%22stylesheet%22%20href%3D%22https%3A//cdnjs.cloudflare.com/ajax/libs/Leaflet.awesome-markers/2.0.2/leaflet.awesome-markers.css%22/%3E%0A%20%20%20%20%3Clink%20rel%3D%22stylesheet%22%20href%3D%22https%3A//cdn.jsdelivr.net/gh/python-visualization/folium/folium/templates/leaflet.awesome.rotate.min.css%22/%3E%0A%20%20%20%20%0A%20%20%20%20%20%20%20%20%20%20%20%20%3Cmeta%20name%3D%22viewport%22%20content%3D%22width%3Ddevice-width%2C%0A%20%20%20%20%20%20%20%20%20%20%20%20%20%20%20%20initial-scale%3D1.0%2C%20maximum-scale%3D1.0%2C%20user-scalable%3Dno%22%20/%3E%0A%20%20%20%20%20%20%20%20%20%20%20%20%3Cstyle%3E%0A%20%20%20%20%20%20%20%20%20%20%20%20%20%20%20%20%23map_840323d7b91641ae84a58829fc510e02%20%7B%0A%20%20%20%20%20%20%20%20%20%20%20%20%20%20%20%20%20%20%20%20position%3A%20relative%3B%0A%20%20%20%20%20%20%20%20%20%20%20%20%20%20%20%20%20%20%20%20width%3A%20100.0%25%3B%0A%20%20%20%20%20%20%20%20%20%20%20%20%20%20%20%20%20%20%20%20height%3A%20100.0%25%3B%0A%20%20%20%20%20%20%20%20%20%20%20%20%20%20%20%20%20%20%20%20left%3A%200.0%25%3B%0A%20%20%20%20%20%20%20%20%20%20%20%20%20%20%20%20%20%20%20%20top%3A%200.0%25%3B%0A%20%20%20%20%20%20%20%20%20%20%20%20%20%20%20%20%7D%0A%20%20%20%20%20%20%20%20%20%20%20%20%3C/style%3E%0A%20%20%20%20%20%20%20%20%0A%3C/head%3E%0A%3Cbody%3E%20%20%20%20%0A%20%20%20%20%0A%20%20%20%20%20%20%20%20%20%20%20%20%3Cdiv%20class%3D%22folium-map%22%20id%3D%22map_840323d7b91641ae84a58829fc510e02%22%20%3E%3C/div%3E%0A%20%20%20%20%20%20%20%20%0A%3C/body%3E%0A%3Cscript%3E%20%20%20%20%0A%20%20%20%20%0A%20%20%20%20%20%20%20%20%20%20%20%20var%20map_840323d7b91641ae84a58829fc510e02%20%3D%20L.map%28%0A%20%20%20%20%20%20%20%20%20%20%20%20%20%20%20%20%22map_840323d7b91641ae84a58829fc510e02%22%2C%0A%20%20%20%20%20%20%20%20%20%20%20%20%20%20%20%20%7B%0A%20%20%20%20%20%20%20%20%20%20%20%20%20%20%20%20%20%20%20%20center%3A%20%5B-33.8548157%2C%20151.2164539%5D%2C%0A%20%20%20%20%20%20%20%20%20%20%20%20%20%20%20%20%20%20%20%20crs%3A%20L.CRS.EPSG3857%2C%0A%20%20%20%20%20%20%20%20%20%20%20%20%20%20%20%20%20%20%20%20zoom%3A%2010%2C%0A%20%20%20%20%20%20%20%20%20%20%20%20%20%20%20%20%20%20%20%20zoomControl%3A%20true%2C%0A%20%20%20%20%20%20%20%20%20%20%20%20%20%20%20%20%20%20%20%20preferCanvas%3A%20false%2C%0A%20%20%20%20%20%20%20%20%20%20%20%20%20%20%20%20%7D%0A%20%20%20%20%20%20%20%20%20%20%20%20%29%3B%0A%0A%20%20%20%20%20%20%20%20%20%20%20%20%0A%0A%20%20%20%20%20%20%20%20%0A%20%20%20%20%0A%20%20%20%20%20%20%20%20%20%20%20%20var%20tile_layer_5337022a900441579885d226ce1048ed%20%3D%20L.tileLayer%28%0A%20%20%20%20%20%20%20%20%20%20%20%20%20%20%20%20%22https%3A//%7Bs%7D.tile.openstreetmap.org/%7Bz%7D/%7Bx%7D/%7By%7D.png%22%2C%0A%20%20%20%20%20%20%20%20%20%20%20%20%20%20%20%20%7B%22attribution%22%3A%20%22Data%20by%20%5Cu0026copy%3B%20%5Cu003ca%20href%3D%5C%22http%3A//openstreetmap.org%5C%22%5Cu003eOpenStreetMap%5Cu003c/a%5Cu003e%2C%20under%20%5Cu003ca%20href%3D%5C%22http%3A//www.openstreetmap.org/copyright%5C%22%5Cu003eODbL%5Cu003c/a%5Cu003e.%22%2C%20%22detectRetina%22%3A%20false%2C%20%22maxNativeZoom%22%3A%2018%2C%20%22maxZoom%22%3A%2018%2C%20%22minZoom%22%3A%200%2C%20%22noWrap%22%3A%20false%2C%20%22opacity%22%3A%201%2C%20%22subdomains%22%3A%20%22abc%22%2C%20%22tms%22%3A%20false%7D%0A%20%20%20%20%20%20%20%20%20%20%20%20%29.addTo%28map_840323d7b91641ae84a58829fc510e02%29%3B%0A%20%20%20%20%20%20%20%20%0A%20%20%20%20%0A%20%20%20%20%20%20%20%20%20%20%20%20var%20circle_marker_ebf84d202f274aeb824bf25bc6996efc%20%3D%20L.circleMarker%28%0A%20%20%20%20%20%20%20%20%20%20%20%20%20%20%20%20%5B-34.79%2C%20147.69%5D%2C%0A%20%20%20%20%20%20%20%20%20%20%20%20%20%20%20%20%7B%22bubblingMouseEvents%22%3A%20true%2C%20%22color%22%3A%20%22blue%22%2C%20%22dashArray%22%3A%20null%2C%20%22dashOffset%22%3A%20null%2C%20%22fill%22%3A%20true%2C%20%22fillColor%22%3A%20%22%233186cc%22%2C%20%22fillOpacity%22%3A%200.7%2C%20%22fillRule%22%3A%20%22evenodd%22%2C%20%22lineCap%22%3A%20%22round%22%2C%20%22lineJoin%22%3A%20%22round%22%2C%20%22opacity%22%3A%201.0%2C%20%22radius%22%3A%205%2C%20%22stroke%22%3A%20true%2C%20%22weight%22%3A%203%7D%0A%20%20%20%20%20%20%20%20%20%20%20%20%29.addTo%28map_840323d7b91641ae84a58829fc510e02%29%3B%0A%20%20%20%20%20%20%20%20%0A%20%20%20%20%0A%20%20%20%20%20%20%20%20var%20popup_7d8799ac74c84ea28a83a83c86d344ad%20%3D%20L.popup%28%7B%22maxWidth%22%3A%20%22100%25%22%7D%29%3B%0A%0A%20%20%20%20%20%20%20%20%0A%20%20%20%20%20%20%20%20%20%20%20%20var%20html_4045107182234cfa8373078d7968f889%20%3D%20%24%28%60%3Cdiv%20id%3D%22html_4045107182234cfa8373078d7968f889%22%20style%3D%22width%3A%20100.0%25%3B%20height%3A%20100.0%25%3B%22%3ESydney%3C/div%3E%60%29%5B0%5D%3B%0A%20%20%20%20%20%20%20%20%20%20%20%20popup_7d8799ac74c84ea28a83a83c86d344ad.setContent%28html_4045107182234cfa8373078d7968f889%29%3B%0A%20%20%20%20%20%20%20%20%0A%0A%20%20%20%20%20%20%20%20circle_marker_ebf84d202f274aeb824bf25bc6996efc.bindPopup%28popup_7d8799ac74c84ea28a83a83c86d344ad%29%0A%20%20%20%20%20%20%20%20%3B%0A%0A%20%20%20%20%20%20%20%20%0A%20%20%20%20%0A%20%20%20%20%0A%20%20%20%20%20%20%20%20%20%20%20%20var%20circle_marker_f3cd98821bb94ef6893231cc7550df65%20%3D%20L.circleMarker%28%0A%20%20%20%20%20%20%20%20%20%20%20%20%20%20%20%20%5B-33.89%2C%20151.18%5D%2C%0A%20%20%20%20%20%20%20%20%20%20%20%20%20%20%20%20%7B%22bubblingMouseEvents%22%3A%20true%2C%20%22color%22%3A%20%22blue%22%2C%20%22dashArray%22%3A%20null%2C%20%22dashOffset%22%3A%20null%2C%20%22fill%22%3A%20true%2C%20%22fillColor%22%3A%20%22%233186cc%22%2C%20%22fillOpacity%22%3A%200.7%2C%20%22fillRule%22%3A%20%22evenodd%22%2C%20%22lineCap%22%3A%20%22round%22%2C%20%22lineJoin%22%3A%20%22round%22%2C%20%22opacity%22%3A%201.0%2C%20%22radius%22%3A%205%2C%20%22stroke%22%3A%20true%2C%20%22weight%22%3A%203%7D%0A%20%20%20%20%20%20%20%20%20%20%20%20%29.addTo%28map_840323d7b91641ae84a58829fc510e02%29%3B%0A%20%20%20%20%20%20%20%20%0A%20%20%20%20%0A%20%20%20%20%20%20%20%20var%20popup_2eb173d68fe841619874e6c6d83f375f%20%3D%20L.popup%28%7B%22maxWidth%22%3A%20%22100%25%22%7D%29%3B%0A%0A%20%20%20%20%20%20%20%20%0A%20%20%20%20%20%20%20%20%20%20%20%20var%20html_1f1b4335c33f4a88b3a41fbbb9bbbafa%20%3D%20%24%28%60%3Cdiv%20id%3D%22html_1f1b4335c33f4a88b3a41fbbb9bbbafa%22%20style%3D%22width%3A%20100.0%25%3B%20height%3A%20100.0%25%3B%22%3EAustralia%20Square%2C%20Australia%20Square%2C%20Australia%20Square%2C%20Australia%20Square%2C%20Australia%20Square%2C%20Australia%20Square%2C%20Australia%20Square%3C/div%3E%60%29%5B0%5D%3B%0A%20%20%20%20%20%20%20%20%20%20%20%20popup_2eb173d68fe841619874e6c6d83f375f.setContent%28html_1f1b4335c33f4a88b3a41fbbb9bbbafa%29%3B%0A%20%20%20%20%20%20%20%20%0A%0A%20%20%20%20%20%20%20%20circle_marker_f3cd98821bb94ef6893231cc7550df65.bindPopup%28popup_2eb173d68fe841619874e6c6d83f375f%29%0A%20%20%20%20%20%20%20%20%3B%0A%0A%20%20%20%20%20%20%20%20%0A%20%20%20%20%0A%20%20%20%20%0A%20%20%20%20%20%20%20%20%20%20%20%20var%20circle_marker_56c0b93f9e2b4c3ab46861499c7782b8%20%3D%20L.circleMarker%28%0A%20%20%20%20%20%20%20%20%20%20%20%20%20%20%20%20%5B-33.88%2C%20151.2%5D%2C%0A%20%20%20%20%20%20%20%20%20%20%20%20%20%20%20%20%7B%22bubblingMouseEvents%22%3A%20true%2C%20%22color%22%3A%20%22blue%22%2C%20%22dashArray%22%3A%20null%2C%20%22dashOffset%22%3A%20null%2C%20%22fill%22%3A%20true%2C%20%22fillColor%22%3A%20%22%233186cc%22%2C%20%22fillOpacity%22%3A%200.7%2C%20%22fillRule%22%3A%20%22evenodd%22%2C%20%22lineCap%22%3A%20%22round%22%2C%20%22lineJoin%22%3A%20%22round%22%2C%20%22opacity%22%3A%201.0%2C%20%22radius%22%3A%205%2C%20%22stroke%22%3A%20true%2C%20%22weight%22%3A%203%7D%0A%20%20%20%20%20%20%20%20%20%20%20%20%29.addTo%28map_840323d7b91641ae84a58829fc510e02%29%3B%0A%20%20%20%20%20%20%20%20%0A%20%20%20%20%0A%20%20%20%20%20%20%20%20var%20popup_60bb57b39ce44c8f80b20ad30c092aca%20%3D%20L.popup%28%7B%22maxWidth%22%3A%20%22100%25%22%7D%29%3B%0A%0A%20%20%20%20%20%20%20%20%0A%20%20%20%20%20%20%20%20%20%20%20%20var%20html_4b82a5241cdf418985e228c81fe8b554%20%3D%20%24%28%60%3Cdiv%20id%3D%22html_4b82a5241cdf418985e228c81fe8b554%22%20style%3D%22width%3A%20100.0%25%3B%20height%3A%20100.0%25%3B%22%3EBroadway%2C%20Ultimo%3C/div%3E%60%29%5B0%5D%3B%0A%20%20%20%20%20%20%20%20%20%20%20%20popup_60bb57b39ce44c8f80b20ad30c092aca.setContent%28html_4b82a5241cdf418985e228c81fe8b554%29%3B%0A%20%20%20%20%20%20%20%20%0A%0A%20%20%20%20%20%20%20%20circle_marker_56c0b93f9e2b4c3ab46861499c7782b8.bindPopup%28popup_60bb57b39ce44c8f80b20ad30c092aca%29%0A%20%20%20%20%20%20%20%20%3B%0A%0A%20%20%20%20%20%20%20%20%0A%20%20%20%20%0A%20%20%20%20%0A%20%20%20%20%20%20%20%20%20%20%20%20var%20circle_marker_f4ac39bfde114d62b50c7d451b232c38%20%3D%20L.circleMarker%28%0A%20%20%20%20%20%20%20%20%20%20%20%20%20%20%20%20%5B-33.87%2C%20151.19%5D%2C%0A%20%20%20%20%20%20%20%20%20%20%20%20%20%20%20%20%7B%22bubblingMouseEvents%22%3A%20true%2C%20%22color%22%3A%20%22blue%22%2C%20%22dashArray%22%3A%20null%2C%20%22dashOffset%22%3A%20null%2C%20%22fill%22%3A%20true%2C%20%22fillColor%22%3A%20%22%233186cc%22%2C%20%22fillOpacity%22%3A%200.7%2C%20%22fillRule%22%3A%20%22evenodd%22%2C%20%22lineCap%22%3A%20%22round%22%2C%20%22lineJoin%22%3A%20%22round%22%2C%20%22opacity%22%3A%201.0%2C%20%22radius%22%3A%205%2C%20%22stroke%22%3A%20true%2C%20%22weight%22%3A%203%7D%0A%20%20%20%20%20%20%20%20%20%20%20%20%29.addTo%28map_840323d7b91641ae84a58829fc510e02%29%3B%0A%20%20%20%20%20%20%20%20%0A%20%20%20%20%0A%20%20%20%20%20%20%20%20var%20popup_e5eb2b466b784775b0c2829b72baa118%20%3D%20L.popup%28%7B%22maxWidth%22%3A%20%22100%25%22%7D%29%3B%0A%0A%20%20%20%20%20%20%20%20%0A%20%20%20%20%20%20%20%20%20%20%20%20var%20html_5e25b5ed590b4326af8fcab9a80eac0f%20%3D%20%24%28%60%3Cdiv%20id%3D%22html_5e25b5ed590b4326af8fcab9a80eac0f%22%20style%3D%22width%3A%20100.0%25%3B%20height%3A%20100.0%25%3B%22%3EPyrmont%3C/div%3E%60%29%5B0%5D%3B%0A%20%20%20%20%20%20%20%20%20%20%20%20popup_e5eb2b466b784775b0c2829b72baa118.setContent%28html_5e25b5ed590b4326af8fcab9a80eac0f%29%3B%0A%20%20%20%20%20%20%20%20%0A%0A%20%20%20%20%20%20%20%20circle_marker_f4ac39bfde114d62b50c7d451b232c38.bindPopup%28popup_e5eb2b466b784775b0c2829b72baa118%29%0A%20%20%20%20%20%20%20%20%3B%0A%0A%20%20%20%20%20%20%20%20%0A%20%20%20%20%0A%20%20%20%20%0A%20%20%20%20%20%20%20%20%20%20%20%20var%20circle_marker_1040ed399fca41f586d03d3b1c729d31%20%3D%20L.circleMarker%28%0A%20%20%20%20%20%20%20%20%20%20%20%20%20%20%20%20%5B-33.87%2C%20151.21%5D%2C%0A%20%20%20%20%20%20%20%20%20%20%20%20%20%20%20%20%7B%22bubblingMouseEvents%22%3A%20true%2C%20%22color%22%3A%20%22blue%22%2C%20%22dashArray%22%3A%20null%2C%20%22dashOffset%22%3A%20null%2C%20%22fill%22%3A%20true%2C%20%22fillColor%22%3A%20%22%233186cc%22%2C%20%22fillOpacity%22%3A%200.7%2C%20%22fillRule%22%3A%20%22evenodd%22%2C%20%22lineCap%22%3A%20%22round%22%2C%20%22lineJoin%22%3A%20%22round%22%2C%20%22opacity%22%3A%201.0%2C%20%22radius%22%3A%205%2C%20%22stroke%22%3A%20true%2C%20%22weight%22%3A%203%7D%0A%20%20%20%20%20%20%20%20%20%20%20%20%29.addTo%28map_840323d7b91641ae84a58829fc510e02%29%3B%0A%20%20%20%20%20%20%20%20%0A%20%20%20%20%0A%20%20%20%20%20%20%20%20var%20popup_64bc16a687784264a52d8e9cc4c28897%20%3D%20L.popup%28%7B%22maxWidth%22%3A%20%22100%25%22%7D%29%3B%0A%0A%20%20%20%20%20%20%20%20%0A%20%20%20%20%20%20%20%20%20%20%20%20var%20html_36d5e875ff09484aae0c6af638a2d98a%20%3D%20%24%28%60%3Cdiv%20id%3D%22html_36d5e875ff09484aae0c6af638a2d98a%22%20style%3D%22width%3A%20100.0%25%3B%20height%3A%20100.0%25%3B%22%3ERoyal%20Exchange%2C%20Royal%20Exchange%2C%20Royal%20Exchange%2C%20Royal%20Exchange%2C%20Royal%20Exchange%2C%20Queen%20Victoria%20Building%2C%20Queen%20Victoria%20Building%2C%20Queen%20Victoria%20Building%2C%20Queen%20Victoria%20Building%2C%20Queen%20Victoria%20Building%3C/div%3E%60%29%5B0%5D%3B%0A%20%20%20%20%20%20%20%20%20%20%20%20popup_64bc16a687784264a52d8e9cc4c28897.setContent%28html_36d5e875ff09484aae0c6af638a2d98a%29%3B%0A%20%20%20%20%20%20%20%20%0A%0A%20%20%20%20%20%20%20%20circle_marker_1040ed399fca41f586d03d3b1c729d31.bindPopup%28popup_64bc16a687784264a52d8e9cc4c28897%29%0A%20%20%20%20%20%20%20%20%3B%0A%0A%20%20%20%20%20%20%20%20%0A%20%20%20%20%0A%20%20%20%20%0A%20%20%20%20%20%20%20%20%20%20%20%20var%20circle_marker_627a029e67694a818388ddd844869c32%20%3D%20L.circleMarker%28%0A%20%20%20%20%20%20%20%20%20%20%20%20%20%20%20%20%5B-33.86%2C%20151.21%5D%2C%0A%20%20%20%20%20%20%20%20%20%20%20%20%20%20%20%20%7B%22bubblingMouseEvents%22%3A%20true%2C%20%22color%22%3A%20%22blue%22%2C%20%22dashArray%22%3A%20null%2C%20%22dashOffset%22%3A%20null%2C%20%22fill%22%3A%20true%2C%20%22fillColor%22%3A%20%22%233186cc%22%2C%20%22fillOpacity%22%3A%200.7%2C%20%22fillRule%22%3A%20%22evenodd%22%2C%20%22lineCap%22%3A%20%22round%22%2C%20%22lineJoin%22%3A%20%22round%22%2C%20%22opacity%22%3A%201.0%2C%20%22radius%22%3A%205%2C%20%22stroke%22%3A%20true%2C%20%22weight%22%3A%203%7D%0A%20%20%20%20%20%20%20%20%20%20%20%20%29.addTo%28map_840323d7b91641ae84a58829fc510e02%29%3B%0A%20%20%20%20%20%20%20%20%0A%20%20%20%20%0A%20%20%20%20%20%20%20%20var%20popup_fb03a3fc091b40c6957bd05a619ad39f%20%3D%20L.popup%28%7B%22maxWidth%22%3A%20%22100%25%22%7D%29%3B%0A%0A%20%20%20%20%20%20%20%20%0A%20%20%20%20%20%20%20%20%20%20%20%20var%20html_71cf8aec3cfb48cb83327a5c97a0b846%20%3D%20%24%28%60%3Cdiv%20id%3D%22html_71cf8aec3cfb48cb83327a5c97a0b846%22%20style%3D%22width%3A%20100.0%25%3B%20height%3A%20100.0%25%3B%22%3EBarangaroo%2C%20Dawes%20Point%2C%20Haymarket%2C%20Millers%20Point%2C%20Parliament%20House%2C%20Sydney%2C%20Sydney%20South%2C%20The%20Rocks%3C/div%3E%60%29%5B0%5D%3B%0A%20%20%20%20%20%20%20%20%20%20%20%20popup_fb03a3fc091b40c6957bd05a619ad39f.setContent%28html_71cf8aec3cfb48cb83327a5c97a0b846%29%3B%0A%20%20%20%20%20%20%20%20%0A%0A%20%20%20%20%20%20%20%20circle_marker_627a029e67694a818388ddd844869c32.bindPopup%28popup_fb03a3fc091b40c6957bd05a619ad39f%29%0A%20%20%20%20%20%20%20%20%3B%0A%0A%20%20%20%20%20%20%20%20%0A%20%20%20%20%0A%20%20%20%20%0A%20%20%20%20%20%20%20%20%20%20%20%20var%20circle_marker_648597a0ebcb4e60b4ae898bab732d44%20%3D%20L.circleMarker%28%0A%20%20%20%20%20%20%20%20%20%20%20%20%20%20%20%20%5B-33.82%2C%20151.04%5D%2C%0A%20%20%20%20%20%20%20%20%20%20%20%20%20%20%20%20%7B%22bubblingMouseEvents%22%3A%20true%2C%20%22color%22%3A%20%22blue%22%2C%20%22dashArray%22%3A%20null%2C%20%22dashOffset%22%3A%20null%2C%20%22fill%22%3A%20true%2C%20%22fillColor%22%3A%20%22%233186cc%22%2C%20%22fillOpacity%22%3A%200.7%2C%20%22fillRule%22%3A%20%22evenodd%22%2C%20%22lineCap%22%3A%20%22round%22%2C%20%22lineJoin%22%3A%20%22round%22%2C%20%22opacity%22%3A%201.0%2C%20%22radius%22%3A%205%2C%20%22stroke%22%3A%20true%2C%20%22weight%22%3A%203%7D%0A%20%20%20%20%20%20%20%20%20%20%20%20%29.addTo%28map_840323d7b91641ae84a58829fc510e02%29%3B%0A%20%20%20%20%20%20%20%20%0A%20%20%20%20%0A%20%20%20%20%20%20%20%20var%20popup_90ee54a95e3941248bcc6a286081c343%20%3D%20L.popup%28%7B%22maxWidth%22%3A%20%22100%25%22%7D%29%3B%0A%0A%20%20%20%20%20%20%20%20%0A%20%20%20%20%20%20%20%20%20%20%20%20var%20html_0014c99ba3da4792bf3f9d5acfc3bde9%20%3D%20%24%28%60%3Cdiv%20id%3D%22html_0014c99ba3da4792bf3f9d5acfc3bde9%22%20style%3D%22width%3A%20100.0%25%3B%20height%3A%20100.0%25%3B%22%3ESydney%20South%2C%20Sydney%20South%2C%20Sydney%20South%2C%20Sydney%20South%2C%20Sydney%20South%3C/div%3E%60%29%5B0%5D%3B%0A%20%20%20%20%20%20%20%20%20%20%20%20popup_90ee54a95e3941248bcc6a286081c343.setContent%28html_0014c99ba3da4792bf3f9d5acfc3bde9%29%3B%0A%20%20%20%20%20%20%20%20%0A%0A%20%20%20%20%20%20%20%20circle_marker_648597a0ebcb4e60b4ae898bab732d44.bindPopup%28popup_90ee54a95e3941248bcc6a286081c343%29%0A%20%20%20%20%20%20%20%20%3B%0A%0A%20%20%20%20%20%20%20%20%0A%20%20%20%20%0A%20%20%20%20%0A%20%20%20%20%20%20%20%20%20%20%20%20var%20circle_marker_b51f32d791994652939247d31d6e3a36%20%3D%20L.circleMarker%28%0A%20%20%20%20%20%20%20%20%20%20%20%20%20%20%20%20%5B-33.79%2C%20151.27%5D%2C%0A%20%20%20%20%20%20%20%20%20%20%20%20%20%20%20%20%7B%22bubblingMouseEvents%22%3A%20true%2C%20%22color%22%3A%20%22blue%22%2C%20%22dashArray%22%3A%20null%2C%20%22dashOffset%22%3A%20null%2C%20%22fill%22%3A%20true%2C%20%22fillColor%22%3A%20%22%233186cc%22%2C%20%22fillOpacity%22%3A%200.7%2C%20%22fillRule%22%3A%20%22evenodd%22%2C%20%22lineCap%22%3A%20%22round%22%2C%20%22lineJoin%22%3A%20%22round%22%2C%20%22opacity%22%3A%201.0%2C%20%22radius%22%3A%205%2C%20%22stroke%22%3A%20true%2C%20%22weight%22%3A%203%7D%0A%20%20%20%20%20%20%20%20%20%20%20%20%29.addTo%28map_840323d7b91641ae84a58829fc510e02%29%3B%0A%20%20%20%20%20%20%20%20%0A%20%20%20%20%0A%20%20%20%20%20%20%20%20var%20popup_18f7217429a74715a1661c21496ff281%20%3D%20L.popup%28%7B%22maxWidth%22%3A%20%22100%25%22%7D%29%3B%0A%0A%20%20%20%20%20%20%20%20%0A%20%20%20%20%20%20%20%20%20%20%20%20var%20html_b1f70a3bea9f459995f59a080d46545f%20%3D%20%24%28%60%3Cdiv%20id%3D%22html_b1f70a3bea9f459995f59a080d46545f%22%20style%3D%22width%3A%20100.0%25%3B%20height%3A%20100.0%25%3B%22%3ESydney%2C%20Sydney%2C%20Sydney%2C%20Sydney%2C%20Sydney%2C%20Sydney%2C%20Sydney%2C%20Sydney%2C%20Sydney%2C%20Sydney%2C%20Sydney%2C%20Sydney%2C%20Sydney%2C%20Sydney%2C%20Sydney%2C%20Sydney%2C%20Sydney%2C%20Sydney%2C%20Sydney%2C%20Sydney%2C%20Sydney%2C%20Sydney%2C%20Sydney%2C%20Sydney%2C%20Sydney%2C%20Sydney%2C%20Sydney%2C%20Sydney%2C%20Sydney%2C%20Sydney%2C%20Sydney%2C%20Sydney%2C%20Sydney%2C%20Sydney%2C%20Sydney%2C%20Sydney%2C%20Sydney%2C%20Sydney%2C%20Sydney%2C%20Sydney%2C%20Sydney%2C%20Sydney%2C%20Sydney%2C%20Sydney%2C%20Sydney%2C%20Sydney%2C%20Sydney%2C%20Sydney%2C%20Sydney%2C%20Sydney%2C%20Sydney%2C%20Sydney%2C%20Sydney%2C%20Sydney%2C%20Sydney%2C%20Sydney%2C%20Sydney%2C%20Sydney%2C%20Sydney%2C%20Sydney%2C%20Sydney%2C%20Sydney%2C%20Sydney%2C%20Sydney%2C%20Sydney%2C%20Sydney%2C%20Sydney%2C%20Sydney%2C%20Sydney%2C%20Sydney%2C%20Sydney%2C%20Sydney%2C%20Sydney%2C%20Sydney%2C%20Sydney%2C%20Sydney%2C%20Sydney%2C%20Sydney%2C%20Sydney%2C%20Sydney%2C%20Sydney%2C%20Sydney%2C%20Sydney%2C%20Sydney%2C%20Sydney%2C%20Sydney%2C%20Sydney%2C%20Sydney%2C%20Sydney%2C%20Sydney%2C%20Sydney%2C%20Sydney%2C%20Sydney%2C%20Sydney%2C%20Sydney%2C%20Sydney%2C%20Sydney%2C%20Sydney%2C%20Sydney%2C%20Sydney%2C%20Sydney%2C%20Sydney%2C%20Sydney%2C%20Sydney%2C%20Sydney%2C%20Sydney%2C%20Sydney%2C%20Sydney%2C%20Sydney%2C%20Sydney%3C/div%3E%60%29%5B0%5D%3B%0A%20%20%20%20%20%20%20%20%20%20%20%20popup_18f7217429a74715a1661c21496ff281.setContent%28html_b1f70a3bea9f459995f59a080d46545f%29%3B%0A%20%20%20%20%20%20%20%20%0A%0A%20%20%20%20%20%20%20%20circle_marker_b51f32d791994652939247d31d6e3a36.bindPopup%28popup_18f7217429a74715a1661c21496ff281%29%0A%20%20%20%20%20%20%20%20%3B%0A%0A%20%20%20%20%20%20%20%20%0A%20%20%20%20%0A%20%20%20%20%0A%20%20%20%20%20%20%20%20%20%20%20%20var%20circle_marker_bd987ca3443c4d7e8a1be3a7b5feb8f7%20%3D%20L.circleMarker%28%0A%20%20%20%20%20%20%20%20%20%20%20%20%20%20%20%20%5B-33.74%2C%20151.03%5D%2C%0A%20%20%20%20%20%20%20%20%20%20%20%20%20%20%20%20%7B%22bubblingMouseEvents%22%3A%20true%2C%20%22color%22%3A%20%22blue%22%2C%20%22dashArray%22%3A%20null%2C%20%22dashOffset%22%3A%20null%2C%20%22fill%22%3A%20true%2C%20%22fillColor%22%3A%20%22%233186cc%22%2C%20%22fillOpacity%22%3A%200.7%2C%20%22fillRule%22%3A%20%22evenodd%22%2C%20%22lineCap%22%3A%20%22round%22%2C%20%22lineJoin%22%3A%20%22round%22%2C%20%22opacity%22%3A%201.0%2C%20%22radius%22%3A%205%2C%20%22stroke%22%3A%20true%2C%20%22weight%22%3A%203%7D%0A%20%20%20%20%20%20%20%20%20%20%20%20%29.addTo%28map_840323d7b91641ae84a58829fc510e02%29%3B%0A%20%20%20%20%20%20%20%20%0A%20%20%20%20%0A%20%20%20%20%20%20%20%20var%20popup_a26ca3e3def249299284b68d0a0ddb4d%20%3D%20L.popup%28%7B%22maxWidth%22%3A%20%22100%25%22%7D%29%3B%0A%0A%20%20%20%20%20%20%20%20%0A%20%20%20%20%20%20%20%20%20%20%20%20var%20html_3672103e92914b28a638ca8aa7fd40ec%20%3D%20%24%28%60%3Cdiv%20id%3D%22html_3672103e92914b28a638ca8aa7fd40ec%22%20style%3D%22width%3A%20100.0%25%3B%20height%3A%20100.0%25%3B%22%3EGrosvenor%20Place%2C%20Grosvenor%20Place%2C%20Grosvenor%20Place%2C%20Grosvenor%20Place%2C%20Grosvenor%20Place%3C/div%3E%60%29%5B0%5D%3B%0A%20%20%20%20%20%20%20%20%20%20%20%20popup_a26ca3e3def249299284b68d0a0ddb4d.setContent%28html_3672103e92914b28a638ca8aa7fd40ec%29%3B%0A%20%20%20%20%20%20%20%20%0A%0A%20%20%20%20%20%20%20%20circle_marker_bd987ca3443c4d7e8a1be3a7b5feb8f7.bindPopup%28popup_a26ca3e3def249299284b68d0a0ddb4d%29%0A%20%20%20%20%20%20%20%20%3B%0A%0A%20%20%20%20%20%20%20%20%0A%20%20%20%20%0A%20%20%20%20%0A%20%20%20%20%20%20%20%20%20%20%20%20var%20circle_marker_3edd105bd1e543dc8e24e82c83bfda9e%20%3D%20L.circleMarker%28%0A%20%20%20%20%20%20%20%20%20%20%20%20%20%20%20%20%5B-33.67%2C%20150.87%5D%2C%0A%20%20%20%20%20%20%20%20%20%20%20%20%20%20%20%20%7B%22bubblingMouseEvents%22%3A%20true%2C%20%22color%22%3A%20%22blue%22%2C%20%22dashArray%22%3A%20null%2C%20%22dashOffset%22%3A%20null%2C%20%22fill%22%3A%20true%2C%20%22fillColor%22%3A%20%22%233186cc%22%2C%20%22fillOpacity%22%3A%200.7%2C%20%22fillRule%22%3A%20%22evenodd%22%2C%20%22lineCap%22%3A%20%22round%22%2C%20%22lineJoin%22%3A%20%22round%22%2C%20%22opacity%22%3A%201.0%2C%20%22radius%22%3A%205%2C%20%22stroke%22%3A%20true%2C%20%22weight%22%3A%203%7D%0A%20%20%20%20%20%20%20%20%20%20%20%20%29.addTo%28map_840323d7b91641ae84a58829fc510e02%29%3B%0A%20%20%20%20%20%20%20%20%0A%20%20%20%20%0A%20%20%20%20%20%20%20%20var%20popup_4ced6c2714a9449fa530512964fea6ed%20%3D%20L.popup%28%7B%22maxWidth%22%3A%20%22100%25%22%7D%29%3B%0A%0A%20%20%20%20%20%20%20%20%0A%20%20%20%20%20%20%20%20%20%20%20%20var%20html_c3a514a8855242089566a96e6f9842d3%20%3D%20%24%28%60%3Cdiv%20id%3D%22html_c3a514a8855242089566a96e6f9842d3%22%20style%3D%22width%3A%20100.0%25%3B%20height%3A%20100.0%25%3B%22%3ESydney%3C/div%3E%60%29%5B0%5D%3B%0A%20%20%20%20%20%20%20%20%20%20%20%20popup_4ced6c2714a9449fa530512964fea6ed.setContent%28html_c3a514a8855242089566a96e6f9842d3%29%3B%0A%20%20%20%20%20%20%20%20%0A%0A%20%20%20%20%20%20%20%20circle_marker_3edd105bd1e543dc8e24e82c83bfda9e.bindPopup%28popup_4ced6c2714a9449fa530512964fea6ed%29%0A%20%20%20%20%20%20%20%20%3B%0A%0A%20%20%20%20%20%20%20%20%0A%20%20%20%20%0A%20%20%20%20%0A%20%20%20%20%20%20%20%20%20%20%20%20var%20circle_marker_980d6ae5da3949a0a3d2bf7d178ccbbe%20%3D%20L.circleMarker%28%0A%20%20%20%20%20%20%20%20%20%20%20%20%20%20%20%20%5B-33.66%2C%20150.87%5D%2C%0A%20%20%20%20%20%20%20%20%20%20%20%20%20%20%20%20%7B%22bubblingMouseEvents%22%3A%20true%2C%20%22color%22%3A%20%22blue%22%2C%20%22dashArray%22%3A%20null%2C%20%22dashOffset%22%3A%20null%2C%20%22fill%22%3A%20true%2C%20%22fillColor%22%3A%20%22%233186cc%22%2C%20%22fillOpacity%22%3A%200.7%2C%20%22fillRule%22%3A%20%22evenodd%22%2C%20%22lineCap%22%3A%20%22round%22%2C%20%22lineJoin%22%3A%20%22round%22%2C%20%22opacity%22%3A%201.0%2C%20%22radius%22%3A%205%2C%20%22stroke%22%3A%20true%2C%20%22weight%22%3A%203%7D%0A%20%20%20%20%20%20%20%20%20%20%20%20%29.addTo%28map_840323d7b91641ae84a58829fc510e02%29%3B%0A%20%20%20%20%20%20%20%20%0A%20%20%20%20%0A%20%20%20%20%20%20%20%20var%20popup_20d404cfd3db47ed9dd8618634d2af64%20%3D%20L.popup%28%7B%22maxWidth%22%3A%20%22100%25%22%7D%29%3B%0A%0A%20%20%20%20%20%20%20%20%0A%20%20%20%20%20%20%20%20%20%20%20%20var%20html_869bddce84734d8999226f3dbbbdb112%20%3D%20%24%28%60%3Cdiv%20id%3D%22html_869bddce84734d8999226f3dbbbdb112%22%20style%3D%22width%3A%20100.0%25%3B%20height%3A%20100.0%25%3B%22%3ESydney%2C%20Sydney%3C/div%3E%60%29%5B0%5D%3B%0A%20%20%20%20%20%20%20%20%20%20%20%20popup_20d404cfd3db47ed9dd8618634d2af64.setContent%28html_869bddce84734d8999226f3dbbbdb112%29%3B%0A%20%20%20%20%20%20%20%20%0A%0A%20%20%20%20%20%20%20%20circle_marker_980d6ae5da3949a0a3d2bf7d178ccbbe.bindPopup%28popup_20d404cfd3db47ed9dd8618634d2af64%29%0A%20%20%20%20%20%20%20%20%3B%0A%0A%20%20%20%20%20%20%20%20%0A%20%20%20%20%0A%20%20%20%20%0A%20%20%20%20%20%20%20%20%20%20%20%20var%20circle_marker_cc0c4b1a717e4a58a080b5ddc7fe748e%20%3D%20L.circleMarker%28%0A%20%20%20%20%20%20%20%20%20%20%20%20%20%20%20%20%5B-29.82%2C%20151.66%5D%2C%0A%20%20%20%20%20%20%20%20%20%20%20%20%20%20%20%20%7B%22bubblingMouseEvents%22%3A%20true%2C%20%22color%22%3A%20%22blue%22%2C%20%22dashArray%22%3A%20null%2C%20%22dashOffset%22%3A%20null%2C%20%22fill%22%3A%20true%2C%20%22fillColor%22%3A%20%22%233186cc%22%2C%20%22fillOpacity%22%3A%200.7%2C%20%22fillRule%22%3A%20%22evenodd%22%2C%20%22lineCap%22%3A%20%22round%22%2C%20%22lineJoin%22%3A%20%22round%22%2C%20%22opacity%22%3A%201.0%2C%20%22radius%22%3A%205%2C%20%22stroke%22%3A%20true%2C%20%22weight%22%3A%203%7D%0A%20%20%20%20%20%20%20%20%20%20%20%20%29.addTo%28map_840323d7b91641ae84a58829fc510e02%29%3B%0A%20%20%20%20%20%20%20%20%0A%20%20%20%20%0A%20%20%20%20%20%20%20%20var%20popup_e0d498dcf4344b298b73db5d0c969e44%20%3D%20L.popup%28%7B%22maxWidth%22%3A%20%22100%25%22%7D%29%3B%0A%0A%20%20%20%20%20%20%20%20%0A%20%20%20%20%20%20%20%20%20%20%20%20var%20html_5e4045dc6eeb4bcaba948bfbdf89061c%20%3D%20%24%28%60%3Cdiv%20id%3D%22html_5e4045dc6eeb4bcaba948bfbdf89061c%22%20style%3D%22width%3A%20100.0%25%3B%20height%3A%20100.0%25%3B%22%3EHaymarket%2C%20Haymarket%2C%20Haymarket%2C%20Haymarket%2C%20Haymarket%2C%20Haymarket%3C/div%3E%60%29%5B0%5D%3B%0A%20%20%20%20%20%20%20%20%20%20%20%20popup_e0d498dcf4344b298b73db5d0c969e44.setContent%28html_5e4045dc6eeb4bcaba948bfbdf89061c%29%3B%0A%20%20%20%20%20%20%20%20%0A%0A%20%20%20%20%20%20%20%20circle_marker_cc0c4b1a717e4a58a080b5ddc7fe748e.bindPopup%28popup_e0d498dcf4344b298b73db5d0c969e44%29%0A%20%20%20%20%20%20%20%20%3B%0A%0A%20%20%20%20%20%20%20%20%0A%20%20%20%20%0A%3C/script%3E onload=\"this.contentDocument.open();this.contentDocument.write(    decodeURIComponent(this.getAttribute('data-html')));this.contentDocument.close();\" allowfullscreen webkitallowfullscreen mozallowfullscreen></iframe></div></div>"
      ],
      "text/plain": [
       "<folium.folium.Map at 0x7fbfa2834a00>"
      ]
     },
     "execution_count": 206,
     "metadata": {},
     "output_type": "execute_result"
    }
   ],
   "source": [
    "map_sydney = folium.Map(location=[latitude_sydney, longitude_sydney], zoom_start=10)\n",
    "\n",
    "# add markers to map\n",
    "for lat, lng, neighborhood in zip(sydney_data['Latitude'], sydney_data['Longitude'], sydney_data['Neighbourhood']):\n",
    "    label = '{}'.format(neighborhood)\n",
    "    label = folium.Popup(label, parse_html=True)\n",
    "    folium.CircleMarker(\n",
    "        [lat, lng],\n",
    "        radius=5,\n",
    "        popup=label,\n",
    "        color='blue',\n",
    "        fill=True,\n",
    "        fill_color='#3186cc',\n",
    "        fill_opacity=0.7,\n",
    "        parse_html=False).add_to(map_sydney)  \n",
    "map_sydney"
   ]
  },
  {
   "cell_type": "markdown",
   "metadata": {},
   "source": [
    "The map of Melbourne should look like this."
   ]
  },
  {
   "cell_type": "code",
   "execution_count": 207,
   "metadata": {},
   "outputs": [
    {
     "data": {
      "text/html": [
       "<div style=\"width:100%;\"><div style=\"position:relative;width:100%;height:0;padding-bottom:60%;\"><span style=\"color:#565656\">Make this Notebook Trusted to load map: File -> Trust Notebook</span><iframe src=\"about:blank\" style=\"position:absolute;width:100%;height:100%;left:0;top:0;border:none !important;\" data-html=%3C%21DOCTYPE%20html%3E%0A%3Chead%3E%20%20%20%20%0A%20%20%20%20%3Cmeta%20http-equiv%3D%22content-type%22%20content%3D%22text/html%3B%20charset%3DUTF-8%22%20/%3E%0A%20%20%20%20%0A%20%20%20%20%20%20%20%20%3Cscript%3E%0A%20%20%20%20%20%20%20%20%20%20%20%20L_NO_TOUCH%20%3D%20false%3B%0A%20%20%20%20%20%20%20%20%20%20%20%20L_DISABLE_3D%20%3D%20false%3B%0A%20%20%20%20%20%20%20%20%3C/script%3E%0A%20%20%20%20%0A%20%20%20%20%3Cstyle%3Ehtml%2C%20body%20%7Bwidth%3A%20100%25%3Bheight%3A%20100%25%3Bmargin%3A%200%3Bpadding%3A%200%3B%7D%3C/style%3E%0A%20%20%20%20%3Cstyle%3E%23map%20%7Bposition%3Aabsolute%3Btop%3A0%3Bbottom%3A0%3Bright%3A0%3Bleft%3A0%3B%7D%3C/style%3E%0A%20%20%20%20%3Cscript%20src%3D%22https%3A//cdn.jsdelivr.net/npm/leaflet%401.6.0/dist/leaflet.js%22%3E%3C/script%3E%0A%20%20%20%20%3Cscript%20src%3D%22https%3A//code.jquery.com/jquery-1.12.4.min.js%22%3E%3C/script%3E%0A%20%20%20%20%3Cscript%20src%3D%22https%3A//maxcdn.bootstrapcdn.com/bootstrap/3.2.0/js/bootstrap.min.js%22%3E%3C/script%3E%0A%20%20%20%20%3Cscript%20src%3D%22https%3A//cdnjs.cloudflare.com/ajax/libs/Leaflet.awesome-markers/2.0.2/leaflet.awesome-markers.js%22%3E%3C/script%3E%0A%20%20%20%20%3Clink%20rel%3D%22stylesheet%22%20href%3D%22https%3A//cdn.jsdelivr.net/npm/leaflet%401.6.0/dist/leaflet.css%22/%3E%0A%20%20%20%20%3Clink%20rel%3D%22stylesheet%22%20href%3D%22https%3A//maxcdn.bootstrapcdn.com/bootstrap/3.2.0/css/bootstrap.min.css%22/%3E%0A%20%20%20%20%3Clink%20rel%3D%22stylesheet%22%20href%3D%22https%3A//maxcdn.bootstrapcdn.com/bootstrap/3.2.0/css/bootstrap-theme.min.css%22/%3E%0A%20%20%20%20%3Clink%20rel%3D%22stylesheet%22%20href%3D%22https%3A//maxcdn.bootstrapcdn.com/font-awesome/4.6.3/css/font-awesome.min.css%22/%3E%0A%20%20%20%20%3Clink%20rel%3D%22stylesheet%22%20href%3D%22https%3A//cdnjs.cloudflare.com/ajax/libs/Leaflet.awesome-markers/2.0.2/leaflet.awesome-markers.css%22/%3E%0A%20%20%20%20%3Clink%20rel%3D%22stylesheet%22%20href%3D%22https%3A//cdn.jsdelivr.net/gh/python-visualization/folium/folium/templates/leaflet.awesome.rotate.min.css%22/%3E%0A%20%20%20%20%0A%20%20%20%20%20%20%20%20%20%20%20%20%3Cmeta%20name%3D%22viewport%22%20content%3D%22width%3Ddevice-width%2C%0A%20%20%20%20%20%20%20%20%20%20%20%20%20%20%20%20initial-scale%3D1.0%2C%20maximum-scale%3D1.0%2C%20user-scalable%3Dno%22%20/%3E%0A%20%20%20%20%20%20%20%20%20%20%20%20%3Cstyle%3E%0A%20%20%20%20%20%20%20%20%20%20%20%20%20%20%20%20%23map_591db9d874e3465caffc9a34a3b10310%20%7B%0A%20%20%20%20%20%20%20%20%20%20%20%20%20%20%20%20%20%20%20%20position%3A%20relative%3B%0A%20%20%20%20%20%20%20%20%20%20%20%20%20%20%20%20%20%20%20%20width%3A%20100.0%25%3B%0A%20%20%20%20%20%20%20%20%20%20%20%20%20%20%20%20%20%20%20%20height%3A%20100.0%25%3B%0A%20%20%20%20%20%20%20%20%20%20%20%20%20%20%20%20%20%20%20%20left%3A%200.0%25%3B%0A%20%20%20%20%20%20%20%20%20%20%20%20%20%20%20%20%20%20%20%20top%3A%200.0%25%3B%0A%20%20%20%20%20%20%20%20%20%20%20%20%20%20%20%20%7D%0A%20%20%20%20%20%20%20%20%20%20%20%20%3C/style%3E%0A%20%20%20%20%20%20%20%20%0A%3C/head%3E%0A%3Cbody%3E%20%20%20%20%0A%20%20%20%20%0A%20%20%20%20%20%20%20%20%20%20%20%20%3Cdiv%20class%3D%22folium-map%22%20id%3D%22map_591db9d874e3465caffc9a34a3b10310%22%20%3E%3C/div%3E%0A%20%20%20%20%20%20%20%20%0A%3C/body%3E%0A%3Cscript%3E%20%20%20%20%0A%20%20%20%20%0A%20%20%20%20%20%20%20%20%20%20%20%20var%20map_591db9d874e3465caffc9a34a3b10310%20%3D%20L.map%28%0A%20%20%20%20%20%20%20%20%20%20%20%20%20%20%20%20%22map_591db9d874e3465caffc9a34a3b10310%22%2C%0A%20%20%20%20%20%20%20%20%20%20%20%20%20%20%20%20%7B%0A%20%20%20%20%20%20%20%20%20%20%20%20%20%20%20%20%20%20%20%20center%3A%20%5B-37.8142176%2C%20144.9631608%5D%2C%0A%20%20%20%20%20%20%20%20%20%20%20%20%20%20%20%20%20%20%20%20crs%3A%20L.CRS.EPSG3857%2C%0A%20%20%20%20%20%20%20%20%20%20%20%20%20%20%20%20%20%20%20%20zoom%3A%2010%2C%0A%20%20%20%20%20%20%20%20%20%20%20%20%20%20%20%20%20%20%20%20zoomControl%3A%20true%2C%0A%20%20%20%20%20%20%20%20%20%20%20%20%20%20%20%20%20%20%20%20preferCanvas%3A%20false%2C%0A%20%20%20%20%20%20%20%20%20%20%20%20%20%20%20%20%7D%0A%20%20%20%20%20%20%20%20%20%20%20%20%29%3B%0A%0A%20%20%20%20%20%20%20%20%20%20%20%20%0A%0A%20%20%20%20%20%20%20%20%0A%20%20%20%20%0A%20%20%20%20%20%20%20%20%20%20%20%20var%20tile_layer_46431930b96948c2b3aa180d19f453a1%20%3D%20L.tileLayer%28%0A%20%20%20%20%20%20%20%20%20%20%20%20%20%20%20%20%22https%3A//%7Bs%7D.tile.openstreetmap.org/%7Bz%7D/%7Bx%7D/%7By%7D.png%22%2C%0A%20%20%20%20%20%20%20%20%20%20%20%20%20%20%20%20%7B%22attribution%22%3A%20%22Data%20by%20%5Cu0026copy%3B%20%5Cu003ca%20href%3D%5C%22http%3A//openstreetmap.org%5C%22%5Cu003eOpenStreetMap%5Cu003c/a%5Cu003e%2C%20under%20%5Cu003ca%20href%3D%5C%22http%3A//www.openstreetmap.org/copyright%5C%22%5Cu003eODbL%5Cu003c/a%5Cu003e.%22%2C%20%22detectRetina%22%3A%20false%2C%20%22maxNativeZoom%22%3A%2018%2C%20%22maxZoom%22%3A%2018%2C%20%22minZoom%22%3A%200%2C%20%22noWrap%22%3A%20false%2C%20%22opacity%22%3A%201%2C%20%22subdomains%22%3A%20%22abc%22%2C%20%22tms%22%3A%20false%7D%0A%20%20%20%20%20%20%20%20%20%20%20%20%29.addTo%28map_591db9d874e3465caffc9a34a3b10310%29%3B%0A%20%20%20%20%20%20%20%20%0A%20%20%20%20%0A%20%20%20%20%20%20%20%20%20%20%20%20var%20circle_marker_ea9663b2ccd84a34849773d4d118e2ad%20%3D%20L.circleMarker%28%0A%20%20%20%20%20%20%20%20%20%20%20%20%20%20%20%20%5B-38.37%2C%20144.77%5D%2C%0A%20%20%20%20%20%20%20%20%20%20%20%20%20%20%20%20%7B%22bubblingMouseEvents%22%3A%20true%2C%20%22color%22%3A%20%22blue%22%2C%20%22dashArray%22%3A%20null%2C%20%22dashOffset%22%3A%20null%2C%20%22fill%22%3A%20true%2C%20%22fillColor%22%3A%20%22%233186cc%22%2C%20%22fillOpacity%22%3A%200.7%2C%20%22fillRule%22%3A%20%22evenodd%22%2C%20%22lineCap%22%3A%20%22round%22%2C%20%22lineJoin%22%3A%20%22round%22%2C%20%22opacity%22%3A%201.0%2C%20%22radius%22%3A%205%2C%20%22stroke%22%3A%20true%2C%20%22weight%22%3A%203%7D%0A%20%20%20%20%20%20%20%20%20%20%20%20%29.addTo%28map_591db9d874e3465caffc9a34a3b10310%29%3B%0A%20%20%20%20%20%20%20%20%0A%20%20%20%20%0A%20%20%20%20%20%20%20%20var%20popup_ed72a35da8334693ba29ea199b5cf74d%20%3D%20L.popup%28%7B%22maxWidth%22%3A%20%22100%25%22%7D%29%3B%0A%0A%20%20%20%20%20%20%20%20%0A%20%20%20%20%20%20%20%20%20%20%20%20var%20html_0b09ca23fadc43d982a5c077f99802a5%20%3D%20%24%28%60%3Cdiv%20id%3D%22html_0b09ca23fadc43d982a5c077f99802a5%22%20style%3D%22width%3A%20100.0%25%3B%20height%3A%20100.0%25%3B%22%3EMelbourne%2C%20Melbourne%2C%20Melbourne%2C%20Melbourne%2C%20Melbourne%2C%20Melbourne%2C%20Melbourne%2C%20Melbourne%2C%20Melbourne%2C%20Melbourne%2C%20Melbourne%2C%20Melbourne%2C%20Melbourne%2C%20Melbourne%2C%20Melbourne%2C%20Melbourne%2C%20Melbourne%2C%20Melbourne%2C%20Melbourne%2C%20Melbourne%2C%20Melbourne%2C%20Melbourne%2C%20Melbourne%2C%20Melbourne%2C%20Melbourne%3C/div%3E%60%29%5B0%5D%3B%0A%20%20%20%20%20%20%20%20%20%20%20%20popup_ed72a35da8334693ba29ea199b5cf74d.setContent%28html_0b09ca23fadc43d982a5c077f99802a5%29%3B%0A%20%20%20%20%20%20%20%20%0A%0A%20%20%20%20%20%20%20%20circle_marker_ea9663b2ccd84a34849773d4d118e2ad.bindPopup%28popup_ed72a35da8334693ba29ea199b5cf74d%29%0A%20%20%20%20%20%20%20%20%3B%0A%0A%20%20%20%20%20%20%20%20%0A%20%20%20%20%0A%20%20%20%20%0A%20%20%20%20%20%20%20%20%20%20%20%20var%20circle_marker_63e9fbde7c0a41b5923b98fd3466c17c%20%3D%20L.circleMarker%28%0A%20%20%20%20%20%20%20%20%20%20%20%20%20%20%20%20%5B-38.19%2C%20146.29%5D%2C%0A%20%20%20%20%20%20%20%20%20%20%20%20%20%20%20%20%7B%22bubblingMouseEvents%22%3A%20true%2C%20%22color%22%3A%20%22blue%22%2C%20%22dashArray%22%3A%20null%2C%20%22dashOffset%22%3A%20null%2C%20%22fill%22%3A%20true%2C%20%22fillColor%22%3A%20%22%233186cc%22%2C%20%22fillOpacity%22%3A%200.7%2C%20%22fillRule%22%3A%20%22evenodd%22%2C%20%22lineCap%22%3A%20%22round%22%2C%20%22lineJoin%22%3A%20%22round%22%2C%20%22opacity%22%3A%201.0%2C%20%22radius%22%3A%205%2C%20%22stroke%22%3A%20true%2C%20%22weight%22%3A%203%7D%0A%20%20%20%20%20%20%20%20%20%20%20%20%29.addTo%28map_591db9d874e3465caffc9a34a3b10310%29%3B%0A%20%20%20%20%20%20%20%20%0A%20%20%20%20%0A%20%20%20%20%20%20%20%20var%20popup_8f0056ddc6d8470cad3f1884e54ccf3f%20%3D%20L.popup%28%7B%22maxWidth%22%3A%20%22100%25%22%7D%29%3B%0A%0A%20%20%20%20%20%20%20%20%0A%20%20%20%20%20%20%20%20%20%20%20%20var%20html_a724d09c59fd4e5f818baf4e5eddaeb6%20%3D%20%24%28%60%3Cdiv%20id%3D%22html_a724d09c59fd4e5f818baf4e5eddaeb6%22%20style%3D%22width%3A%20100.0%25%3B%20height%3A%20100.0%25%3B%22%3ELaw%20Courts%3C/div%3E%60%29%5B0%5D%3B%0A%20%20%20%20%20%20%20%20%20%20%20%20popup_8f0056ddc6d8470cad3f1884e54ccf3f.setContent%28html_a724d09c59fd4e5f818baf4e5eddaeb6%29%3B%0A%20%20%20%20%20%20%20%20%0A%0A%20%20%20%20%20%20%20%20circle_marker_63e9fbde7c0a41b5923b98fd3466c17c.bindPopup%28popup_8f0056ddc6d8470cad3f1884e54ccf3f%29%0A%20%20%20%20%20%20%20%20%3B%0A%0A%20%20%20%20%20%20%20%20%0A%20%20%20%20%0A%20%20%20%20%0A%20%20%20%20%20%20%20%20%20%20%20%20var%20circle_marker_c286f714de12409ba171da3624c894c3%20%3D%20L.circleMarker%28%0A%20%20%20%20%20%20%20%20%20%20%20%20%20%20%20%20%5B-38.11%2C%20145.15%5D%2C%0A%20%20%20%20%20%20%20%20%20%20%20%20%20%20%20%20%7B%22bubblingMouseEvents%22%3A%20true%2C%20%22color%22%3A%20%22blue%22%2C%20%22dashArray%22%3A%20null%2C%20%22dashOffset%22%3A%20null%2C%20%22fill%22%3A%20true%2C%20%22fillColor%22%3A%20%22%233186cc%22%2C%20%22fillOpacity%22%3A%200.7%2C%20%22fillRule%22%3A%20%22evenodd%22%2C%20%22lineCap%22%3A%20%22round%22%2C%20%22lineJoin%22%3A%20%22round%22%2C%20%22opacity%22%3A%201.0%2C%20%22radius%22%3A%205%2C%20%22stroke%22%3A%20true%2C%20%22weight%22%3A%203%7D%0A%20%20%20%20%20%20%20%20%20%20%20%20%29.addTo%28map_591db9d874e3465caffc9a34a3b10310%29%3B%0A%20%20%20%20%20%20%20%20%0A%20%20%20%20%0A%20%20%20%20%20%20%20%20var%20popup_98d967b7868f41a3af664e21a97dbb12%20%3D%20L.popup%28%7B%22maxWidth%22%3A%20%22100%25%22%7D%29%3B%0A%0A%20%20%20%20%20%20%20%20%0A%20%20%20%20%20%20%20%20%20%20%20%20var%20html_3f96e377f2174539ac1614e620f0b078%20%3D%20%24%28%60%3Cdiv%20id%3D%22html_3f96e377f2174539ac1614e620f0b078%22%20style%3D%22width%3A%20100.0%25%3B%20height%3A%20100.0%25%3B%22%3EEast%20Melbourne%3C/div%3E%60%29%5B0%5D%3B%0A%20%20%20%20%20%20%20%20%20%20%20%20popup_98d967b7868f41a3af664e21a97dbb12.setContent%28html_3f96e377f2174539ac1614e620f0b078%29%3B%0A%20%20%20%20%20%20%20%20%0A%0A%20%20%20%20%20%20%20%20circle_marker_c286f714de12409ba171da3624c894c3.bindPopup%28popup_98d967b7868f41a3af664e21a97dbb12%29%0A%20%20%20%20%20%20%20%20%3B%0A%0A%20%20%20%20%20%20%20%20%0A%20%20%20%20%0A%20%20%20%20%0A%20%20%20%20%20%20%20%20%20%20%20%20var%20circle_marker_bc66eba7a2934ba4a4767ffd1fba1f01%20%3D%20L.circleMarker%28%0A%20%20%20%20%20%20%20%20%20%20%20%20%20%20%20%20%5B-37.93%2C%20145.03%5D%2C%0A%20%20%20%20%20%20%20%20%20%20%20%20%20%20%20%20%7B%22bubblingMouseEvents%22%3A%20true%2C%20%22color%22%3A%20%22blue%22%2C%20%22dashArray%22%3A%20null%2C%20%22dashOffset%22%3A%20null%2C%20%22fill%22%3A%20true%2C%20%22fillColor%22%3A%20%22%233186cc%22%2C%20%22fillOpacity%22%3A%200.7%2C%20%22fillRule%22%3A%20%22evenodd%22%2C%20%22lineCap%22%3A%20%22round%22%2C%20%22lineJoin%22%3A%20%22round%22%2C%20%22opacity%22%3A%201.0%2C%20%22radius%22%3A%205%2C%20%22stroke%22%3A%20true%2C%20%22weight%22%3A%203%7D%0A%20%20%20%20%20%20%20%20%20%20%20%20%29.addTo%28map_591db9d874e3465caffc9a34a3b10310%29%3B%0A%20%20%20%20%20%20%20%20%0A%20%20%20%20%0A%20%20%20%20%20%20%20%20var%20popup_946fc682aae6483c893559fc793dbf2a%20%3D%20L.popup%28%7B%22maxWidth%22%3A%20%22100%25%22%7D%29%3B%0A%0A%20%20%20%20%20%20%20%20%0A%20%20%20%20%20%20%20%20%20%20%20%20var%20html_9f6b5ae4f16746b5a577e74739fc10fd%20%3D%20%24%28%60%3Cdiv%20id%3D%22html_9f6b5ae4f16746b5a577e74739fc10fd%22%20style%3D%22width%3A%20100.0%25%3B%20height%3A%20100.0%25%3B%22%3ESouth%20Melbourne%2C%20South%20Melbourne%20DC%3C/div%3E%60%29%5B0%5D%3B%0A%20%20%20%20%20%20%20%20%20%20%20%20popup_946fc682aae6483c893559fc793dbf2a.setContent%28html_9f6b5ae4f16746b5a577e74739fc10fd%29%3B%0A%20%20%20%20%20%20%20%20%0A%0A%20%20%20%20%20%20%20%20circle_marker_bc66eba7a2934ba4a4767ffd1fba1f01.bindPopup%28popup_946fc682aae6483c893559fc793dbf2a%29%0A%20%20%20%20%20%20%20%20%3B%0A%0A%20%20%20%20%20%20%20%20%0A%20%20%20%20%0A%20%20%20%20%0A%20%20%20%20%20%20%20%20%20%20%20%20var%20circle_marker_52efc90a569f408aa3d8e3d7aeb05b30%20%3D%20L.circleMarker%28%0A%20%20%20%20%20%20%20%20%20%20%20%20%20%20%20%20%5B-37.84%2C%20144.98%5D%2C%0A%20%20%20%20%20%20%20%20%20%20%20%20%20%20%20%20%7B%22bubblingMouseEvents%22%3A%20true%2C%20%22color%22%3A%20%22blue%22%2C%20%22dashArray%22%3A%20null%2C%20%22dashOffset%22%3A%20null%2C%20%22fill%22%3A%20true%2C%20%22fillColor%22%3A%20%22%233186cc%22%2C%20%22fillOpacity%22%3A%200.7%2C%20%22fillRule%22%3A%20%22evenodd%22%2C%20%22lineCap%22%3A%20%22round%22%2C%20%22lineJoin%22%3A%20%22round%22%2C%20%22opacity%22%3A%201.0%2C%20%22radius%22%3A%205%2C%20%22stroke%22%3A%20true%2C%20%22weight%22%3A%203%7D%0A%20%20%20%20%20%20%20%20%20%20%20%20%29.addTo%28map_591db9d874e3465caffc9a34a3b10310%29%3B%0A%20%20%20%20%20%20%20%20%0A%20%20%20%20%0A%20%20%20%20%20%20%20%20var%20popup_b5696bfb4fb34df9b528443c29ba01df%20%3D%20L.popup%28%7B%22maxWidth%22%3A%20%22100%25%22%7D%29%3B%0A%0A%20%20%20%20%20%20%20%20%0A%20%20%20%20%20%20%20%20%20%20%20%20var%20html_49f83c03d29f4799a37cb1d38168c7eb%20%3D%20%24%28%60%3Cdiv%20id%3D%22html_49f83c03d29f4799a37cb1d38168c7eb%22%20style%3D%22width%3A%20100.0%25%3B%20height%3A%20100.0%25%3B%22%3EMelbourne%2C%20St%20Kilda%20Road%20Central%2C%20St%20Kilda%20Road%3C/div%3E%60%29%5B0%5D%3B%0A%20%20%20%20%20%20%20%20%20%20%20%20popup_b5696bfb4fb34df9b528443c29ba01df.setContent%28html_49f83c03d29f4799a37cb1d38168c7eb%29%3B%0A%20%20%20%20%20%20%20%20%0A%0A%20%20%20%20%20%20%20%20circle_marker_52efc90a569f408aa3d8e3d7aeb05b30.bindPopup%28popup_b5696bfb4fb34df9b528443c29ba01df%29%0A%20%20%20%20%20%20%20%20%3B%0A%0A%20%20%20%20%20%20%20%20%0A%20%20%20%20%0A%20%20%20%20%0A%20%20%20%20%20%20%20%20%20%20%20%20var%20circle_marker_ca9cb7e9f4a5449a81cb856b888591bb%20%3D%20L.circleMarker%28%0A%20%20%20%20%20%20%20%20%20%20%20%20%20%20%20%20%5B-37.82%2C%20144.95%5D%2C%0A%20%20%20%20%20%20%20%20%20%20%20%20%20%20%20%20%7B%22bubblingMouseEvents%22%3A%20true%2C%20%22color%22%3A%20%22blue%22%2C%20%22dashArray%22%3A%20null%2C%20%22dashOffset%22%3A%20null%2C%20%22fill%22%3A%20true%2C%20%22fillColor%22%3A%20%22%233186cc%22%2C%20%22fillOpacity%22%3A%200.7%2C%20%22fillRule%22%3A%20%22evenodd%22%2C%20%22lineCap%22%3A%20%22round%22%2C%20%22lineJoin%22%3A%20%22round%22%2C%20%22opacity%22%3A%201.0%2C%20%22radius%22%3A%205%2C%20%22stroke%22%3A%20true%2C%20%22weight%22%3A%203%7D%0A%20%20%20%20%20%20%20%20%20%20%20%20%29.addTo%28map_591db9d874e3465caffc9a34a3b10310%29%3B%0A%20%20%20%20%20%20%20%20%0A%20%20%20%20%0A%20%20%20%20%20%20%20%20var%20popup_58ee4321286447a198c53e3e6329da26%20%3D%20L.popup%28%7B%22maxWidth%22%3A%20%22100%25%22%7D%29%3B%0A%0A%20%20%20%20%20%20%20%20%0A%20%20%20%20%20%20%20%20%20%20%20%20var%20html_36a43bad4d584128a1929b062fbc4458%20%3D%20%24%28%60%3Cdiv%20id%3D%22html_36a43bad4d584128a1929b062fbc4458%22%20style%3D%22width%3A%20100.0%25%3B%20height%3A%20100.0%25%3B%22%3EWorld%20Trade%20Centre%2C%20World%20Trade%20Centre%3C/div%3E%60%29%5B0%5D%3B%0A%20%20%20%20%20%20%20%20%20%20%20%20popup_58ee4321286447a198c53e3e6329da26.setContent%28html_36a43bad4d584128a1929b062fbc4458%29%3B%0A%20%20%20%20%20%20%20%20%0A%0A%20%20%20%20%20%20%20%20circle_marker_ca9cb7e9f4a5449a81cb856b888591bb.bindPopup%28popup_58ee4321286447a198c53e3e6329da26%29%0A%20%20%20%20%20%20%20%20%3B%0A%0A%20%20%20%20%20%20%20%20%0A%20%20%20%20%0A%20%20%20%20%0A%20%20%20%20%20%20%20%20%20%20%20%20var%20circle_marker_b6b8f1722f214b65bb24c6aada926de9%20%3D%20L.circleMarker%28%0A%20%20%20%20%20%20%20%20%20%20%20%20%20%20%20%20%5B-37.82%2C%20144.96%5D%2C%0A%20%20%20%20%20%20%20%20%20%20%20%20%20%20%20%20%7B%22bubblingMouseEvents%22%3A%20true%2C%20%22color%22%3A%20%22blue%22%2C%20%22dashArray%22%3A%20null%2C%20%22dashOffset%22%3A%20null%2C%20%22fill%22%3A%20true%2C%20%22fillColor%22%3A%20%22%233186cc%22%2C%20%22fillOpacity%22%3A%200.7%2C%20%22fillRule%22%3A%20%22evenodd%22%2C%20%22lineCap%22%3A%20%22round%22%2C%20%22lineJoin%22%3A%20%22round%22%2C%20%22opacity%22%3A%201.0%2C%20%22radius%22%3A%205%2C%20%22stroke%22%3A%20true%2C%20%22weight%22%3A%203%7D%0A%20%20%20%20%20%20%20%20%20%20%20%20%29.addTo%28map_591db9d874e3465caffc9a34a3b10310%29%3B%0A%20%20%20%20%20%20%20%20%0A%20%20%20%20%0A%20%20%20%20%20%20%20%20var%20popup_b2969cb8ecf84337a31d17dbe1f30b56%20%3D%20L.popup%28%7B%22maxWidth%22%3A%20%22100%25%22%7D%29%3B%0A%0A%20%20%20%20%20%20%20%20%0A%20%20%20%20%20%20%20%20%20%20%20%20var%20html_62f393ba596e4c03b46c13875df3d66e%20%3D%20%24%28%60%3Cdiv%20id%3D%22html_62f393ba596e4c03b46c13875df3d66e%22%20style%3D%22width%3A%20100.0%25%3B%20height%3A%20100.0%25%3B%22%3EFlinders%20Lane%3C/div%3E%60%29%5B0%5D%3B%0A%20%20%20%20%20%20%20%20%20%20%20%20popup_b2969cb8ecf84337a31d17dbe1f30b56.setContent%28html_62f393ba596e4c03b46c13875df3d66e%29%3B%0A%20%20%20%20%20%20%20%20%0A%0A%20%20%20%20%20%20%20%20circle_marker_b6b8f1722f214b65bb24c6aada926de9.bindPopup%28popup_b2969cb8ecf84337a31d17dbe1f30b56%29%0A%20%20%20%20%20%20%20%20%3B%0A%0A%20%20%20%20%20%20%20%20%0A%20%20%20%20%0A%20%20%20%20%0A%20%20%20%20%20%20%20%20%20%20%20%20var%20circle_marker_e7fc785d351849bc8516d22bfbfc8280%20%3D%20L.circleMarker%28%0A%20%20%20%20%20%20%20%20%20%20%20%20%20%20%20%20%5B-37.82%2C%20144.97%5D%2C%0A%20%20%20%20%20%20%20%20%20%20%20%20%20%20%20%20%7B%22bubblingMouseEvents%22%3A%20true%2C%20%22color%22%3A%20%22blue%22%2C%20%22dashArray%22%3A%20null%2C%20%22dashOffset%22%3A%20null%2C%20%22fill%22%3A%20true%2C%20%22fillColor%22%3A%20%22%233186cc%22%2C%20%22fillOpacity%22%3A%200.7%2C%20%22fillRule%22%3A%20%22evenodd%22%2C%20%22lineCap%22%3A%20%22round%22%2C%20%22lineJoin%22%3A%20%22round%22%2C%20%22opacity%22%3A%201.0%2C%20%22radius%22%3A%205%2C%20%22stroke%22%3A%20true%2C%20%22weight%22%3A%203%7D%0A%20%20%20%20%20%20%20%20%20%20%20%20%29.addTo%28map_591db9d874e3465caffc9a34a3b10310%29%3B%0A%20%20%20%20%20%20%20%20%0A%20%20%20%20%0A%20%20%20%20%20%20%20%20var%20popup_cba57cc88df741e0977a25077577533c%20%3D%20L.popup%28%7B%22maxWidth%22%3A%20%22100%25%22%7D%29%3B%0A%0A%20%20%20%20%20%20%20%20%0A%20%20%20%20%20%20%20%20%20%20%20%20var%20html_afd12814d75442cfab500be1061b01c8%20%3D%20%24%28%60%3Cdiv%20id%3D%22html_afd12814d75442cfab500be1061b01c8%22%20style%3D%22width%3A%20100.0%25%3B%20height%3A%20100.0%25%3B%22%3ESouth%20Wharf%2C%20Southbank%3C/div%3E%60%29%5B0%5D%3B%0A%20%20%20%20%20%20%20%20%20%20%20%20popup_cba57cc88df741e0977a25077577533c.setContent%28html_afd12814d75442cfab500be1061b01c8%29%3B%0A%20%20%20%20%20%20%20%20%0A%0A%20%20%20%20%20%20%20%20circle_marker_e7fc785d351849bc8516d22bfbfc8280.bindPopup%28popup_cba57cc88df741e0977a25077577533c%29%0A%20%20%20%20%20%20%20%20%3B%0A%0A%20%20%20%20%20%20%20%20%0A%20%20%20%20%0A%20%20%20%20%0A%20%20%20%20%20%20%20%20%20%20%20%20var%20circle_marker_a4372706370f417fafa28360b9775b2e%20%3D%20L.circleMarker%28%0A%20%20%20%20%20%20%20%20%20%20%20%20%20%20%20%20%5B-37.82%2C%20144.99%5D%2C%0A%20%20%20%20%20%20%20%20%20%20%20%20%20%20%20%20%7B%22bubblingMouseEvents%22%3A%20true%2C%20%22color%22%3A%20%22blue%22%2C%20%22dashArray%22%3A%20null%2C%20%22dashOffset%22%3A%20null%2C%20%22fill%22%3A%20true%2C%20%22fillColor%22%3A%20%22%233186cc%22%2C%20%22fillOpacity%22%3A%200.7%2C%20%22fillRule%22%3A%20%22evenodd%22%2C%20%22lineCap%22%3A%20%22round%22%2C%20%22lineJoin%22%3A%20%22round%22%2C%20%22opacity%22%3A%201.0%2C%20%22radius%22%3A%205%2C%20%22stroke%22%3A%20true%2C%20%22weight%22%3A%203%7D%0A%20%20%20%20%20%20%20%20%20%20%20%20%29.addTo%28map_591db9d874e3465caffc9a34a3b10310%29%3B%0A%20%20%20%20%20%20%20%20%0A%20%20%20%20%0A%20%20%20%20%20%20%20%20var%20popup_72d5aeae324e49549fa94fcc79b885a8%20%3D%20L.popup%28%7B%22maxWidth%22%3A%20%22100%25%22%7D%29%3B%0A%0A%20%20%20%20%20%20%20%20%0A%20%20%20%20%20%20%20%20%20%20%20%20var%20html_8edf1b725e3e45168f14e8ba55dca081%20%3D%20%24%28%60%3Cdiv%20id%3D%22html_8edf1b725e3e45168f14e8ba55dca081%22%20style%3D%22width%3A%20100.0%25%3B%20height%3A%20100.0%25%3B%22%3EEast%20Melbourne%3C/div%3E%60%29%5B0%5D%3B%0A%20%20%20%20%20%20%20%20%20%20%20%20popup_72d5aeae324e49549fa94fcc79b885a8.setContent%28html_8edf1b725e3e45168f14e8ba55dca081%29%3B%0A%20%20%20%20%20%20%20%20%0A%0A%20%20%20%20%20%20%20%20circle_marker_a4372706370f417fafa28360b9775b2e.bindPopup%28popup_72d5aeae324e49549fa94fcc79b885a8%29%0A%20%20%20%20%20%20%20%20%3B%0A%0A%20%20%20%20%20%20%20%20%0A%20%20%20%20%0A%20%20%20%20%0A%20%20%20%20%20%20%20%20%20%20%20%20var%20circle_marker_6b2baa4895f546f4b2d28a2f3efe9d9e%20%3D%20L.circleMarker%28%0A%20%20%20%20%20%20%20%20%20%20%20%20%20%20%20%20%5B-37.81%2C%20144.94%5D%2C%0A%20%20%20%20%20%20%20%20%20%20%20%20%20%20%20%20%7B%22bubblingMouseEvents%22%3A%20true%2C%20%22color%22%3A%20%22blue%22%2C%20%22dashArray%22%3A%20null%2C%20%22dashOffset%22%3A%20null%2C%20%22fill%22%3A%20true%2C%20%22fillColor%22%3A%20%22%233186cc%22%2C%20%22fillOpacity%22%3A%200.7%2C%20%22fillRule%22%3A%20%22evenodd%22%2C%20%22lineCap%22%3A%20%22round%22%2C%20%22lineJoin%22%3A%20%22round%22%2C%20%22opacity%22%3A%201.0%2C%20%22radius%22%3A%205%2C%20%22stroke%22%3A%20true%2C%20%22weight%22%3A%203%7D%0A%20%20%20%20%20%20%20%20%20%20%20%20%29.addTo%28map_591db9d874e3465caffc9a34a3b10310%29%3B%0A%20%20%20%20%20%20%20%20%0A%20%20%20%20%0A%20%20%20%20%20%20%20%20var%20popup_27d5536988694142b5d3ad72c6ebe80f%20%3D%20L.popup%28%7B%22maxWidth%22%3A%20%22100%25%22%7D%29%3B%0A%0A%20%20%20%20%20%20%20%20%0A%20%20%20%20%20%20%20%20%20%20%20%20var%20html_68e7f2d2112f43f2ac62aa70c0785275%20%3D%20%24%28%60%3Cdiv%20id%3D%22html_68e7f2d2112f43f2ac62aa70c0785275%22%20style%3D%22width%3A%20100.0%25%3B%20height%3A%20100.0%25%3B%22%3EWest%20Melbourne%3C/div%3E%60%29%5B0%5D%3B%0A%20%20%20%20%20%20%20%20%20%20%20%20popup_27d5536988694142b5d3ad72c6ebe80f.setContent%28html_68e7f2d2112f43f2ac62aa70c0785275%29%3B%0A%20%20%20%20%20%20%20%20%0A%0A%20%20%20%20%20%20%20%20circle_marker_6b2baa4895f546f4b2d28a2f3efe9d9e.bindPopup%28popup_27d5536988694142b5d3ad72c6ebe80f%29%0A%20%20%20%20%20%20%20%20%3B%0A%0A%20%20%20%20%20%20%20%20%0A%20%20%20%20%0A%20%20%20%20%0A%20%20%20%20%20%20%20%20%20%20%20%20var%20circle_marker_cc5393960404450494d9c4c4b393a3ba%20%3D%20L.circleMarker%28%0A%20%20%20%20%20%20%20%20%20%20%20%20%20%20%20%20%5B-37.81%2C%20144.96%5D%2C%0A%20%20%20%20%20%20%20%20%20%20%20%20%20%20%20%20%7B%22bubblingMouseEvents%22%3A%20true%2C%20%22color%22%3A%20%22blue%22%2C%20%22dashArray%22%3A%20null%2C%20%22dashOffset%22%3A%20null%2C%20%22fill%22%3A%20true%2C%20%22fillColor%22%3A%20%22%233186cc%22%2C%20%22fillOpacity%22%3A%200.7%2C%20%22fillRule%22%3A%20%22evenodd%22%2C%20%22lineCap%22%3A%20%22round%22%2C%20%22lineJoin%22%3A%20%22round%22%2C%20%22opacity%22%3A%201.0%2C%20%22radius%22%3A%205%2C%20%22stroke%22%3A%20true%2C%20%22weight%22%3A%203%7D%0A%20%20%20%20%20%20%20%20%20%20%20%20%29.addTo%28map_591db9d874e3465caffc9a34a3b10310%29%3B%0A%20%20%20%20%20%20%20%20%0A%20%20%20%20%0A%20%20%20%20%20%20%20%20var%20popup_ff66ca8c600146639adc42c533c57d15%20%3D%20L.popup%28%7B%22maxWidth%22%3A%20%22100%25%22%7D%29%3B%0A%0A%20%20%20%20%20%20%20%20%0A%20%20%20%20%20%20%20%20%20%20%20%20var%20html_5b263696014e46c0b10cbaa2234f4169%20%3D%20%24%28%60%3Cdiv%20id%3D%22html_5b263696014e46c0b10cbaa2234f4169%22%20style%3D%22width%3A%20100.0%25%3B%20height%3A%20100.0%25%3B%22%3EAbeckett%20Street%2C%20Little%20Lonsdale%20Street%3C/div%3E%60%29%5B0%5D%3B%0A%20%20%20%20%20%20%20%20%20%20%20%20popup_ff66ca8c600146639adc42c533c57d15.setContent%28html_5b263696014e46c0b10cbaa2234f4169%29%3B%0A%20%20%20%20%20%20%20%20%0A%0A%20%20%20%20%20%20%20%20circle_marker_cc5393960404450494d9c4c4b393a3ba.bindPopup%28popup_ff66ca8c600146639adc42c533c57d15%29%0A%20%20%20%20%20%20%20%20%3B%0A%0A%20%20%20%20%20%20%20%20%0A%20%20%20%20%0A%20%20%20%20%0A%20%20%20%20%20%20%20%20%20%20%20%20var%20circle_marker_9ce4049f20e0417688de3a92b44f275e%20%3D%20L.circleMarker%28%0A%20%20%20%20%20%20%20%20%20%20%20%20%20%20%20%20%5B-37.81%2C%20144.97%5D%2C%0A%20%20%20%20%20%20%20%20%20%20%20%20%20%20%20%20%7B%22bubblingMouseEvents%22%3A%20true%2C%20%22color%22%3A%20%22blue%22%2C%20%22dashArray%22%3A%20null%2C%20%22dashOffset%22%3A%20null%2C%20%22fill%22%3A%20true%2C%20%22fillColor%22%3A%20%22%233186cc%22%2C%20%22fillOpacity%22%3A%200.7%2C%20%22fillRule%22%3A%20%22evenodd%22%2C%20%22lineCap%22%3A%20%22round%22%2C%20%22lineJoin%22%3A%20%22round%22%2C%20%22opacity%22%3A%201.0%2C%20%22radius%22%3A%205%2C%20%22stroke%22%3A%20true%2C%20%22weight%22%3A%203%7D%0A%20%20%20%20%20%20%20%20%20%20%20%20%29.addTo%28map_591db9d874e3465caffc9a34a3b10310%29%3B%0A%20%20%20%20%20%20%20%20%0A%20%20%20%20%0A%20%20%20%20%20%20%20%20var%20popup_d7a3cb11b6554978b8200cf934fa2f37%20%3D%20L.popup%28%7B%22maxWidth%22%3A%20%22100%25%22%7D%29%3B%0A%0A%20%20%20%20%20%20%20%20%0A%20%20%20%20%20%20%20%20%20%20%20%20var%20html_afb9c2dac18240f9a8c20527356f7d55%20%3D%20%24%28%60%3Cdiv%20id%3D%22html_afb9c2dac18240f9a8c20527356f7d55%22%20style%3D%22width%3A%20100.0%25%3B%20height%3A%20100.0%25%3B%22%3EMelbourne%3C/div%3E%60%29%5B0%5D%3B%0A%20%20%20%20%20%20%20%20%20%20%20%20popup_d7a3cb11b6554978b8200cf934fa2f37.setContent%28html_afb9c2dac18240f9a8c20527356f7d55%29%3B%0A%20%20%20%20%20%20%20%20%0A%0A%20%20%20%20%20%20%20%20circle_marker_9ce4049f20e0417688de3a92b44f275e.bindPopup%28popup_d7a3cb11b6554978b8200cf934fa2f37%29%0A%20%20%20%20%20%20%20%20%3B%0A%0A%20%20%20%20%20%20%20%20%0A%20%20%20%20%0A%20%20%20%20%0A%20%20%20%20%20%20%20%20%20%20%20%20var%20circle_marker_cf9a460a34784362b1d3df02e18795bb%20%3D%20L.circleMarker%28%0A%20%20%20%20%20%20%20%20%20%20%20%20%20%20%20%20%5B0.0%2C%200.0%5D%2C%0A%20%20%20%20%20%20%20%20%20%20%20%20%20%20%20%20%7B%22bubblingMouseEvents%22%3A%20true%2C%20%22color%22%3A%20%22blue%22%2C%20%22dashArray%22%3A%20null%2C%20%22dashOffset%22%3A%20null%2C%20%22fill%22%3A%20true%2C%20%22fillColor%22%3A%20%22%233186cc%22%2C%20%22fillOpacity%22%3A%200.7%2C%20%22fillRule%22%3A%20%22evenodd%22%2C%20%22lineCap%22%3A%20%22round%22%2C%20%22lineJoin%22%3A%20%22round%22%2C%20%22opacity%22%3A%201.0%2C%20%22radius%22%3A%205%2C%20%22stroke%22%3A%20true%2C%20%22weight%22%3A%203%7D%0A%20%20%20%20%20%20%20%20%20%20%20%20%29.addTo%28map_591db9d874e3465caffc9a34a3b10310%29%3B%0A%20%20%20%20%20%20%20%20%0A%20%20%20%20%0A%20%20%20%20%20%20%20%20var%20popup_eed66d5ab02d4498940005a3dcf95950%20%3D%20L.popup%28%7B%22maxWidth%22%3A%20%22100%25%22%7D%29%3B%0A%0A%20%20%20%20%20%20%20%20%0A%20%20%20%20%20%20%20%20%20%20%20%20var%20html_93175b9292dc46ec89541b877ec2a512%20%3D%20%24%28%60%3Cdiv%20id%3D%22html_93175b9292dc46ec89541b877ec2a512%22%20style%3D%22width%3A%20100.0%25%3B%20height%3A%20100.0%25%3B%22%3ECollins%20Street%20East%2C%20Collins%20Street%20West%2C%20St%20Kilda%20Road%20Central%2C%20Docklands%3C/div%3E%60%29%5B0%5D%3B%0A%20%20%20%20%20%20%20%20%20%20%20%20popup_eed66d5ab02d4498940005a3dcf95950.setContent%28html_93175b9292dc46ec89541b877ec2a512%29%3B%0A%20%20%20%20%20%20%20%20%0A%0A%20%20%20%20%20%20%20%20circle_marker_cf9a460a34784362b1d3df02e18795bb.bindPopup%28popup_eed66d5ab02d4498940005a3dcf95950%29%0A%20%20%20%20%20%20%20%20%3B%0A%0A%20%20%20%20%20%20%20%20%0A%20%20%20%20%0A%3C/script%3E onload=\"this.contentDocument.open();this.contentDocument.write(    decodeURIComponent(this.getAttribute('data-html')));this.contentDocument.close();\" allowfullscreen webkitallowfullscreen mozallowfullscreen></iframe></div></div>"
      ],
      "text/plain": [
       "<folium.folium.Map at 0x7fbfa28343a0>"
      ]
     },
     "execution_count": 207,
     "metadata": {},
     "output_type": "execute_result"
    }
   ],
   "source": [
    "map_melbourne = folium.Map(location=[latitude_melbourne, longitude_melbourne], zoom_start=10)\n",
    "\n",
    "# add markers to map\n",
    "for lat, lng, neighborhood in zip(melbourne_data['Latitude'], melbourne_data['Longitude'], melbourne_data['Neighbourhood']):\n",
    "    label = '{}'.format(neighborhood)\n",
    "    label = folium.Popup(label, parse_html=True)\n",
    "    folium.CircleMarker(\n",
    "        [lat, lng],\n",
    "        radius=5,\n",
    "        popup=label,\n",
    "        color='blue',\n",
    "        fill=True,\n",
    "        fill_color='#3186cc',\n",
    "        fill_opacity=0.7,\n",
    "        parse_html=False).add_to(map_melbourne)  \n",
    "map_melbourne"
   ]
  },
  {
   "cell_type": "markdown",
   "metadata": {},
   "source": [
    "#### 3. Get the venues from Foursquare API"
   ]
  },
  {
   "cell_type": "markdown",
   "metadata": {},
   "source": [
    "In this section, we will explore the venues on both cities from Foursquare API."
   ]
  },
  {
   "cell_type": "markdown",
   "metadata": {},
   "source": [
    "First, we need to define the Foursquare Credential."
   ]
  },
  {
   "cell_type": "code",
   "execution_count": 208,
   "metadata": {},
   "outputs": [
    {
     "name": "stdout",
     "output_type": "stream",
     "text": [
      "Your credentails:\n",
      "CLIENT_ID: NVFHTNB1SZ4F1OWYHPAXEFYR5YDEZ23APYXPC012HSNTCT3A\n",
      "CLIENT_SECRET:3RWNDMZCA2T1H2ZW3HNOPU3PFAZPFIPKGP3W4APMZDSOKYPO\n"
     ]
    }
   ],
   "source": [
    "CLIENT_ID = 'NVFHTNB1SZ4F1OWYHPAXEFYR5YDEZ23APYXPC012HSNTCT3A' # your Foursquare ID\n",
    "CLIENT_SECRET = '3RWNDMZCA2T1H2ZW3HNOPU3PFAZPFIPKGP3W4APMZDSOKYPO' # your Foursquare Secret\n",
    "VERSION = '20210205' # Foursquare API version\n",
    "LIMIT = 100 # A default Foursquare API limit value\n",
    "\n",
    "print('Your credentails:')\n",
    "print('CLIENT_ID: ' + CLIENT_ID)\n",
    "print('CLIENT_SECRET:' + CLIENT_SECRET)"
   ]
  },
  {
   "cell_type": "code",
   "execution_count": 209,
   "metadata": {},
   "outputs": [],
   "source": [
    "import json\n",
    "from pandas import json_normalize\n",
    "\n",
    "# function that extracts the category of the venue\n",
    "def get_category_type(row):\n",
    "    try:\n",
    "        categories_list = row['categories']\n",
    "    except:\n",
    "        categories_list = row['venue.categories']\n",
    "        \n",
    "    if len(categories_list) == 0:\n",
    "        return None\n",
    "    else:\n",
    "        return categories_list[0]['name']"
   ]
  },
  {
   "cell_type": "markdown",
   "metadata": {},
   "source": [
    "Then, we get the venues from both cities."
   ]
  },
  {
   "cell_type": "markdown",
   "metadata": {},
   "source": [
    "First, we get for Sydney."
   ]
  },
  {
   "cell_type": "code",
   "execution_count": 210,
   "metadata": {},
   "outputs": [
    {
     "name": "stdout",
     "output_type": "stream",
     "text": [
      "Latitude and longitude values of Pyrmont are -33.87, 151.190.\n"
     ]
    }
   ],
   "source": [
    "sydney_data.loc[3, 'Neighbourhood']\n",
    "\n",
    "neighborhood_latitude = sydney_data.loc[3, 'Latitude'] # neighborhood latitude value\n",
    "neighborhood_longitude = sydney_data.loc[3, 'Longitude'] # neighborhood longitude value\n",
    "\n",
    "neighborhood_name = sydney_data.loc[3, 'Neighbourhood'] # neighborhood name\n",
    "\n",
    "print('Latitude and longitude values of {} are {}, {}.'.format(neighborhood_name, \n",
    "                                                               neighborhood_latitude, \n",
    "                                                               neighborhood_longitude))\n",
    "\n",
    "LIMIT = 100\n",
    "radius = 500\n",
    "\n",
    "url = 'https://api.foursquare.com/v2/venues/explore?&client_id={}&client_secret={}&v={}&ll={},{}&radius={}&limit={}'.format(\n",
    "    CLIENT_ID, \n",
    "    CLIENT_SECRET, \n",
    "    VERSION, \n",
    "    neighborhood_latitude, \n",
    "    neighborhood_longitude, \n",
    "    radius, \n",
    "    LIMIT)\n",
    "\n",
    "results = requests.get(url).json()\n",
    "#results"
   ]
  },
  {
   "cell_type": "code",
   "execution_count": 211,
   "metadata": {},
   "outputs": [
    {
     "data": {
      "text/html": [
       "<div>\n",
       "<style scoped>\n",
       "    .dataframe tbody tr th:only-of-type {\n",
       "        vertical-align: middle;\n",
       "    }\n",
       "\n",
       "    .dataframe tbody tr th {\n",
       "        vertical-align: top;\n",
       "    }\n",
       "\n",
       "    .dataframe thead th {\n",
       "        text-align: right;\n",
       "    }\n",
       "</style>\n",
       "<table border=\"1\" class=\"dataframe\">\n",
       "  <thead>\n",
       "    <tr style=\"text-align: right;\">\n",
       "      <th></th>\n",
       "      <th>name</th>\n",
       "      <th>categories</th>\n",
       "      <th>lat</th>\n",
       "      <th>lng</th>\n",
       "    </tr>\n",
       "  </thead>\n",
       "  <tbody>\n",
       "    <tr>\n",
       "      <th>0</th>\n",
       "      <td>Vic's Meat Market</td>\n",
       "      <td>Butcher</td>\n",
       "      <td>-33.871722</td>\n",
       "      <td>151.191372</td>\n",
       "    </tr>\n",
       "    <tr>\n",
       "      <th>1</th>\n",
       "      <td>Claudio's Seafoods</td>\n",
       "      <td>Fish Market</td>\n",
       "      <td>-33.870692</td>\n",
       "      <td>151.190882</td>\n",
       "    </tr>\n",
       "    <tr>\n",
       "      <th>2</th>\n",
       "      <td>Gallon</td>\n",
       "      <td>Bar</td>\n",
       "      <td>-33.869517</td>\n",
       "      <td>151.193928</td>\n",
       "    </tr>\n",
       "    <tr>\n",
       "      <th>3</th>\n",
       "      <td>Terminus Hotel</td>\n",
       "      <td>Pub</td>\n",
       "      <td>-33.867737</td>\n",
       "      <td>151.192580</td>\n",
       "    </tr>\n",
       "    <tr>\n",
       "      <th>4</th>\n",
       "      <td>Peter's Fish Market - BBQ Grill</td>\n",
       "      <td>Seafood Restaurant</td>\n",
       "      <td>-33.873145</td>\n",
       "      <td>151.192109</td>\n",
       "    </tr>\n",
       "  </tbody>\n",
       "</table>\n",
       "</div>"
      ],
      "text/plain": [
       "                              name          categories        lat         lng\n",
       "0                Vic's Meat Market             Butcher -33.871722  151.191372\n",
       "1               Claudio's Seafoods         Fish Market -33.870692  151.190882\n",
       "2                           Gallon                 Bar -33.869517  151.193928\n",
       "3                   Terminus Hotel                 Pub -33.867737  151.192580\n",
       "4  Peter's Fish Market - BBQ Grill  Seafood Restaurant -33.873145  151.192109"
      ]
     },
     "execution_count": 211,
     "metadata": {},
     "output_type": "execute_result"
    }
   ],
   "source": [
    "venues = results['response']['groups'][0]['items']\n",
    "    \n",
    "nearby_venues = json_normalize(venues) # flatten JSON\n",
    "\n",
    "# filter columns\n",
    "filtered_columns = ['venue.name', 'venue.categories', 'venue.location.lat', 'venue.location.lng']\n",
    "nearby_venues =nearby_venues.loc[:, filtered_columns]\n",
    "\n",
    "# filter the category for each row\n",
    "nearby_venues['venue.categories'] = nearby_venues.apply(get_category_type, axis=1)\n",
    "\n",
    "# clean columns\n",
    "nearby_venues.columns = [col.split(\".\")[-1] for col in nearby_venues.columns]\n",
    "\n",
    "nearby_venues.head()"
   ]
  },
  {
   "cell_type": "code",
   "execution_count": 212,
   "metadata": {},
   "outputs": [
    {
     "name": "stdout",
     "output_type": "stream",
     "text": [
      "25 venues in Sydney were returned by Foursquare.\n"
     ]
    }
   ],
   "source": [
    "print('{} venues in Sydney were returned by Foursquare.'.format(nearby_venues.shape[0]))"
   ]
  },
  {
   "cell_type": "markdown",
   "metadata": {},
   "source": [
    "Next, an example of Melbourne's venues."
   ]
  },
  {
   "cell_type": "code",
   "execution_count": 213,
   "metadata": {},
   "outputs": [
    {
     "name": "stdout",
     "output_type": "stream",
     "text": [
      "Latitude and longitude values of South Melbourne, South Melbourne DC are -37.93, 145.030.\n"
     ]
    }
   ],
   "source": [
    "melbourne_data.loc[3, 'Neighbourhood']\n",
    "\n",
    "neighborhood_latitude = melbourne_data.loc[3, 'Latitude'] # neighborhood latitude value\n",
    "neighborhood_longitude = melbourne_data.loc[3, 'Longitude'] # neighborhood longitude value\n",
    "\n",
    "neighborhood_name = melbourne_data.loc[3, 'Neighbourhood'] # neighborhood name\n",
    "\n",
    "print('Latitude and longitude values of {} are {}, {}.'.format(neighborhood_name, \n",
    "                                                               neighborhood_latitude, \n",
    "                                                               neighborhood_longitude))\n",
    "\n",
    "LIMIT = 100\n",
    "radius = 500\n",
    "\n",
    "url = 'https://api.foursquare.com/v2/venues/explore?&client_id={}&client_secret={}&v={}&ll={},{}&radius={}&limit={}'.format(\n",
    "    CLIENT_ID, \n",
    "    CLIENT_SECRET, \n",
    "    VERSION, \n",
    "    neighborhood_latitude, \n",
    "    neighborhood_longitude, \n",
    "    radius, \n",
    "    LIMIT)\n",
    "\n",
    "results = requests.get(url).json()"
   ]
  },
  {
   "cell_type": "code",
   "execution_count": 214,
   "metadata": {},
   "outputs": [
    {
     "data": {
      "text/html": [
       "<div>\n",
       "<style scoped>\n",
       "    .dataframe tbody tr th:only-of-type {\n",
       "        vertical-align: middle;\n",
       "    }\n",
       "\n",
       "    .dataframe tbody tr th {\n",
       "        vertical-align: top;\n",
       "    }\n",
       "\n",
       "    .dataframe thead th {\n",
       "        text-align: right;\n",
       "    }\n",
       "</style>\n",
       "<table border=\"1\" class=\"dataframe\">\n",
       "  <thead>\n",
       "    <tr style=\"text-align: right;\">\n",
       "      <th></th>\n",
       "      <th>name</th>\n",
       "      <th>categories</th>\n",
       "      <th>lat</th>\n",
       "      <th>lng</th>\n",
       "    </tr>\n",
       "  </thead>\n",
       "  <tbody>\n",
       "    <tr>\n",
       "      <th>0</th>\n",
       "      <td>4 Seasons Laksa</td>\n",
       "      <td>Malay Restaurant</td>\n",
       "      <td>-37.932719</td>\n",
       "      <td>145.031916</td>\n",
       "    </tr>\n",
       "    <tr>\n",
       "      <th>1</th>\n",
       "      <td>Hungry Jack's</td>\n",
       "      <td>Fast Food Restaurant</td>\n",
       "      <td>-37.930020</td>\n",
       "      <td>145.032188</td>\n",
       "    </tr>\n",
       "    <tr>\n",
       "      <th>2</th>\n",
       "      <td>Coles</td>\n",
       "      <td>Grocery Store</td>\n",
       "      <td>-37.933422</td>\n",
       "      <td>145.028316</td>\n",
       "    </tr>\n",
       "    <tr>\n",
       "      <th>3</th>\n",
       "      <td>The Doghouse</td>\n",
       "      <td>Flea Market</td>\n",
       "      <td>-37.928986</td>\n",
       "      <td>145.027084</td>\n",
       "    </tr>\n",
       "    <tr>\n",
       "      <th>4</th>\n",
       "      <td>Aquayak</td>\n",
       "      <td>Sporting Goods Shop</td>\n",
       "      <td>-37.926690</td>\n",
       "      <td>145.028036</td>\n",
       "    </tr>\n",
       "  </tbody>\n",
       "</table>\n",
       "</div>"
      ],
      "text/plain": [
       "              name            categories        lat         lng\n",
       "0  4 Seasons Laksa      Malay Restaurant -37.932719  145.031916\n",
       "1    Hungry Jack's  Fast Food Restaurant -37.930020  145.032188\n",
       "2            Coles         Grocery Store -37.933422  145.028316\n",
       "3     The Doghouse           Flea Market -37.928986  145.027084\n",
       "4          Aquayak   Sporting Goods Shop -37.926690  145.028036"
      ]
     },
     "execution_count": 214,
     "metadata": {},
     "output_type": "execute_result"
    }
   ],
   "source": [
    "venues = results['response']['groups'][0]['items']\n",
    "    \n",
    "nearby_venues = json_normalize(venues) # flatten JSON\n",
    "\n",
    "# filter columns\n",
    "filtered_columns = ['venue.name', 'venue.categories', 'venue.location.lat', 'venue.location.lng']\n",
    "nearby_venues =nearby_venues.loc[:, filtered_columns]\n",
    "\n",
    "# filter the category for each row\n",
    "nearby_venues['venue.categories'] = nearby_venues.apply(get_category_type, axis=1)\n",
    "\n",
    "# clean columns\n",
    "nearby_venues.columns = [col.split(\".\")[-1] for col in nearby_venues.columns]\n",
    "\n",
    "nearby_venues.head()"
   ]
  },
  {
   "cell_type": "code",
   "execution_count": 215,
   "metadata": {},
   "outputs": [
    {
     "name": "stdout",
     "output_type": "stream",
     "text": [
      "5 venues in Melbourne were returned by Foursquare.\n"
     ]
    }
   ],
   "source": [
    "print('{} venues in Melbourne were returned by Foursquare.'.format(nearby_venues.shape[0]))"
   ]
  },
  {
   "cell_type": "markdown",
   "metadata": {},
   "source": [
    "#### 4. Exploring the data"
   ]
  },
  {
   "cell_type": "markdown",
   "metadata": {},
   "source": [
    "##### Exploring Neighbourhood in Foursquare. "
   ]
  },
  {
   "cell_type": "code",
   "execution_count": 216,
   "metadata": {},
   "outputs": [],
   "source": [
    "def getNearbyVenues(names, latitudes, longitudes, radius=500):\n",
    "    \n",
    "    venues_list=[]\n",
    "    for name, lat, lng in zip(names, latitudes, longitudes):\n",
    "        #print(name)\n",
    "            \n",
    "        # create the API request URL\n",
    "        url = 'https://api.foursquare.com/v2/venues/explore?&client_id={}&client_secret={}&v={}&ll={},{}&radius={}&limit={}'.format(\n",
    "            CLIENT_ID, \n",
    "            CLIENT_SECRET, \n",
    "            VERSION, \n",
    "            lat, \n",
    "            lng, \n",
    "            radius, \n",
    "            LIMIT)\n",
    "            \n",
    "        # make the GET request\n",
    "        response = requests.get(url).json()[\"response\"]\n",
    "        if response:\n",
    "            results = requests.get(url).json()[\"response\"]['groups'][0]['items']\n",
    "        else:\n",
    "            continue\n",
    "        \n",
    "        # return only relevant information for each nearby venue\n",
    "        venues_list.append([(\n",
    "            name, \n",
    "            lat, \n",
    "            lng, \n",
    "            v['venue']['name'], \n",
    "            v['venue']['location']['lat'], \n",
    "            v['venue']['location']['lng'],  \n",
    "            v['venue']['categories'][0]['name']) for v in results])\n",
    "\n",
    "    nearby_venues = pd.DataFrame([item for venue_list in venues_list for item in venue_list])\n",
    "    nearby_venues.columns = ['Neighbourhood', \n",
    "                  'Neighbourhood Latitude', \n",
    "                  'Neighbourhood Longitude', \n",
    "                  'Venue', \n",
    "                  'Venue Latitude', \n",
    "                  'Venue Longitude', \n",
    "                  'Venue Category']\n",
    "    \n",
    "    return(nearby_venues)"
   ]
  },
  {
   "cell_type": "markdown",
   "metadata": {},
   "source": [
    "Get all venues for Sydney."
   ]
  },
  {
   "cell_type": "code",
   "execution_count": 217,
   "metadata": {},
   "outputs": [],
   "source": [
    "sydney_venues = getNearbyVenues(names=sydney_data['Neighbourhood'],\n",
    "                                   latitudes=sydney_data['Latitude'],\n",
    "                                   longitudes=sydney_data['Longitude']\n",
    "                                  )"
   ]
  },
  {
   "cell_type": "code",
   "execution_count": 218,
   "metadata": {},
   "outputs": [
    {
     "name": "stdout",
     "output_type": "stream",
     "text": [
      "(372, 7)\n"
     ]
    },
    {
     "data": {
      "text/html": [
       "<div>\n",
       "<style scoped>\n",
       "    .dataframe tbody tr th:only-of-type {\n",
       "        vertical-align: middle;\n",
       "    }\n",
       "\n",
       "    .dataframe tbody tr th {\n",
       "        vertical-align: top;\n",
       "    }\n",
       "\n",
       "    .dataframe thead th {\n",
       "        text-align: right;\n",
       "    }\n",
       "</style>\n",
       "<table border=\"1\" class=\"dataframe\">\n",
       "  <thead>\n",
       "    <tr style=\"text-align: right;\">\n",
       "      <th></th>\n",
       "      <th>Neighbourhood</th>\n",
       "      <th>Neighbourhood Latitude</th>\n",
       "      <th>Neighbourhood Longitude</th>\n",
       "      <th>Venue</th>\n",
       "      <th>Venue Latitude</th>\n",
       "      <th>Venue Longitude</th>\n",
       "      <th>Venue Category</th>\n",
       "    </tr>\n",
       "  </thead>\n",
       "  <tbody>\n",
       "    <tr>\n",
       "      <th>0</th>\n",
       "      <td>Australia Square, Australia Square, Australia ...</td>\n",
       "      <td>-33.89</td>\n",
       "      <td>151.180</td>\n",
       "      <td>IRO Café</td>\n",
       "      <td>-33.887800</td>\n",
       "      <td>151.180170</td>\n",
       "      <td>Café</td>\n",
       "    </tr>\n",
       "    <tr>\n",
       "      <th>1</th>\n",
       "      <td>Australia Square, Australia Square, Australia ...</td>\n",
       "      <td>-33.89</td>\n",
       "      <td>151.180</td>\n",
       "      <td>Gather On The Green</td>\n",
       "      <td>-33.890266</td>\n",
       "      <td>151.176188</td>\n",
       "      <td>Café</td>\n",
       "    </tr>\n",
       "    <tr>\n",
       "      <th>2</th>\n",
       "      <td>Australia Square, Australia Square, Australia ...</td>\n",
       "      <td>-33.89</td>\n",
       "      <td>151.180</td>\n",
       "      <td>Campos Coffee</td>\n",
       "      <td>-33.893007</td>\n",
       "      <td>151.183213</td>\n",
       "      <td>Coffee Shop</td>\n",
       "    </tr>\n",
       "    <tr>\n",
       "      <th>3</th>\n",
       "      <td>Australia Square, Australia Square, Australia ...</td>\n",
       "      <td>-33.89</td>\n",
       "      <td>151.180</td>\n",
       "      <td>Acre Farm and Eatery</td>\n",
       "      <td>-33.888066</td>\n",
       "      <td>151.176885</td>\n",
       "      <td>Restaurant</td>\n",
       "    </tr>\n",
       "    <tr>\n",
       "      <th>4</th>\n",
       "      <td>Australia Square, Australia Square, Australia ...</td>\n",
       "      <td>-33.89</td>\n",
       "      <td>151.180</td>\n",
       "      <td>Brewtown Newtown</td>\n",
       "      <td>-33.893849</td>\n",
       "      <td>151.182478</td>\n",
       "      <td>Café</td>\n",
       "    </tr>\n",
       "  </tbody>\n",
       "</table>\n",
       "</div>"
      ],
      "text/plain": [
       "                                       Neighbourhood  Neighbourhood Latitude  \\\n",
       "0  Australia Square, Australia Square, Australia ...                  -33.89   \n",
       "1  Australia Square, Australia Square, Australia ...                  -33.89   \n",
       "2  Australia Square, Australia Square, Australia ...                  -33.89   \n",
       "3  Australia Square, Australia Square, Australia ...                  -33.89   \n",
       "4  Australia Square, Australia Square, Australia ...                  -33.89   \n",
       "\n",
       "  Neighbourhood Longitude                 Venue  Venue Latitude  \\\n",
       "0                 151.180              IRO Café      -33.887800   \n",
       "1                 151.180   Gather On The Green      -33.890266   \n",
       "2                 151.180         Campos Coffee      -33.893007   \n",
       "3                 151.180  Acre Farm and Eatery      -33.888066   \n",
       "4                 151.180      Brewtown Newtown      -33.893849   \n",
       "\n",
       "   Venue Longitude Venue Category  \n",
       "0       151.180170           Café  \n",
       "1       151.176188           Café  \n",
       "2       151.183213    Coffee Shop  \n",
       "3       151.176885     Restaurant  \n",
       "4       151.182478           Café  "
      ]
     },
     "execution_count": 218,
     "metadata": {},
     "output_type": "execute_result"
    }
   ],
   "source": [
    "print(sydney_venues.shape)\n",
    "sydney_venues.head()"
   ]
  },
  {
   "cell_type": "code",
   "execution_count": 219,
   "metadata": {},
   "outputs": [
    {
     "name": "stdout",
     "output_type": "stream",
     "text": [
      "There are 115 uniques categories.\n"
     ]
    }
   ],
   "source": [
    "sydney_venues.groupby('Neighbourhood').count()\n",
    "print('There are {} uniques categories.'.format(len(sydney_venues['Venue Category'].unique())))"
   ]
  },
  {
   "cell_type": "markdown",
   "metadata": {},
   "source": [
    "Get all venues for Melbourne."
   ]
  },
  {
   "cell_type": "code",
   "execution_count": 220,
   "metadata": {},
   "outputs": [],
   "source": [
    "melbourne_venues = getNearbyVenues(names=melbourne_data['Neighbourhood'],\n",
    "                                   latitudes=melbourne_data['Latitude'],\n",
    "                                   longitudes=melbourne_data['Longitude']\n",
    "                                  )"
   ]
  },
  {
   "cell_type": "code",
   "execution_count": 221,
   "metadata": {},
   "outputs": [
    {
     "name": "stdout",
     "output_type": "stream",
     "text": [
      "(540, 7)\n"
     ]
    },
    {
     "data": {
      "text/html": [
       "<div>\n",
       "<style scoped>\n",
       "    .dataframe tbody tr th:only-of-type {\n",
       "        vertical-align: middle;\n",
       "    }\n",
       "\n",
       "    .dataframe tbody tr th {\n",
       "        vertical-align: top;\n",
       "    }\n",
       "\n",
       "    .dataframe thead th {\n",
       "        text-align: right;\n",
       "    }\n",
       "</style>\n",
       "<table border=\"1\" class=\"dataframe\">\n",
       "  <thead>\n",
       "    <tr style=\"text-align: right;\">\n",
       "      <th></th>\n",
       "      <th>Neighbourhood</th>\n",
       "      <th>Neighbourhood Latitude</th>\n",
       "      <th>Neighbourhood Longitude</th>\n",
       "      <th>Venue</th>\n",
       "      <th>Venue Latitude</th>\n",
       "      <th>Venue Longitude</th>\n",
       "      <th>Venue Category</th>\n",
       "    </tr>\n",
       "  </thead>\n",
       "  <tbody>\n",
       "    <tr>\n",
       "      <th>0</th>\n",
       "      <td>Melbourne, Melbourne, Melbourne, Melbourne, Me...</td>\n",
       "      <td>-38.37</td>\n",
       "      <td>144.770</td>\n",
       "      <td>St Johny Back Beach</td>\n",
       "      <td>-38.372046</td>\n",
       "      <td>144.771736</td>\n",
       "      <td>Beach</td>\n",
       "    </tr>\n",
       "    <tr>\n",
       "      <th>1</th>\n",
       "      <td>Melbourne, Melbourne, Melbourne, Melbourne, Me...</td>\n",
       "      <td>-38.37</td>\n",
       "      <td>144.770</td>\n",
       "      <td>Laser Plumbing Blairgowrie</td>\n",
       "      <td>-38.368842</td>\n",
       "      <td>144.766824</td>\n",
       "      <td>Home Service</td>\n",
       "    </tr>\n",
       "    <tr>\n",
       "      <th>2</th>\n",
       "      <td>Melbourne, Melbourne, Melbourne, Melbourne, Me...</td>\n",
       "      <td>-38.37</td>\n",
       "      <td>144.770</td>\n",
       "      <td>Riley Plumbing</td>\n",
       "      <td>-38.367948</td>\n",
       "      <td>144.766502</td>\n",
       "      <td>Home Service</td>\n",
       "    </tr>\n",
       "    <tr>\n",
       "      <th>3</th>\n",
       "      <td>Law Courts</td>\n",
       "      <td>-38.19</td>\n",
       "      <td>146.290</td>\n",
       "      <td>Raw Havest Cafe</td>\n",
       "      <td>-38.186066</td>\n",
       "      <td>146.291430</td>\n",
       "      <td>Café</td>\n",
       "    </tr>\n",
       "    <tr>\n",
       "      <th>4</th>\n",
       "      <td>Law Courts</td>\n",
       "      <td>-38.19</td>\n",
       "      <td>146.290</td>\n",
       "      <td>Odlums Pharmacy</td>\n",
       "      <td>-38.185770</td>\n",
       "      <td>146.291230</td>\n",
       "      <td>Pharmacy</td>\n",
       "    </tr>\n",
       "  </tbody>\n",
       "</table>\n",
       "</div>"
      ],
      "text/plain": [
       "                                       Neighbourhood  Neighbourhood Latitude  \\\n",
       "0  Melbourne, Melbourne, Melbourne, Melbourne, Me...                  -38.37   \n",
       "1  Melbourne, Melbourne, Melbourne, Melbourne, Me...                  -38.37   \n",
       "2  Melbourne, Melbourne, Melbourne, Melbourne, Me...                  -38.37   \n",
       "3                                         Law Courts                  -38.19   \n",
       "4                                         Law Courts                  -38.19   \n",
       "\n",
       "  Neighbourhood Longitude                       Venue  Venue Latitude  \\\n",
       "0                 144.770         St Johny Back Beach      -38.372046   \n",
       "1                 144.770  Laser Plumbing Blairgowrie      -38.368842   \n",
       "2                 144.770              Riley Plumbing      -38.367948   \n",
       "3                 146.290             Raw Havest Cafe      -38.186066   \n",
       "4                 146.290             Odlums Pharmacy      -38.185770   \n",
       "\n",
       "   Venue Longitude Venue Category  \n",
       "0       144.771736          Beach  \n",
       "1       144.766824   Home Service  \n",
       "2       144.766502   Home Service  \n",
       "3       146.291430           Café  \n",
       "4       146.291230       Pharmacy  "
      ]
     },
     "execution_count": 221,
     "metadata": {},
     "output_type": "execute_result"
    }
   ],
   "source": [
    "print(melbourne_venues.shape)\n",
    "melbourne_venues.head()"
   ]
  },
  {
   "cell_type": "code",
   "execution_count": 222,
   "metadata": {},
   "outputs": [
    {
     "name": "stdout",
     "output_type": "stream",
     "text": [
      "There are 155 uniques categories.\n"
     ]
    }
   ],
   "source": [
    "melbourne_venues.groupby('Neighbourhood').count()\n",
    "print('There are {} uniques categories.'.format(len(melbourne_venues['Venue Category'].unique())))"
   ]
  },
  {
   "cell_type": "markdown",
   "metadata": {},
   "source": [
    "### V. Results"
   ]
  },
  {
   "cell_type": "markdown",
   "metadata": {},
   "source": [
    "In this section, we will explore the results returned from Foursquare API. We also apply machine learning techniques, i.e., Kmeans to examine the clusters on both cities."
   ]
  },
  {
   "cell_type": "markdown",
   "metadata": {},
   "source": [
    "##### a. Analyzing the results"
   ]
  },
  {
   "cell_type": "markdown",
   "metadata": {},
   "source": [
    "The top venues for each Neighbourhood should look like this."
   ]
  },
  {
   "cell_type": "code",
   "execution_count": 223,
   "metadata": {},
   "outputs": [],
   "source": [
    "def return_most_common_venues(row, num_top_venues):\n",
    "    row_categories = row.iloc[1:]\n",
    "    row_categories_sorted = row_categories.sort_values(ascending=False)\n",
    "    \n",
    "    return row_categories_sorted.index.values[0:num_top_venues]"
   ]
  },
  {
   "cell_type": "markdown",
   "metadata": {},
   "source": [
    "For Sydney."
   ]
  },
  {
   "cell_type": "code",
   "execution_count": 224,
   "metadata": {},
   "outputs": [],
   "source": [
    "# one hot encoding\n",
    "sydney_onehot = pd.get_dummies(sydney_venues[['Venue Category']], prefix=\"\", prefix_sep=\"\")\n",
    "\n",
    "# add neighborhood column back to dataframe\n",
    "sydney_onehot['Neighbourhood'] = sydney_venues['Neighbourhood'] \n",
    "\n",
    "# move neighborhood column to the first column\n",
    "fixed_columns = [sydney_onehot.columns[-1]] + list(sydney_onehot.columns[:-1])\n",
    "sydney_onehot = sydney_onehot[fixed_columns]\n",
    "\n",
    "sydney_grouped = sydney_onehot.groupby('Neighbourhood').mean().reset_index()"
   ]
  },
  {
   "cell_type": "code",
   "execution_count": 225,
   "metadata": {},
   "outputs": [
    {
     "data": {
      "text/html": [
       "<div>\n",
       "<style scoped>\n",
       "    .dataframe tbody tr th:only-of-type {\n",
       "        vertical-align: middle;\n",
       "    }\n",
       "\n",
       "    .dataframe tbody tr th {\n",
       "        vertical-align: top;\n",
       "    }\n",
       "\n",
       "    .dataframe thead th {\n",
       "        text-align: right;\n",
       "    }\n",
       "</style>\n",
       "<table border=\"1\" class=\"dataframe\">\n",
       "  <thead>\n",
       "    <tr style=\"text-align: right;\">\n",
       "      <th></th>\n",
       "      <th>Neighbourhood</th>\n",
       "      <th>1st Most Common Venue</th>\n",
       "      <th>2nd Most Common Venue</th>\n",
       "      <th>3rd Most Common Venue</th>\n",
       "      <th>4th Most Common Venue</th>\n",
       "      <th>5th Most Common Venue</th>\n",
       "      <th>6th Most Common Venue</th>\n",
       "      <th>7th Most Common Venue</th>\n",
       "      <th>8th Most Common Venue</th>\n",
       "      <th>9th Most Common Venue</th>\n",
       "      <th>10th Most Common Venue</th>\n",
       "    </tr>\n",
       "  </thead>\n",
       "  <tbody>\n",
       "    <tr>\n",
       "      <th>0</th>\n",
       "      <td>Australia Square, Australia Square, Australia ...</td>\n",
       "      <td>Café</td>\n",
       "      <td>Burger Joint</td>\n",
       "      <td>Pizza Place</td>\n",
       "      <td>Pub</td>\n",
       "      <td>Park</td>\n",
       "      <td>Convenience Store</td>\n",
       "      <td>Restaurant</td>\n",
       "      <td>Portuguese Restaurant</td>\n",
       "      <td>Motorcycle Shop</td>\n",
       "      <td>Spanish Restaurant</td>\n",
       "    </tr>\n",
       "    <tr>\n",
       "      <th>1</th>\n",
       "      <td>Barangaroo, Dawes Point, Haymarket, Millers Po...</td>\n",
       "      <td>Café</td>\n",
       "      <td>Hotel</td>\n",
       "      <td>Australian Restaurant</td>\n",
       "      <td>Cocktail Bar</td>\n",
       "      <td>Pub</td>\n",
       "      <td>Hotel Bar</td>\n",
       "      <td>Museum</td>\n",
       "      <td>Steakhouse</td>\n",
       "      <td>Ice Cream Shop</td>\n",
       "      <td>Restaurant</td>\n",
       "    </tr>\n",
       "    <tr>\n",
       "      <th>2</th>\n",
       "      <td>Broadway, Ultimo</td>\n",
       "      <td>Café</td>\n",
       "      <td>Thai Restaurant</td>\n",
       "      <td>Chinese Restaurant</td>\n",
       "      <td>Coffee Shop</td>\n",
       "      <td>Malay Restaurant</td>\n",
       "      <td>Japanese Restaurant</td>\n",
       "      <td>Dumpling Restaurant</td>\n",
       "      <td>Indonesian Restaurant</td>\n",
       "      <td>Hotpot Restaurant</td>\n",
       "      <td>Hotel</td>\n",
       "    </tr>\n",
       "    <tr>\n",
       "      <th>3</th>\n",
       "      <td>Grosvenor Place, Grosvenor Place, Grosvenor Pl...</td>\n",
       "      <td>Metro Station</td>\n",
       "      <td>Wine Bar</td>\n",
       "      <td>Gourmet Shop</td>\n",
       "      <td>Electronics Store</td>\n",
       "      <td>Fast Food Restaurant</td>\n",
       "      <td>Fish Market</td>\n",
       "      <td>Flea Market</td>\n",
       "      <td>Food Court</td>\n",
       "      <td>Fountain</td>\n",
       "      <td>French Restaurant</td>\n",
       "    </tr>\n",
       "    <tr>\n",
       "      <th>4</th>\n",
       "      <td>Pyrmont</td>\n",
       "      <td>Seafood Restaurant</td>\n",
       "      <td>Café</td>\n",
       "      <td>Fish Market</td>\n",
       "      <td>Japanese Restaurant</td>\n",
       "      <td>Pub</td>\n",
       "      <td>Hotel</td>\n",
       "      <td>Coffee Shop</td>\n",
       "      <td>Sports Club</td>\n",
       "      <td>Butcher</td>\n",
       "      <td>Gym / Fitness Center</td>\n",
       "    </tr>\n",
       "  </tbody>\n",
       "</table>\n",
       "</div>"
      ],
      "text/plain": [
       "                                       Neighbourhood 1st Most Common Venue  \\\n",
       "0  Australia Square, Australia Square, Australia ...                  Café   \n",
       "1  Barangaroo, Dawes Point, Haymarket, Millers Po...                  Café   \n",
       "2                                   Broadway, Ultimo                  Café   \n",
       "3  Grosvenor Place, Grosvenor Place, Grosvenor Pl...         Metro Station   \n",
       "4                                            Pyrmont    Seafood Restaurant   \n",
       "\n",
       "  2nd Most Common Venue  3rd Most Common Venue 4th Most Common Venue  \\\n",
       "0          Burger Joint            Pizza Place                   Pub   \n",
       "1                 Hotel  Australian Restaurant          Cocktail Bar   \n",
       "2       Thai Restaurant     Chinese Restaurant           Coffee Shop   \n",
       "3              Wine Bar           Gourmet Shop     Electronics Store   \n",
       "4                  Café            Fish Market   Japanese Restaurant   \n",
       "\n",
       "  5th Most Common Venue 6th Most Common Venue 7th Most Common Venue  \\\n",
       "0                  Park     Convenience Store            Restaurant   \n",
       "1                   Pub             Hotel Bar                Museum   \n",
       "2      Malay Restaurant   Japanese Restaurant   Dumpling Restaurant   \n",
       "3  Fast Food Restaurant           Fish Market           Flea Market   \n",
       "4                   Pub                 Hotel           Coffee Shop   \n",
       "\n",
       "   8th Most Common Venue 9th Most Common Venue 10th Most Common Venue  \n",
       "0  Portuguese Restaurant       Motorcycle Shop     Spanish Restaurant  \n",
       "1             Steakhouse        Ice Cream Shop             Restaurant  \n",
       "2  Indonesian Restaurant     Hotpot Restaurant                  Hotel  \n",
       "3             Food Court              Fountain      French Restaurant  \n",
       "4            Sports Club               Butcher   Gym / Fitness Center  "
      ]
     },
     "execution_count": 225,
     "metadata": {},
     "output_type": "execute_result"
    }
   ],
   "source": [
    "num_top_venues = 10\n",
    "\n",
    "indicators = ['st', 'nd', 'rd']\n",
    "\n",
    "# create columns according to number of top venues\n",
    "columns = ['Neighbourhood']\n",
    "for ind in np.arange(num_top_venues):\n",
    "    try:\n",
    "        columns.append('{}{} Most Common Venue'.format(ind+1, indicators[ind]))\n",
    "    except:\n",
    "        columns.append('{}th Most Common Venue'.format(ind+1))\n",
    "\n",
    "# create a new dataframe\n",
    "sydney_neighbourhoods_venues_sorted = pd.DataFrame(columns=columns)\n",
    "sydney_neighbourhoods_venues_sorted['Neighbourhood'] = sydney_grouped['Neighbourhood']\n",
    "\n",
    "for ind in np.arange(sydney_grouped.shape[0]):\n",
    "    sydney_neighbourhoods_venues_sorted.iloc[ind, 1:] = return_most_common_venues(sydney_grouped.iloc[ind, :], num_top_venues)\n",
    "\n",
    "sydney_neighbourhoods_venues_sorted.head()"
   ]
  },
  {
   "cell_type": "markdown",
   "metadata": {},
   "source": [
    "For Melbourne,"
   ]
  },
  {
   "cell_type": "code",
   "execution_count": 226,
   "metadata": {},
   "outputs": [],
   "source": [
    "# one hot encoding\n",
    "melbourne_onehot = pd.get_dummies(melbourne_venues[['Venue Category']], prefix=\"\", prefix_sep=\"\")\n",
    "\n",
    "# add neighborhood column back to dataframe\n",
    "melbourne_onehot['Neighbourhood'] = melbourne_venues['Neighbourhood'] \n",
    "\n",
    "# move neighborhood column to the first column\n",
    "fixed_columns = [melbourne_onehot.columns[-1]] + list(melbourne_onehot.columns[:-1])\n",
    "melbourne_onehot = melbourne_onehot[fixed_columns]\n",
    "\n",
    "melbourne_grouped = melbourne_onehot.groupby('Neighbourhood').mean().reset_index()"
   ]
  },
  {
   "cell_type": "code",
   "execution_count": 227,
   "metadata": {},
   "outputs": [
    {
     "data": {
      "text/html": [
       "<div>\n",
       "<style scoped>\n",
       "    .dataframe tbody tr th:only-of-type {\n",
       "        vertical-align: middle;\n",
       "    }\n",
       "\n",
       "    .dataframe tbody tr th {\n",
       "        vertical-align: top;\n",
       "    }\n",
       "\n",
       "    .dataframe thead th {\n",
       "        text-align: right;\n",
       "    }\n",
       "</style>\n",
       "<table border=\"1\" class=\"dataframe\">\n",
       "  <thead>\n",
       "    <tr style=\"text-align: right;\">\n",
       "      <th></th>\n",
       "      <th>Neighbourhood</th>\n",
       "      <th>1st Most Common Venue</th>\n",
       "      <th>2nd Most Common Venue</th>\n",
       "      <th>3rd Most Common Venue</th>\n",
       "      <th>4th Most Common Venue</th>\n",
       "      <th>5th Most Common Venue</th>\n",
       "      <th>6th Most Common Venue</th>\n",
       "      <th>7th Most Common Venue</th>\n",
       "      <th>8th Most Common Venue</th>\n",
       "      <th>9th Most Common Venue</th>\n",
       "      <th>10th Most Common Venue</th>\n",
       "    </tr>\n",
       "  </thead>\n",
       "  <tbody>\n",
       "    <tr>\n",
       "      <th>0</th>\n",
       "      <td>Abeckett Street, Little Lonsdale Street</td>\n",
       "      <td>Café</td>\n",
       "      <td>Coffee Shop</td>\n",
       "      <td>Korean Restaurant</td>\n",
       "      <td>Japanese Restaurant</td>\n",
       "      <td>Bar</td>\n",
       "      <td>Malay Restaurant</td>\n",
       "      <td>Fried Chicken Joint</td>\n",
       "      <td>Donut Shop</td>\n",
       "      <td>Indonesian Restaurant</td>\n",
       "      <td>Shopping Mall</td>\n",
       "    </tr>\n",
       "    <tr>\n",
       "      <th>1</th>\n",
       "      <td>East Melbourne</td>\n",
       "      <td>Café</td>\n",
       "      <td>Pub</td>\n",
       "      <td>Coffee Shop</td>\n",
       "      <td>Thai Restaurant</td>\n",
       "      <td>Construction &amp; Landscaping</td>\n",
       "      <td>Sporting Goods Shop</td>\n",
       "      <td>Bus Stop</td>\n",
       "      <td>Convenience Store</td>\n",
       "      <td>Pharmacy</td>\n",
       "      <td>Park</td>\n",
       "    </tr>\n",
       "    <tr>\n",
       "      <th>2</th>\n",
       "      <td>Flinders Lane</td>\n",
       "      <td>Café</td>\n",
       "      <td>Coffee Shop</td>\n",
       "      <td>Bar</td>\n",
       "      <td>Japanese Restaurant</td>\n",
       "      <td>Italian Restaurant</td>\n",
       "      <td>Cocktail Bar</td>\n",
       "      <td>Steakhouse</td>\n",
       "      <td>Australian Restaurant</td>\n",
       "      <td>Sandwich Place</td>\n",
       "      <td>Hotel</td>\n",
       "    </tr>\n",
       "    <tr>\n",
       "      <th>3</th>\n",
       "      <td>Law Courts</td>\n",
       "      <td>Café</td>\n",
       "      <td>Pharmacy</td>\n",
       "      <td>Women's Store</td>\n",
       "      <td>Falafel Restaurant</td>\n",
       "      <td>Football Stadium</td>\n",
       "      <td>Food Truck</td>\n",
       "      <td>Food Court</td>\n",
       "      <td>Flea Market</td>\n",
       "      <td>Filipino Restaurant</td>\n",
       "      <td>Fast Food Restaurant</td>\n",
       "    </tr>\n",
       "    <tr>\n",
       "      <th>4</th>\n",
       "      <td>Melbourne</td>\n",
       "      <td>Café</td>\n",
       "      <td>Cocktail Bar</td>\n",
       "      <td>Coffee Shop</td>\n",
       "      <td>Hotel</td>\n",
       "      <td>Bar</td>\n",
       "      <td>Wine Bar</td>\n",
       "      <td>Japanese Restaurant</td>\n",
       "      <td>Ramen Restaurant</td>\n",
       "      <td>Dessert Shop</td>\n",
       "      <td>Tapas Restaurant</td>\n",
       "    </tr>\n",
       "  </tbody>\n",
       "</table>\n",
       "</div>"
      ],
      "text/plain": [
       "                             Neighbourhood 1st Most Common Venue  \\\n",
       "0  Abeckett Street, Little Lonsdale Street                  Café   \n",
       "1                           East Melbourne                  Café   \n",
       "2                            Flinders Lane                  Café   \n",
       "3                               Law Courts                  Café   \n",
       "4                                Melbourne                  Café   \n",
       "\n",
       "  2nd Most Common Venue 3rd Most Common Venue 4th Most Common Venue  \\\n",
       "0           Coffee Shop     Korean Restaurant   Japanese Restaurant   \n",
       "1                   Pub           Coffee Shop       Thai Restaurant   \n",
       "2           Coffee Shop                   Bar   Japanese Restaurant   \n",
       "3              Pharmacy         Women's Store    Falafel Restaurant   \n",
       "4          Cocktail Bar           Coffee Shop                 Hotel   \n",
       "\n",
       "        5th Most Common Venue 6th Most Common Venue 7th Most Common Venue  \\\n",
       "0                         Bar      Malay Restaurant   Fried Chicken Joint   \n",
       "1  Construction & Landscaping   Sporting Goods Shop              Bus Stop   \n",
       "2          Italian Restaurant          Cocktail Bar            Steakhouse   \n",
       "3            Football Stadium            Food Truck            Food Court   \n",
       "4                         Bar              Wine Bar   Japanese Restaurant   \n",
       "\n",
       "   8th Most Common Venue  9th Most Common Venue 10th Most Common Venue  \n",
       "0             Donut Shop  Indonesian Restaurant          Shopping Mall  \n",
       "1      Convenience Store               Pharmacy                   Park  \n",
       "2  Australian Restaurant         Sandwich Place                  Hotel  \n",
       "3            Flea Market    Filipino Restaurant   Fast Food Restaurant  \n",
       "4       Ramen Restaurant           Dessert Shop       Tapas Restaurant  "
      ]
     },
     "execution_count": 227,
     "metadata": {},
     "output_type": "execute_result"
    }
   ],
   "source": [
    "num_top_venues = 10\n",
    "\n",
    "indicators = ['st', 'nd', 'rd']\n",
    "\n",
    "# create columns according to number of top venues\n",
    "columns = ['Neighbourhood']\n",
    "for ind in np.arange(num_top_venues):\n",
    "    try:\n",
    "        columns.append('{}{} Most Common Venue'.format(ind+1, indicators[ind]))\n",
    "    except:\n",
    "        columns.append('{}th Most Common Venue'.format(ind+1))\n",
    "\n",
    "# create a new dataframe\n",
    "melbourne_neighbourhoods_venues_sorted = pd.DataFrame(columns=columns)\n",
    "melbourne_neighbourhoods_venues_sorted['Neighbourhood'] = melbourne_grouped['Neighbourhood']\n",
    "\n",
    "for ind in np.arange(melbourne_grouped.shape[0]):\n",
    "    melbourne_neighbourhoods_venues_sorted.iloc[ind, 1:] = return_most_common_venues(melbourne_grouped.iloc[ind, :], num_top_venues)\n",
    "\n",
    "melbourne_neighbourhoods_venues_sorted.head()"
   ]
  },
  {
   "cell_type": "markdown",
   "metadata": {},
   "source": [
    "##### b. Clustering the Neighbourhoods"
   ]
  },
  {
   "cell_type": "markdown",
   "metadata": {},
   "source": [
    "For Sydney,"
   ]
  },
  {
   "cell_type": "code",
   "execution_count": 228,
   "metadata": {},
   "outputs": [
    {
     "data": {
      "text/plain": [
       "array([1, 1, 1, 0, 1, 1, 2, 4, 3, 1], dtype=int32)"
      ]
     },
     "execution_count": 228,
     "metadata": {},
     "output_type": "execute_result"
    }
   ],
   "source": [
    "# set number of clusters\n",
    "kclusters = 5\n",
    "\n",
    "sydney_grouped_clustering = sydney_grouped.drop('Neighbourhood', 1)\n",
    "\n",
    "# run k-means clustering\n",
    "kmeans = KMeans(n_clusters=kclusters, random_state=0).fit(sydney_grouped_clustering)\n",
    "\n",
    "# check cluster labels generated for each row in the dataframe\n",
    "kmeans.labels_[0:10]"
   ]
  },
  {
   "cell_type": "code",
   "execution_count": 229,
   "metadata": {},
   "outputs": [],
   "source": [
    "# add clustering labels\n",
    "sydney_neighbourhoods_venues_sorted.insert(0, 'Cluster Labels', kmeans.labels_)\n",
    "\n",
    "sydney_merged = sydney_data\n",
    "\n",
    "# merge manhattan_grouped with manhattan_data to add latitude/longitude for each neighborhood\n",
    "sydney_merged = sydney_merged.join(sydney_neighbourhoods_venues_sorted.set_index('Neighbourhood'), on='Neighbourhood')\n",
    "\n",
    "sydney_merged = sydney_merged.dropna() # check the last columns!"
   ]
  },
  {
   "cell_type": "markdown",
   "metadata": {},
   "source": [
    "The visualization of Sydney clusters should look like this."
   ]
  },
  {
   "cell_type": "code",
   "execution_count": 230,
   "metadata": {},
   "outputs": [
    {
     "name": "stdout",
     "output_type": "stream",
     "text": [
      "['#8000ff', '#00b5eb', '#80ffb4', '#ffb360', '#ff0000']\n"
     ]
    },
    {
     "data": {
      "text/html": [
       "<div style=\"width:100%;\"><div style=\"position:relative;width:100%;height:0;padding-bottom:60%;\"><span style=\"color:#565656\">Make this Notebook Trusted to load map: File -> Trust Notebook</span><iframe src=\"about:blank\" style=\"position:absolute;width:100%;height:100%;left:0;top:0;border:none !important;\" data-html=%3C%21DOCTYPE%20html%3E%0A%3Chead%3E%20%20%20%20%0A%20%20%20%20%3Cmeta%20http-equiv%3D%22content-type%22%20content%3D%22text/html%3B%20charset%3DUTF-8%22%20/%3E%0A%20%20%20%20%0A%20%20%20%20%20%20%20%20%3Cscript%3E%0A%20%20%20%20%20%20%20%20%20%20%20%20L_NO_TOUCH%20%3D%20false%3B%0A%20%20%20%20%20%20%20%20%20%20%20%20L_DISABLE_3D%20%3D%20false%3B%0A%20%20%20%20%20%20%20%20%3C/script%3E%0A%20%20%20%20%0A%20%20%20%20%3Cstyle%3Ehtml%2C%20body%20%7Bwidth%3A%20100%25%3Bheight%3A%20100%25%3Bmargin%3A%200%3Bpadding%3A%200%3B%7D%3C/style%3E%0A%20%20%20%20%3Cstyle%3E%23map%20%7Bposition%3Aabsolute%3Btop%3A0%3Bbottom%3A0%3Bright%3A0%3Bleft%3A0%3B%7D%3C/style%3E%0A%20%20%20%20%3Cscript%20src%3D%22https%3A//cdn.jsdelivr.net/npm/leaflet%401.6.0/dist/leaflet.js%22%3E%3C/script%3E%0A%20%20%20%20%3Cscript%20src%3D%22https%3A//code.jquery.com/jquery-1.12.4.min.js%22%3E%3C/script%3E%0A%20%20%20%20%3Cscript%20src%3D%22https%3A//maxcdn.bootstrapcdn.com/bootstrap/3.2.0/js/bootstrap.min.js%22%3E%3C/script%3E%0A%20%20%20%20%3Cscript%20src%3D%22https%3A//cdnjs.cloudflare.com/ajax/libs/Leaflet.awesome-markers/2.0.2/leaflet.awesome-markers.js%22%3E%3C/script%3E%0A%20%20%20%20%3Clink%20rel%3D%22stylesheet%22%20href%3D%22https%3A//cdn.jsdelivr.net/npm/leaflet%401.6.0/dist/leaflet.css%22/%3E%0A%20%20%20%20%3Clink%20rel%3D%22stylesheet%22%20href%3D%22https%3A//maxcdn.bootstrapcdn.com/bootstrap/3.2.0/css/bootstrap.min.css%22/%3E%0A%20%20%20%20%3Clink%20rel%3D%22stylesheet%22%20href%3D%22https%3A//maxcdn.bootstrapcdn.com/bootstrap/3.2.0/css/bootstrap-theme.min.css%22/%3E%0A%20%20%20%20%3Clink%20rel%3D%22stylesheet%22%20href%3D%22https%3A//maxcdn.bootstrapcdn.com/font-awesome/4.6.3/css/font-awesome.min.css%22/%3E%0A%20%20%20%20%3Clink%20rel%3D%22stylesheet%22%20href%3D%22https%3A//cdnjs.cloudflare.com/ajax/libs/Leaflet.awesome-markers/2.0.2/leaflet.awesome-markers.css%22/%3E%0A%20%20%20%20%3Clink%20rel%3D%22stylesheet%22%20href%3D%22https%3A//cdn.jsdelivr.net/gh/python-visualization/folium/folium/templates/leaflet.awesome.rotate.min.css%22/%3E%0A%20%20%20%20%0A%20%20%20%20%20%20%20%20%20%20%20%20%3Cmeta%20name%3D%22viewport%22%20content%3D%22width%3Ddevice-width%2C%0A%20%20%20%20%20%20%20%20%20%20%20%20%20%20%20%20initial-scale%3D1.0%2C%20maximum-scale%3D1.0%2C%20user-scalable%3Dno%22%20/%3E%0A%20%20%20%20%20%20%20%20%20%20%20%20%3Cstyle%3E%0A%20%20%20%20%20%20%20%20%20%20%20%20%20%20%20%20%23map_bece0a4d377a44cfbfb7d396934fcfdb%20%7B%0A%20%20%20%20%20%20%20%20%20%20%20%20%20%20%20%20%20%20%20%20position%3A%20relative%3B%0A%20%20%20%20%20%20%20%20%20%20%20%20%20%20%20%20%20%20%20%20width%3A%20100.0%25%3B%0A%20%20%20%20%20%20%20%20%20%20%20%20%20%20%20%20%20%20%20%20height%3A%20100.0%25%3B%0A%20%20%20%20%20%20%20%20%20%20%20%20%20%20%20%20%20%20%20%20left%3A%200.0%25%3B%0A%20%20%20%20%20%20%20%20%20%20%20%20%20%20%20%20%20%20%20%20top%3A%200.0%25%3B%0A%20%20%20%20%20%20%20%20%20%20%20%20%20%20%20%20%7D%0A%20%20%20%20%20%20%20%20%20%20%20%20%3C/style%3E%0A%20%20%20%20%20%20%20%20%0A%3C/head%3E%0A%3Cbody%3E%20%20%20%20%0A%20%20%20%20%0A%20%20%20%20%20%20%20%20%20%20%20%20%3Cdiv%20class%3D%22folium-map%22%20id%3D%22map_bece0a4d377a44cfbfb7d396934fcfdb%22%20%3E%3C/div%3E%0A%20%20%20%20%20%20%20%20%0A%3C/body%3E%0A%3Cscript%3E%20%20%20%20%0A%20%20%20%20%0A%20%20%20%20%20%20%20%20%20%20%20%20var%20map_bece0a4d377a44cfbfb7d396934fcfdb%20%3D%20L.map%28%0A%20%20%20%20%20%20%20%20%20%20%20%20%20%20%20%20%22map_bece0a4d377a44cfbfb7d396934fcfdb%22%2C%0A%20%20%20%20%20%20%20%20%20%20%20%20%20%20%20%20%7B%0A%20%20%20%20%20%20%20%20%20%20%20%20%20%20%20%20%20%20%20%20center%3A%20%5B-33.8548157%2C%20151.2164539%5D%2C%0A%20%20%20%20%20%20%20%20%20%20%20%20%20%20%20%20%20%20%20%20crs%3A%20L.CRS.EPSG3857%2C%0A%20%20%20%20%20%20%20%20%20%20%20%20%20%20%20%20%20%20%20%20zoom%3A%2011%2C%0A%20%20%20%20%20%20%20%20%20%20%20%20%20%20%20%20%20%20%20%20zoomControl%3A%20true%2C%0A%20%20%20%20%20%20%20%20%20%20%20%20%20%20%20%20%20%20%20%20preferCanvas%3A%20false%2C%0A%20%20%20%20%20%20%20%20%20%20%20%20%20%20%20%20%7D%0A%20%20%20%20%20%20%20%20%20%20%20%20%29%3B%0A%0A%20%20%20%20%20%20%20%20%20%20%20%20%0A%0A%20%20%20%20%20%20%20%20%0A%20%20%20%20%0A%20%20%20%20%20%20%20%20%20%20%20%20var%20tile_layer_6d610ba1a9fe460a9b76f0aade21bfa3%20%3D%20L.tileLayer%28%0A%20%20%20%20%20%20%20%20%20%20%20%20%20%20%20%20%22https%3A//%7Bs%7D.tile.openstreetmap.org/%7Bz%7D/%7Bx%7D/%7By%7D.png%22%2C%0A%20%20%20%20%20%20%20%20%20%20%20%20%20%20%20%20%7B%22attribution%22%3A%20%22Data%20by%20%5Cu0026copy%3B%20%5Cu003ca%20href%3D%5C%22http%3A//openstreetmap.org%5C%22%5Cu003eOpenStreetMap%5Cu003c/a%5Cu003e%2C%20under%20%5Cu003ca%20href%3D%5C%22http%3A//www.openstreetmap.org/copyright%5C%22%5Cu003eODbL%5Cu003c/a%5Cu003e.%22%2C%20%22detectRetina%22%3A%20false%2C%20%22maxNativeZoom%22%3A%2018%2C%20%22maxZoom%22%3A%2018%2C%20%22minZoom%22%3A%200%2C%20%22noWrap%22%3A%20false%2C%20%22opacity%22%3A%201%2C%20%22subdomains%22%3A%20%22abc%22%2C%20%22tms%22%3A%20false%7D%0A%20%20%20%20%20%20%20%20%20%20%20%20%29.addTo%28map_bece0a4d377a44cfbfb7d396934fcfdb%29%3B%0A%20%20%20%20%20%20%20%20%0A%20%20%20%20%0A%20%20%20%20%20%20%20%20%20%20%20%20var%20circle_marker_63f52a23fbc5456c9959485302ad86b0%20%3D%20L.circleMarker%28%0A%20%20%20%20%20%20%20%20%20%20%20%20%20%20%20%20%5B-34.79%2C%20147.69%5D%2C%0A%20%20%20%20%20%20%20%20%20%20%20%20%20%20%20%20%7B%22bubblingMouseEvents%22%3A%20true%2C%20%22color%22%3A%20%22%2300b5eb%22%2C%20%22dashArray%22%3A%20null%2C%20%22dashOffset%22%3A%20null%2C%20%22fill%22%3A%20true%2C%20%22fillColor%22%3A%20%22%2300b5eb%22%2C%20%22fillOpacity%22%3A%200.7%2C%20%22fillRule%22%3A%20%22evenodd%22%2C%20%22lineCap%22%3A%20%22round%22%2C%20%22lineJoin%22%3A%20%22round%22%2C%20%22opacity%22%3A%201.0%2C%20%22radius%22%3A%205%2C%20%22stroke%22%3A%20true%2C%20%22weight%22%3A%203%7D%0A%20%20%20%20%20%20%20%20%20%20%20%20%29.addTo%28map_bece0a4d377a44cfbfb7d396934fcfdb%29%3B%0A%20%20%20%20%20%20%20%20%0A%20%20%20%20%0A%20%20%20%20%20%20%20%20var%20popup_b5bae4c75425495088922915ddfe2281%20%3D%20L.popup%28%7B%22maxWidth%22%3A%20%22100%25%22%7D%29%3B%0A%0A%20%20%20%20%20%20%20%20%0A%20%20%20%20%20%20%20%20%20%20%20%20var%20html_cabacf22bb094e95a51282fce582be2f%20%3D%20%24%28%60%3Cdiv%20id%3D%22html_cabacf22bb094e95a51282fce582be2f%22%20style%3D%22width%3A%20100.0%25%3B%20height%3A%20100.0%25%3B%22%3ESydney%20Cluster%202.0%3C/div%3E%60%29%5B0%5D%3B%0A%20%20%20%20%20%20%20%20%20%20%20%20popup_b5bae4c75425495088922915ddfe2281.setContent%28html_cabacf22bb094e95a51282fce582be2f%29%3B%0A%20%20%20%20%20%20%20%20%0A%0A%20%20%20%20%20%20%20%20circle_marker_63f52a23fbc5456c9959485302ad86b0.bindPopup%28popup_b5bae4c75425495088922915ddfe2281%29%0A%20%20%20%20%20%20%20%20%3B%0A%0A%20%20%20%20%20%20%20%20%0A%20%20%20%20%0A%20%20%20%20%0A%20%20%20%20%20%20%20%20%20%20%20%20var%20circle_marker_bdb0e2f6979a492b89670d5da5002601%20%3D%20L.circleMarker%28%0A%20%20%20%20%20%20%20%20%20%20%20%20%20%20%20%20%5B-33.89%2C%20151.18%5D%2C%0A%20%20%20%20%20%20%20%20%20%20%20%20%20%20%20%20%7B%22bubblingMouseEvents%22%3A%20true%2C%20%22color%22%3A%20%22%238000ff%22%2C%20%22dashArray%22%3A%20null%2C%20%22dashOffset%22%3A%20null%2C%20%22fill%22%3A%20true%2C%20%22fillColor%22%3A%20%22%238000ff%22%2C%20%22fillOpacity%22%3A%200.7%2C%20%22fillRule%22%3A%20%22evenodd%22%2C%20%22lineCap%22%3A%20%22round%22%2C%20%22lineJoin%22%3A%20%22round%22%2C%20%22opacity%22%3A%201.0%2C%20%22radius%22%3A%205%2C%20%22stroke%22%3A%20true%2C%20%22weight%22%3A%203%7D%0A%20%20%20%20%20%20%20%20%20%20%20%20%29.addTo%28map_bece0a4d377a44cfbfb7d396934fcfdb%29%3B%0A%20%20%20%20%20%20%20%20%0A%20%20%20%20%0A%20%20%20%20%20%20%20%20var%20popup_ce00f15b9ecd4d1590444fee06849998%20%3D%20L.popup%28%7B%22maxWidth%22%3A%20%22100%25%22%7D%29%3B%0A%0A%20%20%20%20%20%20%20%20%0A%20%20%20%20%20%20%20%20%20%20%20%20var%20html_554def1bc98b4b799c337ff844c9cffa%20%3D%20%24%28%60%3Cdiv%20id%3D%22html_554def1bc98b4b799c337ff844c9cffa%22%20style%3D%22width%3A%20100.0%25%3B%20height%3A%20100.0%25%3B%22%3EAustralia%20Square%2C%20Australia%20Square%2C%20Australia%20Square%2C%20Australia%20Square%2C%20Australia%20Square%2C%20Australia%20Square%2C%20Australia%20Square%20Cluster%201.0%3C/div%3E%60%29%5B0%5D%3B%0A%20%20%20%20%20%20%20%20%20%20%20%20popup_ce00f15b9ecd4d1590444fee06849998.setContent%28html_554def1bc98b4b799c337ff844c9cffa%29%3B%0A%20%20%20%20%20%20%20%20%0A%0A%20%20%20%20%20%20%20%20circle_marker_bdb0e2f6979a492b89670d5da5002601.bindPopup%28popup_ce00f15b9ecd4d1590444fee06849998%29%0A%20%20%20%20%20%20%20%20%3B%0A%0A%20%20%20%20%20%20%20%20%0A%20%20%20%20%0A%20%20%20%20%0A%20%20%20%20%20%20%20%20%20%20%20%20var%20circle_marker_0dcc87f88e764c1b98e769a9f4749ef7%20%3D%20L.circleMarker%28%0A%20%20%20%20%20%20%20%20%20%20%20%20%20%20%20%20%5B-33.88%2C%20151.2%5D%2C%0A%20%20%20%20%20%20%20%20%20%20%20%20%20%20%20%20%7B%22bubblingMouseEvents%22%3A%20true%2C%20%22color%22%3A%20%22%238000ff%22%2C%20%22dashArray%22%3A%20null%2C%20%22dashOffset%22%3A%20null%2C%20%22fill%22%3A%20true%2C%20%22fillColor%22%3A%20%22%238000ff%22%2C%20%22fillOpacity%22%3A%200.7%2C%20%22fillRule%22%3A%20%22evenodd%22%2C%20%22lineCap%22%3A%20%22round%22%2C%20%22lineJoin%22%3A%20%22round%22%2C%20%22opacity%22%3A%201.0%2C%20%22radius%22%3A%205%2C%20%22stroke%22%3A%20true%2C%20%22weight%22%3A%203%7D%0A%20%20%20%20%20%20%20%20%20%20%20%20%29.addTo%28map_bece0a4d377a44cfbfb7d396934fcfdb%29%3B%0A%20%20%20%20%20%20%20%20%0A%20%20%20%20%0A%20%20%20%20%20%20%20%20var%20popup_6e7c7ec0243b4640b717215565012dff%20%3D%20L.popup%28%7B%22maxWidth%22%3A%20%22100%25%22%7D%29%3B%0A%0A%20%20%20%20%20%20%20%20%0A%20%20%20%20%20%20%20%20%20%20%20%20var%20html_fbd25e8b289747dc9e7d9c612b35b26b%20%3D%20%24%28%60%3Cdiv%20id%3D%22html_fbd25e8b289747dc9e7d9c612b35b26b%22%20style%3D%22width%3A%20100.0%25%3B%20height%3A%20100.0%25%3B%22%3EBroadway%2C%20Ultimo%20Cluster%201.0%3C/div%3E%60%29%5B0%5D%3B%0A%20%20%20%20%20%20%20%20%20%20%20%20popup_6e7c7ec0243b4640b717215565012dff.setContent%28html_fbd25e8b289747dc9e7d9c612b35b26b%29%3B%0A%20%20%20%20%20%20%20%20%0A%0A%20%20%20%20%20%20%20%20circle_marker_0dcc87f88e764c1b98e769a9f4749ef7.bindPopup%28popup_6e7c7ec0243b4640b717215565012dff%29%0A%20%20%20%20%20%20%20%20%3B%0A%0A%20%20%20%20%20%20%20%20%0A%20%20%20%20%0A%20%20%20%20%0A%20%20%20%20%20%20%20%20%20%20%20%20var%20circle_marker_4e425dfe3d584e8ba18de61d9ed045c0%20%3D%20L.circleMarker%28%0A%20%20%20%20%20%20%20%20%20%20%20%20%20%20%20%20%5B-33.87%2C%20151.19%5D%2C%0A%20%20%20%20%20%20%20%20%20%20%20%20%20%20%20%20%7B%22bubblingMouseEvents%22%3A%20true%2C%20%22color%22%3A%20%22%238000ff%22%2C%20%22dashArray%22%3A%20null%2C%20%22dashOffset%22%3A%20null%2C%20%22fill%22%3A%20true%2C%20%22fillColor%22%3A%20%22%238000ff%22%2C%20%22fillOpacity%22%3A%200.7%2C%20%22fillRule%22%3A%20%22evenodd%22%2C%20%22lineCap%22%3A%20%22round%22%2C%20%22lineJoin%22%3A%20%22round%22%2C%20%22opacity%22%3A%201.0%2C%20%22radius%22%3A%205%2C%20%22stroke%22%3A%20true%2C%20%22weight%22%3A%203%7D%0A%20%20%20%20%20%20%20%20%20%20%20%20%29.addTo%28map_bece0a4d377a44cfbfb7d396934fcfdb%29%3B%0A%20%20%20%20%20%20%20%20%0A%20%20%20%20%0A%20%20%20%20%20%20%20%20var%20popup_a777f2b31b7f42b1bbcd222557278b5d%20%3D%20L.popup%28%7B%22maxWidth%22%3A%20%22100%25%22%7D%29%3B%0A%0A%20%20%20%20%20%20%20%20%0A%20%20%20%20%20%20%20%20%20%20%20%20var%20html_fda4578797ad4b0daed333d8b9a8568b%20%3D%20%24%28%60%3Cdiv%20id%3D%22html_fda4578797ad4b0daed333d8b9a8568b%22%20style%3D%22width%3A%20100.0%25%3B%20height%3A%20100.0%25%3B%22%3EPyrmont%20Cluster%201.0%3C/div%3E%60%29%5B0%5D%3B%0A%20%20%20%20%20%20%20%20%20%20%20%20popup_a777f2b31b7f42b1bbcd222557278b5d.setContent%28html_fda4578797ad4b0daed333d8b9a8568b%29%3B%0A%20%20%20%20%20%20%20%20%0A%0A%20%20%20%20%20%20%20%20circle_marker_4e425dfe3d584e8ba18de61d9ed045c0.bindPopup%28popup_a777f2b31b7f42b1bbcd222557278b5d%29%0A%20%20%20%20%20%20%20%20%3B%0A%0A%20%20%20%20%20%20%20%20%0A%20%20%20%20%0A%20%20%20%20%0A%20%20%20%20%20%20%20%20%20%20%20%20var%20circle_marker_95ec652f9e3f43428e81e2eb3b8008a4%20%3D%20L.circleMarker%28%0A%20%20%20%20%20%20%20%20%20%20%20%20%20%20%20%20%5B-33.87%2C%20151.21%5D%2C%0A%20%20%20%20%20%20%20%20%20%20%20%20%20%20%20%20%7B%22bubblingMouseEvents%22%3A%20true%2C%20%22color%22%3A%20%22%238000ff%22%2C%20%22dashArray%22%3A%20null%2C%20%22dashOffset%22%3A%20null%2C%20%22fill%22%3A%20true%2C%20%22fillColor%22%3A%20%22%238000ff%22%2C%20%22fillOpacity%22%3A%200.7%2C%20%22fillRule%22%3A%20%22evenodd%22%2C%20%22lineCap%22%3A%20%22round%22%2C%20%22lineJoin%22%3A%20%22round%22%2C%20%22opacity%22%3A%201.0%2C%20%22radius%22%3A%205%2C%20%22stroke%22%3A%20true%2C%20%22weight%22%3A%203%7D%0A%20%20%20%20%20%20%20%20%20%20%20%20%29.addTo%28map_bece0a4d377a44cfbfb7d396934fcfdb%29%3B%0A%20%20%20%20%20%20%20%20%0A%20%20%20%20%0A%20%20%20%20%20%20%20%20var%20popup_06979a017a2441c19edad18b3b526d77%20%3D%20L.popup%28%7B%22maxWidth%22%3A%20%22100%25%22%7D%29%3B%0A%0A%20%20%20%20%20%20%20%20%0A%20%20%20%20%20%20%20%20%20%20%20%20var%20html_745b2440b4264fa0aa602cb109320b1d%20%3D%20%24%28%60%3Cdiv%20id%3D%22html_745b2440b4264fa0aa602cb109320b1d%22%20style%3D%22width%3A%20100.0%25%3B%20height%3A%20100.0%25%3B%22%3ERoyal%20Exchange%2C%20Royal%20Exchange%2C%20Royal%20Exchange%2C%20Royal%20Exchange%2C%20Royal%20Exchange%2C%20Queen%20Victoria%20Building%2C%20Queen%20Victoria%20Building%2C%20Queen%20Victoria%20Building%2C%20Queen%20Victoria%20Building%2C%20Queen%20Victoria%20Building%20Cluster%201.0%3C/div%3E%60%29%5B0%5D%3B%0A%20%20%20%20%20%20%20%20%20%20%20%20popup_06979a017a2441c19edad18b3b526d77.setContent%28html_745b2440b4264fa0aa602cb109320b1d%29%3B%0A%20%20%20%20%20%20%20%20%0A%0A%20%20%20%20%20%20%20%20circle_marker_95ec652f9e3f43428e81e2eb3b8008a4.bindPopup%28popup_06979a017a2441c19edad18b3b526d77%29%0A%20%20%20%20%20%20%20%20%3B%0A%0A%20%20%20%20%20%20%20%20%0A%20%20%20%20%0A%20%20%20%20%0A%20%20%20%20%20%20%20%20%20%20%20%20var%20circle_marker_16dd6ca2c69445c6955f939828ae6cc4%20%3D%20L.circleMarker%28%0A%20%20%20%20%20%20%20%20%20%20%20%20%20%20%20%20%5B-33.86%2C%20151.21%5D%2C%0A%20%20%20%20%20%20%20%20%20%20%20%20%20%20%20%20%7B%22bubblingMouseEvents%22%3A%20true%2C%20%22color%22%3A%20%22%238000ff%22%2C%20%22dashArray%22%3A%20null%2C%20%22dashOffset%22%3A%20null%2C%20%22fill%22%3A%20true%2C%20%22fillColor%22%3A%20%22%238000ff%22%2C%20%22fillOpacity%22%3A%200.7%2C%20%22fillRule%22%3A%20%22evenodd%22%2C%20%22lineCap%22%3A%20%22round%22%2C%20%22lineJoin%22%3A%20%22round%22%2C%20%22opacity%22%3A%201.0%2C%20%22radius%22%3A%205%2C%20%22stroke%22%3A%20true%2C%20%22weight%22%3A%203%7D%0A%20%20%20%20%20%20%20%20%20%20%20%20%29.addTo%28map_bece0a4d377a44cfbfb7d396934fcfdb%29%3B%0A%20%20%20%20%20%20%20%20%0A%20%20%20%20%0A%20%20%20%20%20%20%20%20var%20popup_dc795ffd8a4c4740b618c8dfbbe58d0c%20%3D%20L.popup%28%7B%22maxWidth%22%3A%20%22100%25%22%7D%29%3B%0A%0A%20%20%20%20%20%20%20%20%0A%20%20%20%20%20%20%20%20%20%20%20%20var%20html_7695a9e60a2348cba08c9b2af4537ce7%20%3D%20%24%28%60%3Cdiv%20id%3D%22html_7695a9e60a2348cba08c9b2af4537ce7%22%20style%3D%22width%3A%20100.0%25%3B%20height%3A%20100.0%25%3B%22%3EBarangaroo%2C%20Dawes%20Point%2C%20Haymarket%2C%20Millers%20Point%2C%20Parliament%20House%2C%20Sydney%2C%20Sydney%20South%2C%20The%20Rocks%20Cluster%201.0%3C/div%3E%60%29%5B0%5D%3B%0A%20%20%20%20%20%20%20%20%20%20%20%20popup_dc795ffd8a4c4740b618c8dfbbe58d0c.setContent%28html_7695a9e60a2348cba08c9b2af4537ce7%29%3B%0A%20%20%20%20%20%20%20%20%0A%0A%20%20%20%20%20%20%20%20circle_marker_16dd6ca2c69445c6955f939828ae6cc4.bindPopup%28popup_dc795ffd8a4c4740b618c8dfbbe58d0c%29%0A%20%20%20%20%20%20%20%20%3B%0A%0A%20%20%20%20%20%20%20%20%0A%20%20%20%20%0A%20%20%20%20%0A%20%20%20%20%20%20%20%20%20%20%20%20var%20circle_marker_894dcce987d64892af48db97bcefd14c%20%3D%20L.circleMarker%28%0A%20%20%20%20%20%20%20%20%20%20%20%20%20%20%20%20%5B-33.82%2C%20151.04%5D%2C%0A%20%20%20%20%20%20%20%20%20%20%20%20%20%20%20%20%7B%22bubblingMouseEvents%22%3A%20true%2C%20%22color%22%3A%20%22%23ffb360%22%2C%20%22dashArray%22%3A%20null%2C%20%22dashOffset%22%3A%20null%2C%20%22fill%22%3A%20true%2C%20%22fillColor%22%3A%20%22%23ffb360%22%2C%20%22fillOpacity%22%3A%200.7%2C%20%22fillRule%22%3A%20%22evenodd%22%2C%20%22lineCap%22%3A%20%22round%22%2C%20%22lineJoin%22%3A%20%22round%22%2C%20%22opacity%22%3A%201.0%2C%20%22radius%22%3A%205%2C%20%22stroke%22%3A%20true%2C%20%22weight%22%3A%203%7D%0A%20%20%20%20%20%20%20%20%20%20%20%20%29.addTo%28map_bece0a4d377a44cfbfb7d396934fcfdb%29%3B%0A%20%20%20%20%20%20%20%20%0A%20%20%20%20%0A%20%20%20%20%20%20%20%20var%20popup_88299fecb57143869704dee9e3070e01%20%3D%20L.popup%28%7B%22maxWidth%22%3A%20%22100%25%22%7D%29%3B%0A%0A%20%20%20%20%20%20%20%20%0A%20%20%20%20%20%20%20%20%20%20%20%20var%20html_726e9b1e131b4dfa8cd392718840819d%20%3D%20%24%28%60%3Cdiv%20id%3D%22html_726e9b1e131b4dfa8cd392718840819d%22%20style%3D%22width%3A%20100.0%25%3B%20height%3A%20100.0%25%3B%22%3ESydney%20South%2C%20Sydney%20South%2C%20Sydney%20South%2C%20Sydney%20South%2C%20Sydney%20South%20Cluster%204.0%3C/div%3E%60%29%5B0%5D%3B%0A%20%20%20%20%20%20%20%20%20%20%20%20popup_88299fecb57143869704dee9e3070e01.setContent%28html_726e9b1e131b4dfa8cd392718840819d%29%3B%0A%20%20%20%20%20%20%20%20%0A%0A%20%20%20%20%20%20%20%20circle_marker_894dcce987d64892af48db97bcefd14c.bindPopup%28popup_88299fecb57143869704dee9e3070e01%29%0A%20%20%20%20%20%20%20%20%3B%0A%0A%20%20%20%20%20%20%20%20%0A%20%20%20%20%0A%20%20%20%20%0A%20%20%20%20%20%20%20%20%20%20%20%20var%20circle_marker_ff8b0527f7e84f99855025e5d452573d%20%3D%20L.circleMarker%28%0A%20%20%20%20%20%20%20%20%20%20%20%20%20%20%20%20%5B-33.79%2C%20151.27%5D%2C%0A%20%20%20%20%20%20%20%20%20%20%20%20%20%20%20%20%7B%22bubblingMouseEvents%22%3A%20true%2C%20%22color%22%3A%20%22%238000ff%22%2C%20%22dashArray%22%3A%20null%2C%20%22dashOffset%22%3A%20null%2C%20%22fill%22%3A%20true%2C%20%22fillColor%22%3A%20%22%238000ff%22%2C%20%22fillOpacity%22%3A%200.7%2C%20%22fillRule%22%3A%20%22evenodd%22%2C%20%22lineCap%22%3A%20%22round%22%2C%20%22lineJoin%22%3A%20%22round%22%2C%20%22opacity%22%3A%201.0%2C%20%22radius%22%3A%205%2C%20%22stroke%22%3A%20true%2C%20%22weight%22%3A%203%7D%0A%20%20%20%20%20%20%20%20%20%20%20%20%29.addTo%28map_bece0a4d377a44cfbfb7d396934fcfdb%29%3B%0A%20%20%20%20%20%20%20%20%0A%20%20%20%20%0A%20%20%20%20%20%20%20%20var%20popup_d199712fffad4cb4a65fcaa038938dd3%20%3D%20L.popup%28%7B%22maxWidth%22%3A%20%22100%25%22%7D%29%3B%0A%0A%20%20%20%20%20%20%20%20%0A%20%20%20%20%20%20%20%20%20%20%20%20var%20html_6a11474d976744e6b6a0900f1af8a3ab%20%3D%20%24%28%60%3Cdiv%20id%3D%22html_6a11474d976744e6b6a0900f1af8a3ab%22%20style%3D%22width%3A%20100.0%25%3B%20height%3A%20100.0%25%3B%22%3ESydney%2C%20Sydney%2C%20Sydney%2C%20Sydney%2C%20Sydney%2C%20Sydney%2C%20Sydney%2C%20Sydney%2C%20Sydney%2C%20Sydney%2C%20Sydney%2C%20Sydney%2C%20Sydney%2C%20Sydney%2C%20Sydney%2C%20Sydney%2C%20Sydney%2C%20Sydney%2C%20Sydney%2C%20Sydney%2C%20Sydney%2C%20Sydney%2C%20Sydney%2C%20Sydney%2C%20Sydney%2C%20Sydney%2C%20Sydney%2C%20Sydney%2C%20Sydney%2C%20Sydney%2C%20Sydney%2C%20Sydney%2C%20Sydney%2C%20Sydney%2C%20Sydney%2C%20Sydney%2C%20Sydney%2C%20Sydney%2C%20Sydney%2C%20Sydney%2C%20Sydney%2C%20Sydney%2C%20Sydney%2C%20Sydney%2C%20Sydney%2C%20Sydney%2C%20Sydney%2C%20Sydney%2C%20Sydney%2C%20Sydney%2C%20Sydney%2C%20Sydney%2C%20Sydney%2C%20Sydney%2C%20Sydney%2C%20Sydney%2C%20Sydney%2C%20Sydney%2C%20Sydney%2C%20Sydney%2C%20Sydney%2C%20Sydney%2C%20Sydney%2C%20Sydney%2C%20Sydney%2C%20Sydney%2C%20Sydney%2C%20Sydney%2C%20Sydney%2C%20Sydney%2C%20Sydney%2C%20Sydney%2C%20Sydney%2C%20Sydney%2C%20Sydney%2C%20Sydney%2C%20Sydney%2C%20Sydney%2C%20Sydney%2C%20Sydney%2C%20Sydney%2C%20Sydney%2C%20Sydney%2C%20Sydney%2C%20Sydney%2C%20Sydney%2C%20Sydney%2C%20Sydney%2C%20Sydney%2C%20Sydney%2C%20Sydney%2C%20Sydney%2C%20Sydney%2C%20Sydney%2C%20Sydney%2C%20Sydney%2C%20Sydney%2C%20Sydney%2C%20Sydney%2C%20Sydney%2C%20Sydney%2C%20Sydney%2C%20Sydney%2C%20Sydney%2C%20Sydney%2C%20Sydney%2C%20Sydney%2C%20Sydney%2C%20Sydney%2C%20Sydney%20Cluster%201.0%3C/div%3E%60%29%5B0%5D%3B%0A%20%20%20%20%20%20%20%20%20%20%20%20popup_d199712fffad4cb4a65fcaa038938dd3.setContent%28html_6a11474d976744e6b6a0900f1af8a3ab%29%3B%0A%20%20%20%20%20%20%20%20%0A%0A%20%20%20%20%20%20%20%20circle_marker_ff8b0527f7e84f99855025e5d452573d.bindPopup%28popup_d199712fffad4cb4a65fcaa038938dd3%29%0A%20%20%20%20%20%20%20%20%3B%0A%0A%20%20%20%20%20%20%20%20%0A%20%20%20%20%0A%20%20%20%20%0A%20%20%20%20%20%20%20%20%20%20%20%20var%20circle_marker_5b159a079c4446378b0be231295af46e%20%3D%20L.circleMarker%28%0A%20%20%20%20%20%20%20%20%20%20%20%20%20%20%20%20%5B-33.74%2C%20151.03%5D%2C%0A%20%20%20%20%20%20%20%20%20%20%20%20%20%20%20%20%7B%22bubblingMouseEvents%22%3A%20true%2C%20%22color%22%3A%20%22%23ff0000%22%2C%20%22dashArray%22%3A%20null%2C%20%22dashOffset%22%3A%20null%2C%20%22fill%22%3A%20true%2C%20%22fillColor%22%3A%20%22%23ff0000%22%2C%20%22fillOpacity%22%3A%200.7%2C%20%22fillRule%22%3A%20%22evenodd%22%2C%20%22lineCap%22%3A%20%22round%22%2C%20%22lineJoin%22%3A%20%22round%22%2C%20%22opacity%22%3A%201.0%2C%20%22radius%22%3A%205%2C%20%22stroke%22%3A%20true%2C%20%22weight%22%3A%203%7D%0A%20%20%20%20%20%20%20%20%20%20%20%20%29.addTo%28map_bece0a4d377a44cfbfb7d396934fcfdb%29%3B%0A%20%20%20%20%20%20%20%20%0A%20%20%20%20%0A%20%20%20%20%20%20%20%20var%20popup_aebd5c2ea10b4019a1ff662d1c3ab519%20%3D%20L.popup%28%7B%22maxWidth%22%3A%20%22100%25%22%7D%29%3B%0A%0A%20%20%20%20%20%20%20%20%0A%20%20%20%20%20%20%20%20%20%20%20%20var%20html_c73bcb5b5a7d4fe2915d007266ad31a7%20%3D%20%24%28%60%3Cdiv%20id%3D%22html_c73bcb5b5a7d4fe2915d007266ad31a7%22%20style%3D%22width%3A%20100.0%25%3B%20height%3A%20100.0%25%3B%22%3EGrosvenor%20Place%2C%20Grosvenor%20Place%2C%20Grosvenor%20Place%2C%20Grosvenor%20Place%2C%20Grosvenor%20Place%20Cluster%200.0%3C/div%3E%60%29%5B0%5D%3B%0A%20%20%20%20%20%20%20%20%20%20%20%20popup_aebd5c2ea10b4019a1ff662d1c3ab519.setContent%28html_c73bcb5b5a7d4fe2915d007266ad31a7%29%3B%0A%20%20%20%20%20%20%20%20%0A%0A%20%20%20%20%20%20%20%20circle_marker_5b159a079c4446378b0be231295af46e.bindPopup%28popup_aebd5c2ea10b4019a1ff662d1c3ab519%29%0A%20%20%20%20%20%20%20%20%3B%0A%0A%20%20%20%20%20%20%20%20%0A%20%20%20%20%0A%20%20%20%20%0A%20%20%20%20%20%20%20%20%20%20%20%20var%20circle_marker_813edca1ceaa4ebd92433ef9349da2ab%20%3D%20L.circleMarker%28%0A%20%20%20%20%20%20%20%20%20%20%20%20%20%20%20%20%5B-33.67%2C%20150.87%5D%2C%0A%20%20%20%20%20%20%20%20%20%20%20%20%20%20%20%20%7B%22bubblingMouseEvents%22%3A%20true%2C%20%22color%22%3A%20%22%2300b5eb%22%2C%20%22dashArray%22%3A%20null%2C%20%22dashOffset%22%3A%20null%2C%20%22fill%22%3A%20true%2C%20%22fillColor%22%3A%20%22%2300b5eb%22%2C%20%22fillOpacity%22%3A%200.7%2C%20%22fillRule%22%3A%20%22evenodd%22%2C%20%22lineCap%22%3A%20%22round%22%2C%20%22lineJoin%22%3A%20%22round%22%2C%20%22opacity%22%3A%201.0%2C%20%22radius%22%3A%205%2C%20%22stroke%22%3A%20true%2C%20%22weight%22%3A%203%7D%0A%20%20%20%20%20%20%20%20%20%20%20%20%29.addTo%28map_bece0a4d377a44cfbfb7d396934fcfdb%29%3B%0A%20%20%20%20%20%20%20%20%0A%20%20%20%20%0A%20%20%20%20%20%20%20%20var%20popup_fdd2b3117a8f49719d204b9a35aeea19%20%3D%20L.popup%28%7B%22maxWidth%22%3A%20%22100%25%22%7D%29%3B%0A%0A%20%20%20%20%20%20%20%20%0A%20%20%20%20%20%20%20%20%20%20%20%20var%20html_97d9349f44554de482f730862e44639e%20%3D%20%24%28%60%3Cdiv%20id%3D%22html_97d9349f44554de482f730862e44639e%22%20style%3D%22width%3A%20100.0%25%3B%20height%3A%20100.0%25%3B%22%3ESydney%20Cluster%202.0%3C/div%3E%60%29%5B0%5D%3B%0A%20%20%20%20%20%20%20%20%20%20%20%20popup_fdd2b3117a8f49719d204b9a35aeea19.setContent%28html_97d9349f44554de482f730862e44639e%29%3B%0A%20%20%20%20%20%20%20%20%0A%0A%20%20%20%20%20%20%20%20circle_marker_813edca1ceaa4ebd92433ef9349da2ab.bindPopup%28popup_fdd2b3117a8f49719d204b9a35aeea19%29%0A%20%20%20%20%20%20%20%20%3B%0A%0A%20%20%20%20%20%20%20%20%0A%20%20%20%20%0A%20%20%20%20%0A%20%20%20%20%20%20%20%20%20%20%20%20var%20circle_marker_7eb7e2c098134c98a9d3c12558535b6c%20%3D%20L.circleMarker%28%0A%20%20%20%20%20%20%20%20%20%20%20%20%20%20%20%20%5B-33.66%2C%20150.87%5D%2C%0A%20%20%20%20%20%20%20%20%20%20%20%20%20%20%20%20%7B%22bubblingMouseEvents%22%3A%20true%2C%20%22color%22%3A%20%22%2380ffb4%22%2C%20%22dashArray%22%3A%20null%2C%20%22dashOffset%22%3A%20null%2C%20%22fill%22%3A%20true%2C%20%22fillColor%22%3A%20%22%2380ffb4%22%2C%20%22fillOpacity%22%3A%200.7%2C%20%22fillRule%22%3A%20%22evenodd%22%2C%20%22lineCap%22%3A%20%22round%22%2C%20%22lineJoin%22%3A%20%22round%22%2C%20%22opacity%22%3A%201.0%2C%20%22radius%22%3A%205%2C%20%22stroke%22%3A%20true%2C%20%22weight%22%3A%203%7D%0A%20%20%20%20%20%20%20%20%20%20%20%20%29.addTo%28map_bece0a4d377a44cfbfb7d396934fcfdb%29%3B%0A%20%20%20%20%20%20%20%20%0A%20%20%20%20%0A%20%20%20%20%20%20%20%20var%20popup_77930d9566f641048bfbd5c4e3d41adc%20%3D%20L.popup%28%7B%22maxWidth%22%3A%20%22100%25%22%7D%29%3B%0A%0A%20%20%20%20%20%20%20%20%0A%20%20%20%20%20%20%20%20%20%20%20%20var%20html_de0fa9c30b6449edbd7f9495ffa25a5c%20%3D%20%24%28%60%3Cdiv%20id%3D%22html_de0fa9c30b6449edbd7f9495ffa25a5c%22%20style%3D%22width%3A%20100.0%25%3B%20height%3A%20100.0%25%3B%22%3ESydney%2C%20Sydney%20Cluster%203.0%3C/div%3E%60%29%5B0%5D%3B%0A%20%20%20%20%20%20%20%20%20%20%20%20popup_77930d9566f641048bfbd5c4e3d41adc.setContent%28html_de0fa9c30b6449edbd7f9495ffa25a5c%29%3B%0A%20%20%20%20%20%20%20%20%0A%0A%20%20%20%20%20%20%20%20circle_marker_7eb7e2c098134c98a9d3c12558535b6c.bindPopup%28popup_77930d9566f641048bfbd5c4e3d41adc%29%0A%20%20%20%20%20%20%20%20%3B%0A%0A%20%20%20%20%20%20%20%20%0A%20%20%20%20%0A%3C/script%3E onload=\"this.contentDocument.open();this.contentDocument.write(    decodeURIComponent(this.getAttribute('data-html')));this.contentDocument.close();\" allowfullscreen webkitallowfullscreen mozallowfullscreen></iframe></div></div>"
      ],
      "text/plain": [
       "<folium.folium.Map at 0x7fbfa2030bb0>"
      ]
     },
     "execution_count": 230,
     "metadata": {},
     "output_type": "execute_result"
    }
   ],
   "source": [
    "# create map\n",
    "map_clusters = folium.Map(location=[latitude_sydney, longitude_sydney], zoom_start=11)\n",
    "\n",
    "# set color scheme for the clusters\n",
    "x = np.arange(kclusters)\n",
    "ys = [i + x + (i*x)**2 for i in range(kclusters)]\n",
    "colors_array = cm.rainbow(np.linspace(0, 1, len(ys)))\n",
    "rainbow = [colors.rgb2hex(i) for i in colors_array]\n",
    "\n",
    "print(rainbow)\n",
    "# add markers to the map\n",
    "markers_colors = []\n",
    "for lat, lon, poi, cluster in zip(sydney_merged['Latitude'], sydney_merged['Longitude'], sydney_merged['Neighbourhood'], sydney_merged['Cluster Labels']):\n",
    "    label = folium.Popup(str(poi) + ' Cluster ' + str(cluster), parse_html=True)\n",
    "    cluster = int(cluster)\n",
    "    folium.CircleMarker(\n",
    "        [lat, lon],\n",
    "        radius=5,\n",
    "        popup=label,\n",
    "        color=rainbow[cluster-1],\n",
    "        fill=True,\n",
    "        fill_color=rainbow[cluster-1],\n",
    "        fill_opacity=0.7).add_to(map_clusters)\n",
    "       \n",
    "map_clusters"
   ]
  },
  {
   "cell_type": "markdown",
   "metadata": {},
   "source": [
    "For Melbourne,"
   ]
  },
  {
   "cell_type": "code",
   "execution_count": 231,
   "metadata": {},
   "outputs": [
    {
     "data": {
      "text/plain": [
       "array([1, 1, 1, 0, 1, 2, 4, 3, 1, 1], dtype=int32)"
      ]
     },
     "execution_count": 231,
     "metadata": {},
     "output_type": "execute_result"
    }
   ],
   "source": [
    "# set number of clusters\n",
    "kclusters = 5\n",
    "\n",
    "melbourne_grouped_clustering = melbourne_grouped.drop('Neighbourhood', 1)\n",
    "\n",
    "# run k-means clustering\n",
    "kmeans = KMeans(n_clusters=kclusters, random_state=0).fit(melbourne_grouped_clustering)\n",
    "\n",
    "# check cluster labels generated for each row in the dataframe\n",
    "kmeans.labels_[0:10]"
   ]
  },
  {
   "cell_type": "code",
   "execution_count": 232,
   "metadata": {},
   "outputs": [],
   "source": [
    "# add clustering labels\n",
    "melbourne_neighbourhoods_venues_sorted.insert(0, 'Cluster Labels', kmeans.labels_)\n",
    "\n",
    "melbourne_merged = melbourne_data\n",
    "\n",
    "# merge manhattan_grouped with manhattan_data to add latitude/longitude for each neighborhood\n",
    "melbourne_merged = melbourne_merged.join(melbourne_neighbourhoods_venues_sorted.set_index('Neighbourhood'), on='Neighbourhood')\n",
    "\n",
    "melbourne_merged = melbourne_merged.dropna() # check the last columns!"
   ]
  },
  {
   "cell_type": "markdown",
   "metadata": {},
   "source": [
    "The visualization of Melbourne clusters should look like this."
   ]
  },
  {
   "cell_type": "code",
   "execution_count": 233,
   "metadata": {},
   "outputs": [
    {
     "name": "stdout",
     "output_type": "stream",
     "text": [
      "['#8000ff', '#00b5eb', '#80ffb4', '#ffb360', '#ff0000']\n"
     ]
    },
    {
     "data": {
      "text/html": [
       "<div style=\"width:100%;\"><div style=\"position:relative;width:100%;height:0;padding-bottom:60%;\"><span style=\"color:#565656\">Make this Notebook Trusted to load map: File -> Trust Notebook</span><iframe src=\"about:blank\" style=\"position:absolute;width:100%;height:100%;left:0;top:0;border:none !important;\" data-html=%3C%21DOCTYPE%20html%3E%0A%3Chead%3E%20%20%20%20%0A%20%20%20%20%3Cmeta%20http-equiv%3D%22content-type%22%20content%3D%22text/html%3B%20charset%3DUTF-8%22%20/%3E%0A%20%20%20%20%0A%20%20%20%20%20%20%20%20%3Cscript%3E%0A%20%20%20%20%20%20%20%20%20%20%20%20L_NO_TOUCH%20%3D%20false%3B%0A%20%20%20%20%20%20%20%20%20%20%20%20L_DISABLE_3D%20%3D%20false%3B%0A%20%20%20%20%20%20%20%20%3C/script%3E%0A%20%20%20%20%0A%20%20%20%20%3Cstyle%3Ehtml%2C%20body%20%7Bwidth%3A%20100%25%3Bheight%3A%20100%25%3Bmargin%3A%200%3Bpadding%3A%200%3B%7D%3C/style%3E%0A%20%20%20%20%3Cstyle%3E%23map%20%7Bposition%3Aabsolute%3Btop%3A0%3Bbottom%3A0%3Bright%3A0%3Bleft%3A0%3B%7D%3C/style%3E%0A%20%20%20%20%3Cscript%20src%3D%22https%3A//cdn.jsdelivr.net/npm/leaflet%401.6.0/dist/leaflet.js%22%3E%3C/script%3E%0A%20%20%20%20%3Cscript%20src%3D%22https%3A//code.jquery.com/jquery-1.12.4.min.js%22%3E%3C/script%3E%0A%20%20%20%20%3Cscript%20src%3D%22https%3A//maxcdn.bootstrapcdn.com/bootstrap/3.2.0/js/bootstrap.min.js%22%3E%3C/script%3E%0A%20%20%20%20%3Cscript%20src%3D%22https%3A//cdnjs.cloudflare.com/ajax/libs/Leaflet.awesome-markers/2.0.2/leaflet.awesome-markers.js%22%3E%3C/script%3E%0A%20%20%20%20%3Clink%20rel%3D%22stylesheet%22%20href%3D%22https%3A//cdn.jsdelivr.net/npm/leaflet%401.6.0/dist/leaflet.css%22/%3E%0A%20%20%20%20%3Clink%20rel%3D%22stylesheet%22%20href%3D%22https%3A//maxcdn.bootstrapcdn.com/bootstrap/3.2.0/css/bootstrap.min.css%22/%3E%0A%20%20%20%20%3Clink%20rel%3D%22stylesheet%22%20href%3D%22https%3A//maxcdn.bootstrapcdn.com/bootstrap/3.2.0/css/bootstrap-theme.min.css%22/%3E%0A%20%20%20%20%3Clink%20rel%3D%22stylesheet%22%20href%3D%22https%3A//maxcdn.bootstrapcdn.com/font-awesome/4.6.3/css/font-awesome.min.css%22/%3E%0A%20%20%20%20%3Clink%20rel%3D%22stylesheet%22%20href%3D%22https%3A//cdnjs.cloudflare.com/ajax/libs/Leaflet.awesome-markers/2.0.2/leaflet.awesome-markers.css%22/%3E%0A%20%20%20%20%3Clink%20rel%3D%22stylesheet%22%20href%3D%22https%3A//cdn.jsdelivr.net/gh/python-visualization/folium/folium/templates/leaflet.awesome.rotate.min.css%22/%3E%0A%20%20%20%20%0A%20%20%20%20%20%20%20%20%20%20%20%20%3Cmeta%20name%3D%22viewport%22%20content%3D%22width%3Ddevice-width%2C%0A%20%20%20%20%20%20%20%20%20%20%20%20%20%20%20%20initial-scale%3D1.0%2C%20maximum-scale%3D1.0%2C%20user-scalable%3Dno%22%20/%3E%0A%20%20%20%20%20%20%20%20%20%20%20%20%3Cstyle%3E%0A%20%20%20%20%20%20%20%20%20%20%20%20%20%20%20%20%23map_7fff4c646cc74eac869706fe9f11d86d%20%7B%0A%20%20%20%20%20%20%20%20%20%20%20%20%20%20%20%20%20%20%20%20position%3A%20relative%3B%0A%20%20%20%20%20%20%20%20%20%20%20%20%20%20%20%20%20%20%20%20width%3A%20100.0%25%3B%0A%20%20%20%20%20%20%20%20%20%20%20%20%20%20%20%20%20%20%20%20height%3A%20100.0%25%3B%0A%20%20%20%20%20%20%20%20%20%20%20%20%20%20%20%20%20%20%20%20left%3A%200.0%25%3B%0A%20%20%20%20%20%20%20%20%20%20%20%20%20%20%20%20%20%20%20%20top%3A%200.0%25%3B%0A%20%20%20%20%20%20%20%20%20%20%20%20%20%20%20%20%7D%0A%20%20%20%20%20%20%20%20%20%20%20%20%3C/style%3E%0A%20%20%20%20%20%20%20%20%0A%3C/head%3E%0A%3Cbody%3E%20%20%20%20%0A%20%20%20%20%0A%20%20%20%20%20%20%20%20%20%20%20%20%3Cdiv%20class%3D%22folium-map%22%20id%3D%22map_7fff4c646cc74eac869706fe9f11d86d%22%20%3E%3C/div%3E%0A%20%20%20%20%20%20%20%20%0A%3C/body%3E%0A%3Cscript%3E%20%20%20%20%0A%20%20%20%20%0A%20%20%20%20%20%20%20%20%20%20%20%20var%20map_7fff4c646cc74eac869706fe9f11d86d%20%3D%20L.map%28%0A%20%20%20%20%20%20%20%20%20%20%20%20%20%20%20%20%22map_7fff4c646cc74eac869706fe9f11d86d%22%2C%0A%20%20%20%20%20%20%20%20%20%20%20%20%20%20%20%20%7B%0A%20%20%20%20%20%20%20%20%20%20%20%20%20%20%20%20%20%20%20%20center%3A%20%5B-37.8142176%2C%20144.9631608%5D%2C%0A%20%20%20%20%20%20%20%20%20%20%20%20%20%20%20%20%20%20%20%20crs%3A%20L.CRS.EPSG3857%2C%0A%20%20%20%20%20%20%20%20%20%20%20%20%20%20%20%20%20%20%20%20zoom%3A%2011%2C%0A%20%20%20%20%20%20%20%20%20%20%20%20%20%20%20%20%20%20%20%20zoomControl%3A%20true%2C%0A%20%20%20%20%20%20%20%20%20%20%20%20%20%20%20%20%20%20%20%20preferCanvas%3A%20false%2C%0A%20%20%20%20%20%20%20%20%20%20%20%20%20%20%20%20%7D%0A%20%20%20%20%20%20%20%20%20%20%20%20%29%3B%0A%0A%20%20%20%20%20%20%20%20%20%20%20%20%0A%0A%20%20%20%20%20%20%20%20%0A%20%20%20%20%0A%20%20%20%20%20%20%20%20%20%20%20%20var%20tile_layer_ebc3ce40808d4b279973ec546eb44efd%20%3D%20L.tileLayer%28%0A%20%20%20%20%20%20%20%20%20%20%20%20%20%20%20%20%22https%3A//%7Bs%7D.tile.openstreetmap.org/%7Bz%7D/%7Bx%7D/%7By%7D.png%22%2C%0A%20%20%20%20%20%20%20%20%20%20%20%20%20%20%20%20%7B%22attribution%22%3A%20%22Data%20by%20%5Cu0026copy%3B%20%5Cu003ca%20href%3D%5C%22http%3A//openstreetmap.org%5C%22%5Cu003eOpenStreetMap%5Cu003c/a%5Cu003e%2C%20under%20%5Cu003ca%20href%3D%5C%22http%3A//www.openstreetmap.org/copyright%5C%22%5Cu003eODbL%5Cu003c/a%5Cu003e.%22%2C%20%22detectRetina%22%3A%20false%2C%20%22maxNativeZoom%22%3A%2018%2C%20%22maxZoom%22%3A%2018%2C%20%22minZoom%22%3A%200%2C%20%22noWrap%22%3A%20false%2C%20%22opacity%22%3A%201%2C%20%22subdomains%22%3A%20%22abc%22%2C%20%22tms%22%3A%20false%7D%0A%20%20%20%20%20%20%20%20%20%20%20%20%29.addTo%28map_7fff4c646cc74eac869706fe9f11d86d%29%3B%0A%20%20%20%20%20%20%20%20%0A%20%20%20%20%0A%20%20%20%20%20%20%20%20%20%20%20%20var%20circle_marker_664ccd5978f4411595021593e1e256a5%20%3D%20L.circleMarker%28%0A%20%20%20%20%20%20%20%20%20%20%20%20%20%20%20%20%5B-38.37%2C%20144.77%5D%2C%0A%20%20%20%20%20%20%20%20%20%20%20%20%20%20%20%20%7B%22bubblingMouseEvents%22%3A%20true%2C%20%22color%22%3A%20%22%2300b5eb%22%2C%20%22dashArray%22%3A%20null%2C%20%22dashOffset%22%3A%20null%2C%20%22fill%22%3A%20true%2C%20%22fillColor%22%3A%20%22%2300b5eb%22%2C%20%22fillOpacity%22%3A%200.7%2C%20%22fillRule%22%3A%20%22evenodd%22%2C%20%22lineCap%22%3A%20%22round%22%2C%20%22lineJoin%22%3A%20%22round%22%2C%20%22opacity%22%3A%201.0%2C%20%22radius%22%3A%205%2C%20%22stroke%22%3A%20true%2C%20%22weight%22%3A%203%7D%0A%20%20%20%20%20%20%20%20%20%20%20%20%29.addTo%28map_7fff4c646cc74eac869706fe9f11d86d%29%3B%0A%20%20%20%20%20%20%20%20%0A%20%20%20%20%0A%20%20%20%20%20%20%20%20var%20popup_6fcdc63dc8944566916e061cf2f11adc%20%3D%20L.popup%28%7B%22maxWidth%22%3A%20%22100%25%22%7D%29%3B%0A%0A%20%20%20%20%20%20%20%20%0A%20%20%20%20%20%20%20%20%20%20%20%20var%20html_70abb2439fe843bcb58321096bb8298b%20%3D%20%24%28%60%3Cdiv%20id%3D%22html_70abb2439fe843bcb58321096bb8298b%22%20style%3D%22width%3A%20100.0%25%3B%20height%3A%20100.0%25%3B%22%3EMelbourne%2C%20Melbourne%2C%20Melbourne%2C%20Melbourne%2C%20Melbourne%2C%20Melbourne%2C%20Melbourne%2C%20Melbourne%2C%20Melbourne%2C%20Melbourne%2C%20Melbourne%2C%20Melbourne%2C%20Melbourne%2C%20Melbourne%2C%20Melbourne%2C%20Melbourne%2C%20Melbourne%2C%20Melbourne%2C%20Melbourne%2C%20Melbourne%2C%20Melbourne%2C%20Melbourne%2C%20Melbourne%2C%20Melbourne%2C%20Melbourne%20Cluster%202.0%3C/div%3E%60%29%5B0%5D%3B%0A%20%20%20%20%20%20%20%20%20%20%20%20popup_6fcdc63dc8944566916e061cf2f11adc.setContent%28html_70abb2439fe843bcb58321096bb8298b%29%3B%0A%20%20%20%20%20%20%20%20%0A%0A%20%20%20%20%20%20%20%20circle_marker_664ccd5978f4411595021593e1e256a5.bindPopup%28popup_6fcdc63dc8944566916e061cf2f11adc%29%0A%20%20%20%20%20%20%20%20%3B%0A%0A%20%20%20%20%20%20%20%20%0A%20%20%20%20%0A%20%20%20%20%0A%20%20%20%20%20%20%20%20%20%20%20%20var%20circle_marker_426a0a7ca1464c27a15694f1851504e8%20%3D%20L.circleMarker%28%0A%20%20%20%20%20%20%20%20%20%20%20%20%20%20%20%20%5B-38.19%2C%20146.29%5D%2C%0A%20%20%20%20%20%20%20%20%20%20%20%20%20%20%20%20%7B%22bubblingMouseEvents%22%3A%20true%2C%20%22color%22%3A%20%22%23ff0000%22%2C%20%22dashArray%22%3A%20null%2C%20%22dashOffset%22%3A%20null%2C%20%22fill%22%3A%20true%2C%20%22fillColor%22%3A%20%22%23ff0000%22%2C%20%22fillOpacity%22%3A%200.7%2C%20%22fillRule%22%3A%20%22evenodd%22%2C%20%22lineCap%22%3A%20%22round%22%2C%20%22lineJoin%22%3A%20%22round%22%2C%20%22opacity%22%3A%201.0%2C%20%22radius%22%3A%205%2C%20%22stroke%22%3A%20true%2C%20%22weight%22%3A%203%7D%0A%20%20%20%20%20%20%20%20%20%20%20%20%29.addTo%28map_7fff4c646cc74eac869706fe9f11d86d%29%3B%0A%20%20%20%20%20%20%20%20%0A%20%20%20%20%0A%20%20%20%20%20%20%20%20var%20popup_f822ea32ff32454892d627682f0a1dfe%20%3D%20L.popup%28%7B%22maxWidth%22%3A%20%22100%25%22%7D%29%3B%0A%0A%20%20%20%20%20%20%20%20%0A%20%20%20%20%20%20%20%20%20%20%20%20var%20html_74c2ec31465f4089b044dd84a0b469fd%20%3D%20%24%28%60%3Cdiv%20id%3D%22html_74c2ec31465f4089b044dd84a0b469fd%22%20style%3D%22width%3A%20100.0%25%3B%20height%3A%20100.0%25%3B%22%3ELaw%20Courts%20Cluster%200.0%3C/div%3E%60%29%5B0%5D%3B%0A%20%20%20%20%20%20%20%20%20%20%20%20popup_f822ea32ff32454892d627682f0a1dfe.setContent%28html_74c2ec31465f4089b044dd84a0b469fd%29%3B%0A%20%20%20%20%20%20%20%20%0A%0A%20%20%20%20%20%20%20%20circle_marker_426a0a7ca1464c27a15694f1851504e8.bindPopup%28popup_f822ea32ff32454892d627682f0a1dfe%29%0A%20%20%20%20%20%20%20%20%3B%0A%0A%20%20%20%20%20%20%20%20%0A%20%20%20%20%0A%20%20%20%20%0A%20%20%20%20%20%20%20%20%20%20%20%20var%20circle_marker_b433337539c34e31921b00a64a325929%20%3D%20L.circleMarker%28%0A%20%20%20%20%20%20%20%20%20%20%20%20%20%20%20%20%5B-38.11%2C%20145.15%5D%2C%0A%20%20%20%20%20%20%20%20%20%20%20%20%20%20%20%20%7B%22bubblingMouseEvents%22%3A%20true%2C%20%22color%22%3A%20%22%238000ff%22%2C%20%22dashArray%22%3A%20null%2C%20%22dashOffset%22%3A%20null%2C%20%22fill%22%3A%20true%2C%20%22fillColor%22%3A%20%22%238000ff%22%2C%20%22fillOpacity%22%3A%200.7%2C%20%22fillRule%22%3A%20%22evenodd%22%2C%20%22lineCap%22%3A%20%22round%22%2C%20%22lineJoin%22%3A%20%22round%22%2C%20%22opacity%22%3A%201.0%2C%20%22radius%22%3A%205%2C%20%22stroke%22%3A%20true%2C%20%22weight%22%3A%203%7D%0A%20%20%20%20%20%20%20%20%20%20%20%20%29.addTo%28map_7fff4c646cc74eac869706fe9f11d86d%29%3B%0A%20%20%20%20%20%20%20%20%0A%20%20%20%20%0A%20%20%20%20%20%20%20%20var%20popup_b284b5753e194c38a01b13f9632aa308%20%3D%20L.popup%28%7B%22maxWidth%22%3A%20%22100%25%22%7D%29%3B%0A%0A%20%20%20%20%20%20%20%20%0A%20%20%20%20%20%20%20%20%20%20%20%20var%20html_dd8cd02e99224701b8a1fe36598deb45%20%3D%20%24%28%60%3Cdiv%20id%3D%22html_dd8cd02e99224701b8a1fe36598deb45%22%20style%3D%22width%3A%20100.0%25%3B%20height%3A%20100.0%25%3B%22%3EEast%20Melbourne%20Cluster%201.0%3C/div%3E%60%29%5B0%5D%3B%0A%20%20%20%20%20%20%20%20%20%20%20%20popup_b284b5753e194c38a01b13f9632aa308.setContent%28html_dd8cd02e99224701b8a1fe36598deb45%29%3B%0A%20%20%20%20%20%20%20%20%0A%0A%20%20%20%20%20%20%20%20circle_marker_b433337539c34e31921b00a64a325929.bindPopup%28popup_b284b5753e194c38a01b13f9632aa308%29%0A%20%20%20%20%20%20%20%20%3B%0A%0A%20%20%20%20%20%20%20%20%0A%20%20%20%20%0A%20%20%20%20%0A%20%20%20%20%20%20%20%20%20%20%20%20var%20circle_marker_fe81ce151e114389bbd04d51cfb5ac37%20%3D%20L.circleMarker%28%0A%20%20%20%20%20%20%20%20%20%20%20%20%20%20%20%20%5B-37.93%2C%20145.03%5D%2C%0A%20%20%20%20%20%20%20%20%20%20%20%20%20%20%20%20%7B%22bubblingMouseEvents%22%3A%20true%2C%20%22color%22%3A%20%22%2380ffb4%22%2C%20%22dashArray%22%3A%20null%2C%20%22dashOffset%22%3A%20null%2C%20%22fill%22%3A%20true%2C%20%22fillColor%22%3A%20%22%2380ffb4%22%2C%20%22fillOpacity%22%3A%200.7%2C%20%22fillRule%22%3A%20%22evenodd%22%2C%20%22lineCap%22%3A%20%22round%22%2C%20%22lineJoin%22%3A%20%22round%22%2C%20%22opacity%22%3A%201.0%2C%20%22radius%22%3A%205%2C%20%22stroke%22%3A%20true%2C%20%22weight%22%3A%203%7D%0A%20%20%20%20%20%20%20%20%20%20%20%20%29.addTo%28map_7fff4c646cc74eac869706fe9f11d86d%29%3B%0A%20%20%20%20%20%20%20%20%0A%20%20%20%20%0A%20%20%20%20%20%20%20%20var%20popup_090e5e0315364c8c8c7884cbb28ce6a0%20%3D%20L.popup%28%7B%22maxWidth%22%3A%20%22100%25%22%7D%29%3B%0A%0A%20%20%20%20%20%20%20%20%0A%20%20%20%20%20%20%20%20%20%20%20%20var%20html_25689ee0064d4e06b29588a1d1be226d%20%3D%20%24%28%60%3Cdiv%20id%3D%22html_25689ee0064d4e06b29588a1d1be226d%22%20style%3D%22width%3A%20100.0%25%3B%20height%3A%20100.0%25%3B%22%3ESouth%20Melbourne%2C%20South%20Melbourne%20DC%20Cluster%203.0%3C/div%3E%60%29%5B0%5D%3B%0A%20%20%20%20%20%20%20%20%20%20%20%20popup_090e5e0315364c8c8c7884cbb28ce6a0.setContent%28html_25689ee0064d4e06b29588a1d1be226d%29%3B%0A%20%20%20%20%20%20%20%20%0A%0A%20%20%20%20%20%20%20%20circle_marker_fe81ce151e114389bbd04d51cfb5ac37.bindPopup%28popup_090e5e0315364c8c8c7884cbb28ce6a0%29%0A%20%20%20%20%20%20%20%20%3B%0A%0A%20%20%20%20%20%20%20%20%0A%20%20%20%20%0A%20%20%20%20%0A%20%20%20%20%20%20%20%20%20%20%20%20var%20circle_marker_001cf490723a44208010cf9bcb8bcdec%20%3D%20L.circleMarker%28%0A%20%20%20%20%20%20%20%20%20%20%20%20%20%20%20%20%5B-37.84%2C%20144.98%5D%2C%0A%20%20%20%20%20%20%20%20%20%20%20%20%20%20%20%20%7B%22bubblingMouseEvents%22%3A%20true%2C%20%22color%22%3A%20%22%23ffb360%22%2C%20%22dashArray%22%3A%20null%2C%20%22dashOffset%22%3A%20null%2C%20%22fill%22%3A%20true%2C%20%22fillColor%22%3A%20%22%23ffb360%22%2C%20%22fillOpacity%22%3A%200.7%2C%20%22fillRule%22%3A%20%22evenodd%22%2C%20%22lineCap%22%3A%20%22round%22%2C%20%22lineJoin%22%3A%20%22round%22%2C%20%22opacity%22%3A%201.0%2C%20%22radius%22%3A%205%2C%20%22stroke%22%3A%20true%2C%20%22weight%22%3A%203%7D%0A%20%20%20%20%20%20%20%20%20%20%20%20%29.addTo%28map_7fff4c646cc74eac869706fe9f11d86d%29%3B%0A%20%20%20%20%20%20%20%20%0A%20%20%20%20%0A%20%20%20%20%20%20%20%20var%20popup_229a5b6524ce42ec9e24b7a23d5065e1%20%3D%20L.popup%28%7B%22maxWidth%22%3A%20%22100%25%22%7D%29%3B%0A%0A%20%20%20%20%20%20%20%20%0A%20%20%20%20%20%20%20%20%20%20%20%20var%20html_32de2abb5d6e42ee9cb680a4adbe60e3%20%3D%20%24%28%60%3Cdiv%20id%3D%22html_32de2abb5d6e42ee9cb680a4adbe60e3%22%20style%3D%22width%3A%20100.0%25%3B%20height%3A%20100.0%25%3B%22%3EMelbourne%2C%20St%20Kilda%20Road%20Central%2C%20St%20Kilda%20Road%20Cluster%204.0%3C/div%3E%60%29%5B0%5D%3B%0A%20%20%20%20%20%20%20%20%20%20%20%20popup_229a5b6524ce42ec9e24b7a23d5065e1.setContent%28html_32de2abb5d6e42ee9cb680a4adbe60e3%29%3B%0A%20%20%20%20%20%20%20%20%0A%0A%20%20%20%20%20%20%20%20circle_marker_001cf490723a44208010cf9bcb8bcdec.bindPopup%28popup_229a5b6524ce42ec9e24b7a23d5065e1%29%0A%20%20%20%20%20%20%20%20%3B%0A%0A%20%20%20%20%20%20%20%20%0A%20%20%20%20%0A%20%20%20%20%0A%20%20%20%20%20%20%20%20%20%20%20%20var%20circle_marker_ae44a25c682e40f1b683df4f5c549e6d%20%3D%20L.circleMarker%28%0A%20%20%20%20%20%20%20%20%20%20%20%20%20%20%20%20%5B-37.82%2C%20144.95%5D%2C%0A%20%20%20%20%20%20%20%20%20%20%20%20%20%20%20%20%7B%22bubblingMouseEvents%22%3A%20true%2C%20%22color%22%3A%20%22%238000ff%22%2C%20%22dashArray%22%3A%20null%2C%20%22dashOffset%22%3A%20null%2C%20%22fill%22%3A%20true%2C%20%22fillColor%22%3A%20%22%238000ff%22%2C%20%22fillOpacity%22%3A%200.7%2C%20%22fillRule%22%3A%20%22evenodd%22%2C%20%22lineCap%22%3A%20%22round%22%2C%20%22lineJoin%22%3A%20%22round%22%2C%20%22opacity%22%3A%201.0%2C%20%22radius%22%3A%205%2C%20%22stroke%22%3A%20true%2C%20%22weight%22%3A%203%7D%0A%20%20%20%20%20%20%20%20%20%20%20%20%29.addTo%28map_7fff4c646cc74eac869706fe9f11d86d%29%3B%0A%20%20%20%20%20%20%20%20%0A%20%20%20%20%0A%20%20%20%20%20%20%20%20var%20popup_c05d95dd81d24888812e4b0808f80c53%20%3D%20L.popup%28%7B%22maxWidth%22%3A%20%22100%25%22%7D%29%3B%0A%0A%20%20%20%20%20%20%20%20%0A%20%20%20%20%20%20%20%20%20%20%20%20var%20html_94e674ed9fb84d2ab0f5c0f4c38ea5bf%20%3D%20%24%28%60%3Cdiv%20id%3D%22html_94e674ed9fb84d2ab0f5c0f4c38ea5bf%22%20style%3D%22width%3A%20100.0%25%3B%20height%3A%20100.0%25%3B%22%3EWorld%20Trade%20Centre%2C%20World%20Trade%20Centre%20Cluster%201.0%3C/div%3E%60%29%5B0%5D%3B%0A%20%20%20%20%20%20%20%20%20%20%20%20popup_c05d95dd81d24888812e4b0808f80c53.setContent%28html_94e674ed9fb84d2ab0f5c0f4c38ea5bf%29%3B%0A%20%20%20%20%20%20%20%20%0A%0A%20%20%20%20%20%20%20%20circle_marker_ae44a25c682e40f1b683df4f5c549e6d.bindPopup%28popup_c05d95dd81d24888812e4b0808f80c53%29%0A%20%20%20%20%20%20%20%20%3B%0A%0A%20%20%20%20%20%20%20%20%0A%20%20%20%20%0A%20%20%20%20%0A%20%20%20%20%20%20%20%20%20%20%20%20var%20circle_marker_b7c31ea5249143b0a07ae63c04d507b7%20%3D%20L.circleMarker%28%0A%20%20%20%20%20%20%20%20%20%20%20%20%20%20%20%20%5B-37.82%2C%20144.96%5D%2C%0A%20%20%20%20%20%20%20%20%20%20%20%20%20%20%20%20%7B%22bubblingMouseEvents%22%3A%20true%2C%20%22color%22%3A%20%22%238000ff%22%2C%20%22dashArray%22%3A%20null%2C%20%22dashOffset%22%3A%20null%2C%20%22fill%22%3A%20true%2C%20%22fillColor%22%3A%20%22%238000ff%22%2C%20%22fillOpacity%22%3A%200.7%2C%20%22fillRule%22%3A%20%22evenodd%22%2C%20%22lineCap%22%3A%20%22round%22%2C%20%22lineJoin%22%3A%20%22round%22%2C%20%22opacity%22%3A%201.0%2C%20%22radius%22%3A%205%2C%20%22stroke%22%3A%20true%2C%20%22weight%22%3A%203%7D%0A%20%20%20%20%20%20%20%20%20%20%20%20%29.addTo%28map_7fff4c646cc74eac869706fe9f11d86d%29%3B%0A%20%20%20%20%20%20%20%20%0A%20%20%20%20%0A%20%20%20%20%20%20%20%20var%20popup_be6f324937924a8b9729485223359bce%20%3D%20L.popup%28%7B%22maxWidth%22%3A%20%22100%25%22%7D%29%3B%0A%0A%20%20%20%20%20%20%20%20%0A%20%20%20%20%20%20%20%20%20%20%20%20var%20html_6f721a471b564d55ad302a2e4630b84a%20%3D%20%24%28%60%3Cdiv%20id%3D%22html_6f721a471b564d55ad302a2e4630b84a%22%20style%3D%22width%3A%20100.0%25%3B%20height%3A%20100.0%25%3B%22%3EFlinders%20Lane%20Cluster%201.0%3C/div%3E%60%29%5B0%5D%3B%0A%20%20%20%20%20%20%20%20%20%20%20%20popup_be6f324937924a8b9729485223359bce.setContent%28html_6f721a471b564d55ad302a2e4630b84a%29%3B%0A%20%20%20%20%20%20%20%20%0A%0A%20%20%20%20%20%20%20%20circle_marker_b7c31ea5249143b0a07ae63c04d507b7.bindPopup%28popup_be6f324937924a8b9729485223359bce%29%0A%20%20%20%20%20%20%20%20%3B%0A%0A%20%20%20%20%20%20%20%20%0A%20%20%20%20%0A%20%20%20%20%0A%20%20%20%20%20%20%20%20%20%20%20%20var%20circle_marker_daf60284d1da4e3faf6db0ec245cd786%20%3D%20L.circleMarker%28%0A%20%20%20%20%20%20%20%20%20%20%20%20%20%20%20%20%5B-37.82%2C%20144.97%5D%2C%0A%20%20%20%20%20%20%20%20%20%20%20%20%20%20%20%20%7B%22bubblingMouseEvents%22%3A%20true%2C%20%22color%22%3A%20%22%238000ff%22%2C%20%22dashArray%22%3A%20null%2C%20%22dashOffset%22%3A%20null%2C%20%22fill%22%3A%20true%2C%20%22fillColor%22%3A%20%22%238000ff%22%2C%20%22fillOpacity%22%3A%200.7%2C%20%22fillRule%22%3A%20%22evenodd%22%2C%20%22lineCap%22%3A%20%22round%22%2C%20%22lineJoin%22%3A%20%22round%22%2C%20%22opacity%22%3A%201.0%2C%20%22radius%22%3A%205%2C%20%22stroke%22%3A%20true%2C%20%22weight%22%3A%203%7D%0A%20%20%20%20%20%20%20%20%20%20%20%20%29.addTo%28map_7fff4c646cc74eac869706fe9f11d86d%29%3B%0A%20%20%20%20%20%20%20%20%0A%20%20%20%20%0A%20%20%20%20%20%20%20%20var%20popup_3f15c67027e44d5c847842100dd9aceb%20%3D%20L.popup%28%7B%22maxWidth%22%3A%20%22100%25%22%7D%29%3B%0A%0A%20%20%20%20%20%20%20%20%0A%20%20%20%20%20%20%20%20%20%20%20%20var%20html_ef5777fdad294a5787b41a0b012b30c4%20%3D%20%24%28%60%3Cdiv%20id%3D%22html_ef5777fdad294a5787b41a0b012b30c4%22%20style%3D%22width%3A%20100.0%25%3B%20height%3A%20100.0%25%3B%22%3ESouth%20Wharf%2C%20Southbank%20Cluster%201.0%3C/div%3E%60%29%5B0%5D%3B%0A%20%20%20%20%20%20%20%20%20%20%20%20popup_3f15c67027e44d5c847842100dd9aceb.setContent%28html_ef5777fdad294a5787b41a0b012b30c4%29%3B%0A%20%20%20%20%20%20%20%20%0A%0A%20%20%20%20%20%20%20%20circle_marker_daf60284d1da4e3faf6db0ec245cd786.bindPopup%28popup_3f15c67027e44d5c847842100dd9aceb%29%0A%20%20%20%20%20%20%20%20%3B%0A%0A%20%20%20%20%20%20%20%20%0A%20%20%20%20%0A%20%20%20%20%0A%20%20%20%20%20%20%20%20%20%20%20%20var%20circle_marker_67e5509a18744a7eacc88e125697ae96%20%3D%20L.circleMarker%28%0A%20%20%20%20%20%20%20%20%20%20%20%20%20%20%20%20%5B-37.82%2C%20144.99%5D%2C%0A%20%20%20%20%20%20%20%20%20%20%20%20%20%20%20%20%7B%22bubblingMouseEvents%22%3A%20true%2C%20%22color%22%3A%20%22%238000ff%22%2C%20%22dashArray%22%3A%20null%2C%20%22dashOffset%22%3A%20null%2C%20%22fill%22%3A%20true%2C%20%22fillColor%22%3A%20%22%238000ff%22%2C%20%22fillOpacity%22%3A%200.7%2C%20%22fillRule%22%3A%20%22evenodd%22%2C%20%22lineCap%22%3A%20%22round%22%2C%20%22lineJoin%22%3A%20%22round%22%2C%20%22opacity%22%3A%201.0%2C%20%22radius%22%3A%205%2C%20%22stroke%22%3A%20true%2C%20%22weight%22%3A%203%7D%0A%20%20%20%20%20%20%20%20%20%20%20%20%29.addTo%28map_7fff4c646cc74eac869706fe9f11d86d%29%3B%0A%20%20%20%20%20%20%20%20%0A%20%20%20%20%0A%20%20%20%20%20%20%20%20var%20popup_a39fb72c407d4f13aff14e9e41a75895%20%3D%20L.popup%28%7B%22maxWidth%22%3A%20%22100%25%22%7D%29%3B%0A%0A%20%20%20%20%20%20%20%20%0A%20%20%20%20%20%20%20%20%20%20%20%20var%20html_4ec27d7e11754037ad373e50bfd5b056%20%3D%20%24%28%60%3Cdiv%20id%3D%22html_4ec27d7e11754037ad373e50bfd5b056%22%20style%3D%22width%3A%20100.0%25%3B%20height%3A%20100.0%25%3B%22%3EEast%20Melbourne%20Cluster%201.0%3C/div%3E%60%29%5B0%5D%3B%0A%20%20%20%20%20%20%20%20%20%20%20%20popup_a39fb72c407d4f13aff14e9e41a75895.setContent%28html_4ec27d7e11754037ad373e50bfd5b056%29%3B%0A%20%20%20%20%20%20%20%20%0A%0A%20%20%20%20%20%20%20%20circle_marker_67e5509a18744a7eacc88e125697ae96.bindPopup%28popup_a39fb72c407d4f13aff14e9e41a75895%29%0A%20%20%20%20%20%20%20%20%3B%0A%0A%20%20%20%20%20%20%20%20%0A%20%20%20%20%0A%20%20%20%20%0A%20%20%20%20%20%20%20%20%20%20%20%20var%20circle_marker_5b938841f9474e02ad82b733765a2ef1%20%3D%20L.circleMarker%28%0A%20%20%20%20%20%20%20%20%20%20%20%20%20%20%20%20%5B-37.81%2C%20144.94%5D%2C%0A%20%20%20%20%20%20%20%20%20%20%20%20%20%20%20%20%7B%22bubblingMouseEvents%22%3A%20true%2C%20%22color%22%3A%20%22%238000ff%22%2C%20%22dashArray%22%3A%20null%2C%20%22dashOffset%22%3A%20null%2C%20%22fill%22%3A%20true%2C%20%22fillColor%22%3A%20%22%238000ff%22%2C%20%22fillOpacity%22%3A%200.7%2C%20%22fillRule%22%3A%20%22evenodd%22%2C%20%22lineCap%22%3A%20%22round%22%2C%20%22lineJoin%22%3A%20%22round%22%2C%20%22opacity%22%3A%201.0%2C%20%22radius%22%3A%205%2C%20%22stroke%22%3A%20true%2C%20%22weight%22%3A%203%7D%0A%20%20%20%20%20%20%20%20%20%20%20%20%29.addTo%28map_7fff4c646cc74eac869706fe9f11d86d%29%3B%0A%20%20%20%20%20%20%20%20%0A%20%20%20%20%0A%20%20%20%20%20%20%20%20var%20popup_2dea9acb190946199c85827a448c6016%20%3D%20L.popup%28%7B%22maxWidth%22%3A%20%22100%25%22%7D%29%3B%0A%0A%20%20%20%20%20%20%20%20%0A%20%20%20%20%20%20%20%20%20%20%20%20var%20html_85759d83f80442a99d3e826ed2dc4e47%20%3D%20%24%28%60%3Cdiv%20id%3D%22html_85759d83f80442a99d3e826ed2dc4e47%22%20style%3D%22width%3A%20100.0%25%3B%20height%3A%20100.0%25%3B%22%3EWest%20Melbourne%20Cluster%201.0%3C/div%3E%60%29%5B0%5D%3B%0A%20%20%20%20%20%20%20%20%20%20%20%20popup_2dea9acb190946199c85827a448c6016.setContent%28html_85759d83f80442a99d3e826ed2dc4e47%29%3B%0A%20%20%20%20%20%20%20%20%0A%0A%20%20%20%20%20%20%20%20circle_marker_5b938841f9474e02ad82b733765a2ef1.bindPopup%28popup_2dea9acb190946199c85827a448c6016%29%0A%20%20%20%20%20%20%20%20%3B%0A%0A%20%20%20%20%20%20%20%20%0A%20%20%20%20%0A%20%20%20%20%0A%20%20%20%20%20%20%20%20%20%20%20%20var%20circle_marker_c07351fa3ed04f6cab993c4e3d11623a%20%3D%20L.circleMarker%28%0A%20%20%20%20%20%20%20%20%20%20%20%20%20%20%20%20%5B-37.81%2C%20144.96%5D%2C%0A%20%20%20%20%20%20%20%20%20%20%20%20%20%20%20%20%7B%22bubblingMouseEvents%22%3A%20true%2C%20%22color%22%3A%20%22%238000ff%22%2C%20%22dashArray%22%3A%20null%2C%20%22dashOffset%22%3A%20null%2C%20%22fill%22%3A%20true%2C%20%22fillColor%22%3A%20%22%238000ff%22%2C%20%22fillOpacity%22%3A%200.7%2C%20%22fillRule%22%3A%20%22evenodd%22%2C%20%22lineCap%22%3A%20%22round%22%2C%20%22lineJoin%22%3A%20%22round%22%2C%20%22opacity%22%3A%201.0%2C%20%22radius%22%3A%205%2C%20%22stroke%22%3A%20true%2C%20%22weight%22%3A%203%7D%0A%20%20%20%20%20%20%20%20%20%20%20%20%29.addTo%28map_7fff4c646cc74eac869706fe9f11d86d%29%3B%0A%20%20%20%20%20%20%20%20%0A%20%20%20%20%0A%20%20%20%20%20%20%20%20var%20popup_a2da555e589542b4a244b4334ec128e6%20%3D%20L.popup%28%7B%22maxWidth%22%3A%20%22100%25%22%7D%29%3B%0A%0A%20%20%20%20%20%20%20%20%0A%20%20%20%20%20%20%20%20%20%20%20%20var%20html_ec0137a817484fb5a86dbac0e13b5546%20%3D%20%24%28%60%3Cdiv%20id%3D%22html_ec0137a817484fb5a86dbac0e13b5546%22%20style%3D%22width%3A%20100.0%25%3B%20height%3A%20100.0%25%3B%22%3EAbeckett%20Street%2C%20Little%20Lonsdale%20Street%20Cluster%201.0%3C/div%3E%60%29%5B0%5D%3B%0A%20%20%20%20%20%20%20%20%20%20%20%20popup_a2da555e589542b4a244b4334ec128e6.setContent%28html_ec0137a817484fb5a86dbac0e13b5546%29%3B%0A%20%20%20%20%20%20%20%20%0A%0A%20%20%20%20%20%20%20%20circle_marker_c07351fa3ed04f6cab993c4e3d11623a.bindPopup%28popup_a2da555e589542b4a244b4334ec128e6%29%0A%20%20%20%20%20%20%20%20%3B%0A%0A%20%20%20%20%20%20%20%20%0A%20%20%20%20%0A%20%20%20%20%0A%20%20%20%20%20%20%20%20%20%20%20%20var%20circle_marker_720e4f85b72647b28ab4e5e4efbb5137%20%3D%20L.circleMarker%28%0A%20%20%20%20%20%20%20%20%20%20%20%20%20%20%20%20%5B-37.81%2C%20144.97%5D%2C%0A%20%20%20%20%20%20%20%20%20%20%20%20%20%20%20%20%7B%22bubblingMouseEvents%22%3A%20true%2C%20%22color%22%3A%20%22%238000ff%22%2C%20%22dashArray%22%3A%20null%2C%20%22dashOffset%22%3A%20null%2C%20%22fill%22%3A%20true%2C%20%22fillColor%22%3A%20%22%238000ff%22%2C%20%22fillOpacity%22%3A%200.7%2C%20%22fillRule%22%3A%20%22evenodd%22%2C%20%22lineCap%22%3A%20%22round%22%2C%20%22lineJoin%22%3A%20%22round%22%2C%20%22opacity%22%3A%201.0%2C%20%22radius%22%3A%205%2C%20%22stroke%22%3A%20true%2C%20%22weight%22%3A%203%7D%0A%20%20%20%20%20%20%20%20%20%20%20%20%29.addTo%28map_7fff4c646cc74eac869706fe9f11d86d%29%3B%0A%20%20%20%20%20%20%20%20%0A%20%20%20%20%0A%20%20%20%20%20%20%20%20var%20popup_37c1c6dc11bd4b7faf61c8ca661144b9%20%3D%20L.popup%28%7B%22maxWidth%22%3A%20%22100%25%22%7D%29%3B%0A%0A%20%20%20%20%20%20%20%20%0A%20%20%20%20%20%20%20%20%20%20%20%20var%20html_b25d143ac58848faac4a2308cba9c553%20%3D%20%24%28%60%3Cdiv%20id%3D%22html_b25d143ac58848faac4a2308cba9c553%22%20style%3D%22width%3A%20100.0%25%3B%20height%3A%20100.0%25%3B%22%3EMelbourne%20Cluster%201.0%3C/div%3E%60%29%5B0%5D%3B%0A%20%20%20%20%20%20%20%20%20%20%20%20popup_37c1c6dc11bd4b7faf61c8ca661144b9.setContent%28html_b25d143ac58848faac4a2308cba9c553%29%3B%0A%20%20%20%20%20%20%20%20%0A%0A%20%20%20%20%20%20%20%20circle_marker_720e4f85b72647b28ab4e5e4efbb5137.bindPopup%28popup_37c1c6dc11bd4b7faf61c8ca661144b9%29%0A%20%20%20%20%20%20%20%20%3B%0A%0A%20%20%20%20%20%20%20%20%0A%20%20%20%20%0A%3C/script%3E onload=\"this.contentDocument.open();this.contentDocument.write(    decodeURIComponent(this.getAttribute('data-html')));this.contentDocument.close();\" allowfullscreen webkitallowfullscreen mozallowfullscreen></iframe></div></div>"
      ],
      "text/plain": [
       "<folium.folium.Map at 0x7fbfa1a1cd00>"
      ]
     },
     "execution_count": 233,
     "metadata": {},
     "output_type": "execute_result"
    }
   ],
   "source": [
    "# create map\n",
    "map_clusters = folium.Map(location=[latitude_melbourne, longitude_melbourne], zoom_start=11)\n",
    "\n",
    "# set color scheme for the clusters\n",
    "x = np.arange(kclusters)\n",
    "ys = [i + x + (i*x)**2 for i in range(kclusters)]\n",
    "colors_array = cm.rainbow(np.linspace(0, 1, len(ys)))\n",
    "rainbow = [colors.rgb2hex(i) for i in colors_array]\n",
    "\n",
    "print(rainbow)\n",
    "# add markers to the map\n",
    "markers_colors = []\n",
    "for lat, lon, poi, cluster in zip(melbourne_merged['Latitude'], melbourne_merged['Longitude'], melbourne_merged['Neighbourhood'], melbourne_merged['Cluster Labels']):\n",
    "    label = folium.Popup(str(poi) + ' Cluster ' + str(cluster), parse_html=True)\n",
    "    cluster = int(cluster)\n",
    "    folium.CircleMarker(\n",
    "        [lat, lon],\n",
    "        radius=5,\n",
    "        popup=label,\n",
    "        color=rainbow[cluster-1],\n",
    "        fill=True,\n",
    "        fill_color=rainbow[cluster-1],\n",
    "        fill_opacity=0.7).add_to(map_clusters)\n",
    "       \n",
    "map_clusters"
   ]
  },
  {
   "cell_type": "markdown",
   "metadata": {},
   "source": [
    "c. Examine the clusters"
   ]
  },
  {
   "cell_type": "markdown",
   "metadata": {},
   "source": [
    "For Sydney,"
   ]
  },
  {
   "cell_type": "code",
   "execution_count": 234,
   "metadata": {},
   "outputs": [
    {
     "data": {
      "text/html": [
       "<div>\n",
       "<style scoped>\n",
       "    .dataframe tbody tr th:only-of-type {\n",
       "        vertical-align: middle;\n",
       "    }\n",
       "\n",
       "    .dataframe tbody tr th {\n",
       "        vertical-align: top;\n",
       "    }\n",
       "\n",
       "    .dataframe thead th {\n",
       "        text-align: right;\n",
       "    }\n",
       "</style>\n",
       "<table border=\"1\" class=\"dataframe\">\n",
       "  <thead>\n",
       "    <tr style=\"text-align: right;\">\n",
       "      <th></th>\n",
       "      <th>Neighbourhood</th>\n",
       "      <th>Cluster Labels</th>\n",
       "      <th>1st Most Common Venue</th>\n",
       "      <th>2nd Most Common Venue</th>\n",
       "      <th>3rd Most Common Venue</th>\n",
       "      <th>4th Most Common Venue</th>\n",
       "      <th>5th Most Common Venue</th>\n",
       "      <th>6th Most Common Venue</th>\n",
       "      <th>7th Most Common Venue</th>\n",
       "      <th>8th Most Common Venue</th>\n",
       "      <th>9th Most Common Venue</th>\n",
       "      <th>10th Most Common Venue</th>\n",
       "    </tr>\n",
       "  </thead>\n",
       "  <tbody>\n",
       "    <tr>\n",
       "      <th>8</th>\n",
       "      <td>Grosvenor Place, Grosvenor Place, Grosvenor Pl...</td>\n",
       "      <td>0.0</td>\n",
       "      <td>Metro Station</td>\n",
       "      <td>Wine Bar</td>\n",
       "      <td>Gourmet Shop</td>\n",
       "      <td>Electronics Store</td>\n",
       "      <td>Fast Food Restaurant</td>\n",
       "      <td>Fish Market</td>\n",
       "      <td>Flea Market</td>\n",
       "      <td>Food Court</td>\n",
       "      <td>Fountain</td>\n",
       "      <td>French Restaurant</td>\n",
       "    </tr>\n",
       "  </tbody>\n",
       "</table>\n",
       "</div>"
      ],
      "text/plain": [
       "                                       Neighbourhood  Cluster Labels  \\\n",
       "8  Grosvenor Place, Grosvenor Place, Grosvenor Pl...             0.0   \n",
       "\n",
       "  1st Most Common Venue 2nd Most Common Venue 3rd Most Common Venue  \\\n",
       "8         Metro Station              Wine Bar          Gourmet Shop   \n",
       "\n",
       "  4th Most Common Venue 5th Most Common Venue 6th Most Common Venue  \\\n",
       "8     Electronics Store  Fast Food Restaurant           Fish Market   \n",
       "\n",
       "  7th Most Common Venue 8th Most Common Venue 9th Most Common Venue  \\\n",
       "8           Flea Market            Food Court              Fountain   \n",
       "\n",
       "  10th Most Common Venue  \n",
       "8      French Restaurant  "
      ]
     },
     "execution_count": 234,
     "metadata": {},
     "output_type": "execute_result"
    }
   ],
   "source": [
    "sydney_merged.loc[sydney_merged['Cluster Labels'] == 0.0, sydney_merged.columns[[4] + list(range(5, sydney_merged.shape[1]))]]"
   ]
  },
  {
   "cell_type": "code",
   "execution_count": 235,
   "metadata": {},
   "outputs": [
    {
     "data": {
      "text/html": [
       "<div>\n",
       "<style scoped>\n",
       "    .dataframe tbody tr th:only-of-type {\n",
       "        vertical-align: middle;\n",
       "    }\n",
       "\n",
       "    .dataframe tbody tr th {\n",
       "        vertical-align: top;\n",
       "    }\n",
       "\n",
       "    .dataframe thead th {\n",
       "        text-align: right;\n",
       "    }\n",
       "</style>\n",
       "<table border=\"1\" class=\"dataframe\">\n",
       "  <thead>\n",
       "    <tr style=\"text-align: right;\">\n",
       "      <th></th>\n",
       "      <th>Neighbourhood</th>\n",
       "      <th>Cluster Labels</th>\n",
       "      <th>1st Most Common Venue</th>\n",
       "      <th>2nd Most Common Venue</th>\n",
       "      <th>3rd Most Common Venue</th>\n",
       "      <th>4th Most Common Venue</th>\n",
       "      <th>5th Most Common Venue</th>\n",
       "      <th>6th Most Common Venue</th>\n",
       "      <th>7th Most Common Venue</th>\n",
       "      <th>8th Most Common Venue</th>\n",
       "      <th>9th Most Common Venue</th>\n",
       "      <th>10th Most Common Venue</th>\n",
       "    </tr>\n",
       "  </thead>\n",
       "  <tbody>\n",
       "    <tr>\n",
       "      <th>1</th>\n",
       "      <td>Australia Square, Australia Square, Australia ...</td>\n",
       "      <td>1.0</td>\n",
       "      <td>Café</td>\n",
       "      <td>Burger Joint</td>\n",
       "      <td>Pizza Place</td>\n",
       "      <td>Pub</td>\n",
       "      <td>Park</td>\n",
       "      <td>Convenience Store</td>\n",
       "      <td>Restaurant</td>\n",
       "      <td>Portuguese Restaurant</td>\n",
       "      <td>Motorcycle Shop</td>\n",
       "      <td>Spanish Restaurant</td>\n",
       "    </tr>\n",
       "    <tr>\n",
       "      <th>2</th>\n",
       "      <td>Broadway, Ultimo</td>\n",
       "      <td>1.0</td>\n",
       "      <td>Café</td>\n",
       "      <td>Thai Restaurant</td>\n",
       "      <td>Chinese Restaurant</td>\n",
       "      <td>Coffee Shop</td>\n",
       "      <td>Malay Restaurant</td>\n",
       "      <td>Japanese Restaurant</td>\n",
       "      <td>Dumpling Restaurant</td>\n",
       "      <td>Indonesian Restaurant</td>\n",
       "      <td>Hotpot Restaurant</td>\n",
       "      <td>Hotel</td>\n",
       "    </tr>\n",
       "    <tr>\n",
       "      <th>3</th>\n",
       "      <td>Pyrmont</td>\n",
       "      <td>1.0</td>\n",
       "      <td>Seafood Restaurant</td>\n",
       "      <td>Café</td>\n",
       "      <td>Fish Market</td>\n",
       "      <td>Japanese Restaurant</td>\n",
       "      <td>Pub</td>\n",
       "      <td>Hotel</td>\n",
       "      <td>Coffee Shop</td>\n",
       "      <td>Sports Club</td>\n",
       "      <td>Butcher</td>\n",
       "      <td>Gym / Fitness Center</td>\n",
       "    </tr>\n",
       "    <tr>\n",
       "      <th>4</th>\n",
       "      <td>Royal Exchange, Royal Exchange, Royal Exchange...</td>\n",
       "      <td>1.0</td>\n",
       "      <td>Café</td>\n",
       "      <td>Coffee Shop</td>\n",
       "      <td>Bar</td>\n",
       "      <td>Shopping Mall</td>\n",
       "      <td>Cocktail Bar</td>\n",
       "      <td>Hotel</td>\n",
       "      <td>Sandwich Place</td>\n",
       "      <td>Japanese Restaurant</td>\n",
       "      <td>Speakeasy</td>\n",
       "      <td>Bookstore</td>\n",
       "    </tr>\n",
       "    <tr>\n",
       "      <th>5</th>\n",
       "      <td>Barangaroo, Dawes Point, Haymarket, Millers Po...</td>\n",
       "      <td>1.0</td>\n",
       "      <td>Café</td>\n",
       "      <td>Hotel</td>\n",
       "      <td>Australian Restaurant</td>\n",
       "      <td>Cocktail Bar</td>\n",
       "      <td>Pub</td>\n",
       "      <td>Hotel Bar</td>\n",
       "      <td>Museum</td>\n",
       "      <td>Steakhouse</td>\n",
       "      <td>Ice Cream Shop</td>\n",
       "      <td>Restaurant</td>\n",
       "    </tr>\n",
       "    <tr>\n",
       "      <th>7</th>\n",
       "      <td>Sydney, Sydney, Sydney, Sydney, Sydney, Sydney...</td>\n",
       "      <td>1.0</td>\n",
       "      <td>Café</td>\n",
       "      <td>Park</td>\n",
       "      <td>Furniture / Home Store</td>\n",
       "      <td>Supermarket</td>\n",
       "      <td>Golf Course</td>\n",
       "      <td>Pet Store</td>\n",
       "      <td>Hardware Store</td>\n",
       "      <td>Sporting Goods Shop</td>\n",
       "      <td>Shopping Mall</td>\n",
       "      <td>Wine Bar</td>\n",
       "    </tr>\n",
       "  </tbody>\n",
       "</table>\n",
       "</div>"
      ],
      "text/plain": [
       "                                       Neighbourhood  Cluster Labels  \\\n",
       "1  Australia Square, Australia Square, Australia ...             1.0   \n",
       "2                                   Broadway, Ultimo             1.0   \n",
       "3                                            Pyrmont             1.0   \n",
       "4  Royal Exchange, Royal Exchange, Royal Exchange...             1.0   \n",
       "5  Barangaroo, Dawes Point, Haymarket, Millers Po...             1.0   \n",
       "7  Sydney, Sydney, Sydney, Sydney, Sydney, Sydney...             1.0   \n",
       "\n",
       "  1st Most Common Venue 2nd Most Common Venue   3rd Most Common Venue  \\\n",
       "1                  Café          Burger Joint             Pizza Place   \n",
       "2                  Café       Thai Restaurant      Chinese Restaurant   \n",
       "3    Seafood Restaurant                  Café             Fish Market   \n",
       "4                  Café           Coffee Shop                     Bar   \n",
       "5                  Café                 Hotel   Australian Restaurant   \n",
       "7                  Café                  Park  Furniture / Home Store   \n",
       "\n",
       "  4th Most Common Venue 5th Most Common Venue 6th Most Common Venue  \\\n",
       "1                   Pub                  Park     Convenience Store   \n",
       "2           Coffee Shop      Malay Restaurant   Japanese Restaurant   \n",
       "3   Japanese Restaurant                   Pub                 Hotel   \n",
       "4         Shopping Mall          Cocktail Bar                 Hotel   \n",
       "5          Cocktail Bar                   Pub             Hotel Bar   \n",
       "7           Supermarket           Golf Course             Pet Store   \n",
       "\n",
       "  7th Most Common Venue  8th Most Common Venue 9th Most Common Venue  \\\n",
       "1            Restaurant  Portuguese Restaurant       Motorcycle Shop   \n",
       "2   Dumpling Restaurant  Indonesian Restaurant     Hotpot Restaurant   \n",
       "3           Coffee Shop            Sports Club               Butcher   \n",
       "4        Sandwich Place    Japanese Restaurant             Speakeasy   \n",
       "5                Museum             Steakhouse        Ice Cream Shop   \n",
       "7        Hardware Store    Sporting Goods Shop         Shopping Mall   \n",
       "\n",
       "  10th Most Common Venue  \n",
       "1     Spanish Restaurant  \n",
       "2                  Hotel  \n",
       "3   Gym / Fitness Center  \n",
       "4              Bookstore  \n",
       "5             Restaurant  \n",
       "7               Wine Bar  "
      ]
     },
     "execution_count": 235,
     "metadata": {},
     "output_type": "execute_result"
    }
   ],
   "source": [
    "sydney_merged.loc[sydney_merged['Cluster Labels'] == 1.0, sydney_merged.columns[[4] + list(range(5, sydney_merged.shape[1]))]]"
   ]
  },
  {
   "cell_type": "code",
   "execution_count": 236,
   "metadata": {},
   "outputs": [
    {
     "data": {
      "text/html": [
       "<div>\n",
       "<style scoped>\n",
       "    .dataframe tbody tr th:only-of-type {\n",
       "        vertical-align: middle;\n",
       "    }\n",
       "\n",
       "    .dataframe tbody tr th {\n",
       "        vertical-align: top;\n",
       "    }\n",
       "\n",
       "    .dataframe thead th {\n",
       "        text-align: right;\n",
       "    }\n",
       "</style>\n",
       "<table border=\"1\" class=\"dataframe\">\n",
       "  <thead>\n",
       "    <tr style=\"text-align: right;\">\n",
       "      <th></th>\n",
       "      <th>Neighbourhood</th>\n",
       "      <th>Cluster Labels</th>\n",
       "      <th>1st Most Common Venue</th>\n",
       "      <th>2nd Most Common Venue</th>\n",
       "      <th>3rd Most Common Venue</th>\n",
       "      <th>4th Most Common Venue</th>\n",
       "      <th>5th Most Common Venue</th>\n",
       "      <th>6th Most Common Venue</th>\n",
       "      <th>7th Most Common Venue</th>\n",
       "      <th>8th Most Common Venue</th>\n",
       "      <th>9th Most Common Venue</th>\n",
       "      <th>10th Most Common Venue</th>\n",
       "    </tr>\n",
       "  </thead>\n",
       "  <tbody>\n",
       "    <tr>\n",
       "      <th>6</th>\n",
       "      <td>Sydney South, Sydney South, Sydney South, Sydn...</td>\n",
       "      <td>4.0</td>\n",
       "      <td>Pier</td>\n",
       "      <td>Climbing Gym</td>\n",
       "      <td>Café</td>\n",
       "      <td>Wine Bar</td>\n",
       "      <td>Golf Course</td>\n",
       "      <td>Fast Food Restaurant</td>\n",
       "      <td>Fish Market</td>\n",
       "      <td>Flea Market</td>\n",
       "      <td>Food Court</td>\n",
       "      <td>Fountain</td>\n",
       "    </tr>\n",
       "  </tbody>\n",
       "</table>\n",
       "</div>"
      ],
      "text/plain": [
       "                                       Neighbourhood  Cluster Labels  \\\n",
       "6  Sydney South, Sydney South, Sydney South, Sydn...             4.0   \n",
       "\n",
       "  1st Most Common Venue 2nd Most Common Venue 3rd Most Common Venue  \\\n",
       "6                  Pier          Climbing Gym                  Café   \n",
       "\n",
       "  4th Most Common Venue 5th Most Common Venue 6th Most Common Venue  \\\n",
       "6              Wine Bar           Golf Course  Fast Food Restaurant   \n",
       "\n",
       "  7th Most Common Venue 8th Most Common Venue 9th Most Common Venue  \\\n",
       "6           Fish Market           Flea Market            Food Court   \n",
       "\n",
       "  10th Most Common Venue  \n",
       "6               Fountain  "
      ]
     },
     "execution_count": 236,
     "metadata": {},
     "output_type": "execute_result"
    }
   ],
   "source": [
    "sydney_merged.loc[sydney_merged['Cluster Labels'] == 4.0, sydney_merged.columns[[4] + list(range(5, sydney_merged.shape[1]))]]"
   ]
  },
  {
   "cell_type": "markdown",
   "metadata": {},
   "source": [
    "For melbourne,"
   ]
  },
  {
   "cell_type": "code",
   "execution_count": 237,
   "metadata": {},
   "outputs": [
    {
     "data": {
      "text/html": [
       "<div>\n",
       "<style scoped>\n",
       "    .dataframe tbody tr th:only-of-type {\n",
       "        vertical-align: middle;\n",
       "    }\n",
       "\n",
       "    .dataframe tbody tr th {\n",
       "        vertical-align: top;\n",
       "    }\n",
       "\n",
       "    .dataframe thead th {\n",
       "        text-align: right;\n",
       "    }\n",
       "</style>\n",
       "<table border=\"1\" class=\"dataframe\">\n",
       "  <thead>\n",
       "    <tr style=\"text-align: right;\">\n",
       "      <th></th>\n",
       "      <th>Neighbourhood</th>\n",
       "      <th>Cluster Labels</th>\n",
       "      <th>1st Most Common Venue</th>\n",
       "      <th>2nd Most Common Venue</th>\n",
       "      <th>3rd Most Common Venue</th>\n",
       "      <th>4th Most Common Venue</th>\n",
       "      <th>5th Most Common Venue</th>\n",
       "      <th>6th Most Common Venue</th>\n",
       "      <th>7th Most Common Venue</th>\n",
       "      <th>8th Most Common Venue</th>\n",
       "      <th>9th Most Common Venue</th>\n",
       "      <th>10th Most Common Venue</th>\n",
       "    </tr>\n",
       "  </thead>\n",
       "  <tbody>\n",
       "    <tr>\n",
       "      <th>1</th>\n",
       "      <td>Law Courts</td>\n",
       "      <td>0.0</td>\n",
       "      <td>Café</td>\n",
       "      <td>Pharmacy</td>\n",
       "      <td>Women's Store</td>\n",
       "      <td>Falafel Restaurant</td>\n",
       "      <td>Football Stadium</td>\n",
       "      <td>Food Truck</td>\n",
       "      <td>Food Court</td>\n",
       "      <td>Flea Market</td>\n",
       "      <td>Filipino Restaurant</td>\n",
       "      <td>Fast Food Restaurant</td>\n",
       "    </tr>\n",
       "  </tbody>\n",
       "</table>\n",
       "</div>"
      ],
      "text/plain": [
       "  Neighbourhood  Cluster Labels 1st Most Common Venue 2nd Most Common Venue  \\\n",
       "1    Law Courts             0.0                  Café              Pharmacy   \n",
       "\n",
       "  3rd Most Common Venue 4th Most Common Venue 5th Most Common Venue  \\\n",
       "1         Women's Store    Falafel Restaurant      Football Stadium   \n",
       "\n",
       "  6th Most Common Venue 7th Most Common Venue 8th Most Common Venue  \\\n",
       "1            Food Truck            Food Court           Flea Market   \n",
       "\n",
       "  9th Most Common Venue 10th Most Common Venue  \n",
       "1   Filipino Restaurant   Fast Food Restaurant  "
      ]
     },
     "execution_count": 237,
     "metadata": {},
     "output_type": "execute_result"
    }
   ],
   "source": [
    "melbourne_merged.loc[melbourne_merged['Cluster Labels'] == 0.0, melbourne_merged.columns[[4] + list(range(5, melbourne_merged.shape[1]))]]"
   ]
  },
  {
   "cell_type": "code",
   "execution_count": 238,
   "metadata": {},
   "outputs": [
    {
     "data": {
      "text/html": [
       "<div>\n",
       "<style scoped>\n",
       "    .dataframe tbody tr th:only-of-type {\n",
       "        vertical-align: middle;\n",
       "    }\n",
       "\n",
       "    .dataframe tbody tr th {\n",
       "        vertical-align: top;\n",
       "    }\n",
       "\n",
       "    .dataframe thead th {\n",
       "        text-align: right;\n",
       "    }\n",
       "</style>\n",
       "<table border=\"1\" class=\"dataframe\">\n",
       "  <thead>\n",
       "    <tr style=\"text-align: right;\">\n",
       "      <th></th>\n",
       "      <th>Neighbourhood</th>\n",
       "      <th>Cluster Labels</th>\n",
       "      <th>1st Most Common Venue</th>\n",
       "      <th>2nd Most Common Venue</th>\n",
       "      <th>3rd Most Common Venue</th>\n",
       "      <th>4th Most Common Venue</th>\n",
       "      <th>5th Most Common Venue</th>\n",
       "      <th>6th Most Common Venue</th>\n",
       "      <th>7th Most Common Venue</th>\n",
       "      <th>8th Most Common Venue</th>\n",
       "      <th>9th Most Common Venue</th>\n",
       "      <th>10th Most Common Venue</th>\n",
       "    </tr>\n",
       "  </thead>\n",
       "  <tbody>\n",
       "    <tr>\n",
       "      <th>2</th>\n",
       "      <td>East Melbourne</td>\n",
       "      <td>1.0</td>\n",
       "      <td>Café</td>\n",
       "      <td>Pub</td>\n",
       "      <td>Coffee Shop</td>\n",
       "      <td>Thai Restaurant</td>\n",
       "      <td>Construction &amp; Landscaping</td>\n",
       "      <td>Sporting Goods Shop</td>\n",
       "      <td>Bus Stop</td>\n",
       "      <td>Convenience Store</td>\n",
       "      <td>Pharmacy</td>\n",
       "      <td>Park</td>\n",
       "    </tr>\n",
       "    <tr>\n",
       "      <th>5</th>\n",
       "      <td>World Trade Centre, World Trade Centre</td>\n",
       "      <td>1.0</td>\n",
       "      <td>Café</td>\n",
       "      <td>Coffee Shop</td>\n",
       "      <td>Hotel</td>\n",
       "      <td>Bar</td>\n",
       "      <td>Fast Food Restaurant</td>\n",
       "      <td>Japanese Restaurant</td>\n",
       "      <td>Thai Restaurant</td>\n",
       "      <td>Convenience Store</td>\n",
       "      <td>Salad Place</td>\n",
       "      <td>Pie Shop</td>\n",
       "    </tr>\n",
       "    <tr>\n",
       "      <th>6</th>\n",
       "      <td>Flinders Lane</td>\n",
       "      <td>1.0</td>\n",
       "      <td>Café</td>\n",
       "      <td>Coffee Shop</td>\n",
       "      <td>Bar</td>\n",
       "      <td>Japanese Restaurant</td>\n",
       "      <td>Italian Restaurant</td>\n",
       "      <td>Cocktail Bar</td>\n",
       "      <td>Steakhouse</td>\n",
       "      <td>Australian Restaurant</td>\n",
       "      <td>Sandwich Place</td>\n",
       "      <td>Hotel</td>\n",
       "    </tr>\n",
       "    <tr>\n",
       "      <th>7</th>\n",
       "      <td>South Wharf, Southbank</td>\n",
       "      <td>1.0</td>\n",
       "      <td>Bar</td>\n",
       "      <td>Art Gallery</td>\n",
       "      <td>Park</td>\n",
       "      <td>Coffee Shop</td>\n",
       "      <td>Performing Arts Venue</td>\n",
       "      <td>Theater</td>\n",
       "      <td>Music Venue</td>\n",
       "      <td>Spanish Restaurant</td>\n",
       "      <td>Hotel</td>\n",
       "      <td>Ice Cream Shop</td>\n",
       "    </tr>\n",
       "    <tr>\n",
       "      <th>8</th>\n",
       "      <td>East Melbourne</td>\n",
       "      <td>1.0</td>\n",
       "      <td>Café</td>\n",
       "      <td>Pub</td>\n",
       "      <td>Coffee Shop</td>\n",
       "      <td>Thai Restaurant</td>\n",
       "      <td>Construction &amp; Landscaping</td>\n",
       "      <td>Sporting Goods Shop</td>\n",
       "      <td>Bus Stop</td>\n",
       "      <td>Convenience Store</td>\n",
       "      <td>Pharmacy</td>\n",
       "      <td>Park</td>\n",
       "    </tr>\n",
       "    <tr>\n",
       "      <th>9</th>\n",
       "      <td>West Melbourne</td>\n",
       "      <td>1.0</td>\n",
       "      <td>Juice Bar</td>\n",
       "      <td>Clothing Store</td>\n",
       "      <td>Gift Shop</td>\n",
       "      <td>Shopping Mall</td>\n",
       "      <td>Dessert Shop</td>\n",
       "      <td>Café</td>\n",
       "      <td>Chinese Restaurant</td>\n",
       "      <td>Skating Rink</td>\n",
       "      <td>Burger Joint</td>\n",
       "      <td>Sandwich Place</td>\n",
       "    </tr>\n",
       "    <tr>\n",
       "      <th>10</th>\n",
       "      <td>Abeckett Street, Little Lonsdale Street</td>\n",
       "      <td>1.0</td>\n",
       "      <td>Café</td>\n",
       "      <td>Coffee Shop</td>\n",
       "      <td>Korean Restaurant</td>\n",
       "      <td>Japanese Restaurant</td>\n",
       "      <td>Bar</td>\n",
       "      <td>Malay Restaurant</td>\n",
       "      <td>Fried Chicken Joint</td>\n",
       "      <td>Donut Shop</td>\n",
       "      <td>Indonesian Restaurant</td>\n",
       "      <td>Shopping Mall</td>\n",
       "    </tr>\n",
       "    <tr>\n",
       "      <th>11</th>\n",
       "      <td>Melbourne</td>\n",
       "      <td>1.0</td>\n",
       "      <td>Café</td>\n",
       "      <td>Cocktail Bar</td>\n",
       "      <td>Coffee Shop</td>\n",
       "      <td>Hotel</td>\n",
       "      <td>Bar</td>\n",
       "      <td>Wine Bar</td>\n",
       "      <td>Japanese Restaurant</td>\n",
       "      <td>Ramen Restaurant</td>\n",
       "      <td>Dessert Shop</td>\n",
       "      <td>Tapas Restaurant</td>\n",
       "    </tr>\n",
       "  </tbody>\n",
       "</table>\n",
       "</div>"
      ],
      "text/plain": [
       "                              Neighbourhood  Cluster Labels  \\\n",
       "2                            East Melbourne             1.0   \n",
       "5    World Trade Centre, World Trade Centre             1.0   \n",
       "6                             Flinders Lane             1.0   \n",
       "7                    South Wharf, Southbank             1.0   \n",
       "8                            East Melbourne             1.0   \n",
       "9                            West Melbourne             1.0   \n",
       "10  Abeckett Street, Little Lonsdale Street             1.0   \n",
       "11                                Melbourne             1.0   \n",
       "\n",
       "   1st Most Common Venue 2nd Most Common Venue 3rd Most Common Venue  \\\n",
       "2                   Café                   Pub           Coffee Shop   \n",
       "5                   Café           Coffee Shop                 Hotel   \n",
       "6                   Café           Coffee Shop                   Bar   \n",
       "7                    Bar           Art Gallery                  Park   \n",
       "8                   Café                   Pub           Coffee Shop   \n",
       "9              Juice Bar        Clothing Store             Gift Shop   \n",
       "10                  Café           Coffee Shop     Korean Restaurant   \n",
       "11                  Café          Cocktail Bar           Coffee Shop   \n",
       "\n",
       "   4th Most Common Venue       5th Most Common Venue 6th Most Common Venue  \\\n",
       "2        Thai Restaurant  Construction & Landscaping   Sporting Goods Shop   \n",
       "5                    Bar        Fast Food Restaurant   Japanese Restaurant   \n",
       "6    Japanese Restaurant          Italian Restaurant          Cocktail Bar   \n",
       "7            Coffee Shop       Performing Arts Venue               Theater   \n",
       "8        Thai Restaurant  Construction & Landscaping   Sporting Goods Shop   \n",
       "9          Shopping Mall                Dessert Shop                  Café   \n",
       "10   Japanese Restaurant                         Bar      Malay Restaurant   \n",
       "11                 Hotel                         Bar              Wine Bar   \n",
       "\n",
       "   7th Most Common Venue  8th Most Common Venue  9th Most Common Venue  \\\n",
       "2               Bus Stop      Convenience Store               Pharmacy   \n",
       "5        Thai Restaurant      Convenience Store            Salad Place   \n",
       "6             Steakhouse  Australian Restaurant         Sandwich Place   \n",
       "7            Music Venue     Spanish Restaurant                  Hotel   \n",
       "8               Bus Stop      Convenience Store               Pharmacy   \n",
       "9     Chinese Restaurant           Skating Rink           Burger Joint   \n",
       "10   Fried Chicken Joint             Donut Shop  Indonesian Restaurant   \n",
       "11   Japanese Restaurant       Ramen Restaurant           Dessert Shop   \n",
       "\n",
       "   10th Most Common Venue  \n",
       "2                    Park  \n",
       "5                Pie Shop  \n",
       "6                   Hotel  \n",
       "7          Ice Cream Shop  \n",
       "8                    Park  \n",
       "9          Sandwich Place  \n",
       "10          Shopping Mall  \n",
       "11       Tapas Restaurant  "
      ]
     },
     "execution_count": 238,
     "metadata": {},
     "output_type": "execute_result"
    }
   ],
   "source": [
    "melbourne_merged.loc[melbourne_merged['Cluster Labels'] == 1.0, melbourne_merged.columns[[4] + list(range(5, melbourne_merged.shape[1]))]]"
   ]
  },
  {
   "cell_type": "code",
   "execution_count": 239,
   "metadata": {},
   "outputs": [
    {
     "data": {
      "text/html": [
       "<div>\n",
       "<style scoped>\n",
       "    .dataframe tbody tr th:only-of-type {\n",
       "        vertical-align: middle;\n",
       "    }\n",
       "\n",
       "    .dataframe tbody tr th {\n",
       "        vertical-align: top;\n",
       "    }\n",
       "\n",
       "    .dataframe thead th {\n",
       "        text-align: right;\n",
       "    }\n",
       "</style>\n",
       "<table border=\"1\" class=\"dataframe\">\n",
       "  <thead>\n",
       "    <tr style=\"text-align: right;\">\n",
       "      <th></th>\n",
       "      <th>Neighbourhood</th>\n",
       "      <th>Cluster Labels</th>\n",
       "      <th>1st Most Common Venue</th>\n",
       "      <th>2nd Most Common Venue</th>\n",
       "      <th>3rd Most Common Venue</th>\n",
       "      <th>4th Most Common Venue</th>\n",
       "      <th>5th Most Common Venue</th>\n",
       "      <th>6th Most Common Venue</th>\n",
       "      <th>7th Most Common Venue</th>\n",
       "      <th>8th Most Common Venue</th>\n",
       "      <th>9th Most Common Venue</th>\n",
       "      <th>10th Most Common Venue</th>\n",
       "    </tr>\n",
       "  </thead>\n",
       "  <tbody>\n",
       "    <tr>\n",
       "      <th>3</th>\n",
       "      <td>South Melbourne, South Melbourne DC</td>\n",
       "      <td>3.0</td>\n",
       "      <td>Sporting Goods Shop</td>\n",
       "      <td>Flea Market</td>\n",
       "      <td>Malay Restaurant</td>\n",
       "      <td>Fast Food Restaurant</td>\n",
       "      <td>Grocery Store</td>\n",
       "      <td>French Restaurant</td>\n",
       "      <td>Football Stadium</td>\n",
       "      <td>Food Truck</td>\n",
       "      <td>Food Court</td>\n",
       "      <td>Filipino Restaurant</td>\n",
       "    </tr>\n",
       "  </tbody>\n",
       "</table>\n",
       "</div>"
      ],
      "text/plain": [
       "                         Neighbourhood  Cluster Labels 1st Most Common Venue  \\\n",
       "3  South Melbourne, South Melbourne DC             3.0   Sporting Goods Shop   \n",
       "\n",
       "  2nd Most Common Venue 3rd Most Common Venue 4th Most Common Venue  \\\n",
       "3           Flea Market      Malay Restaurant  Fast Food Restaurant   \n",
       "\n",
       "  5th Most Common Venue 6th Most Common Venue 7th Most Common Venue  \\\n",
       "3         Grocery Store     French Restaurant      Football Stadium   \n",
       "\n",
       "  8th Most Common Venue 9th Most Common Venue 10th Most Common Venue  \n",
       "3            Food Truck            Food Court    Filipino Restaurant  "
      ]
     },
     "execution_count": 239,
     "metadata": {},
     "output_type": "execute_result"
    }
   ],
   "source": [
    "melbourne_merged.loc[melbourne_merged['Cluster Labels'] == 3.0, melbourne_merged.columns[[4] + list(range(5, melbourne_merged.shape[1]))]]"
   ]
  },
  {
   "cell_type": "code",
   "execution_count": 240,
   "metadata": {},
   "outputs": [
    {
     "data": {
      "text/html": [
       "<div>\n",
       "<style scoped>\n",
       "    .dataframe tbody tr th:only-of-type {\n",
       "        vertical-align: middle;\n",
       "    }\n",
       "\n",
       "    .dataframe tbody tr th {\n",
       "        vertical-align: top;\n",
       "    }\n",
       "\n",
       "    .dataframe thead th {\n",
       "        text-align: right;\n",
       "    }\n",
       "</style>\n",
       "<table border=\"1\" class=\"dataframe\">\n",
       "  <thead>\n",
       "    <tr style=\"text-align: right;\">\n",
       "      <th></th>\n",
       "      <th>Neighbourhood</th>\n",
       "      <th>Cluster Labels</th>\n",
       "      <th>1st Most Common Venue</th>\n",
       "      <th>2nd Most Common Venue</th>\n",
       "      <th>3rd Most Common Venue</th>\n",
       "      <th>4th Most Common Venue</th>\n",
       "      <th>5th Most Common Venue</th>\n",
       "      <th>6th Most Common Venue</th>\n",
       "      <th>7th Most Common Venue</th>\n",
       "      <th>8th Most Common Venue</th>\n",
       "      <th>9th Most Common Venue</th>\n",
       "      <th>10th Most Common Venue</th>\n",
       "    </tr>\n",
       "  </thead>\n",
       "  <tbody>\n",
       "    <tr>\n",
       "      <th>4</th>\n",
       "      <td>Melbourne, St Kilda Road Central, St Kilda Road</td>\n",
       "      <td>4.0</td>\n",
       "      <td>Café</td>\n",
       "      <td>Hotel</td>\n",
       "      <td>Indian Restaurant</td>\n",
       "      <td>Tram Station</td>\n",
       "      <td>Park</td>\n",
       "      <td>Gym</td>\n",
       "      <td>Australian Restaurant</td>\n",
       "      <td>French Restaurant</td>\n",
       "      <td>Vietnamese Restaurant</td>\n",
       "      <td>Pizza Place</td>\n",
       "    </tr>\n",
       "  </tbody>\n",
       "</table>\n",
       "</div>"
      ],
      "text/plain": [
       "                                     Neighbourhood  Cluster Labels  \\\n",
       "4  Melbourne, St Kilda Road Central, St Kilda Road             4.0   \n",
       "\n",
       "  1st Most Common Venue 2nd Most Common Venue 3rd Most Common Venue  \\\n",
       "4                  Café                 Hotel     Indian Restaurant   \n",
       "\n",
       "  4th Most Common Venue 5th Most Common Venue 6th Most Common Venue  \\\n",
       "4          Tram Station                  Park                   Gym   \n",
       "\n",
       "   7th Most Common Venue 8th Most Common Venue  9th Most Common Venue  \\\n",
       "4  Australian Restaurant     French Restaurant  Vietnamese Restaurant   \n",
       "\n",
       "  10th Most Common Venue  \n",
       "4            Pizza Place  "
      ]
     },
     "execution_count": 240,
     "metadata": {},
     "output_type": "execute_result"
    }
   ],
   "source": [
    "melbourne_merged.loc[melbourne_merged['Cluster Labels'] == 4.0, melbourne_merged.columns[[4] + list(range(5, melbourne_merged.shape[1]))]]"
   ]
  },
  {
   "cell_type": "markdown",
   "metadata": {},
   "source": [
    "### VI. Discussion"
   ]
  },
  {
   "cell_type": "markdown",
   "metadata": {},
   "source": [
    "From the resulted clusters from previous section, we can explore some interesting findings such as:"
   ]
  },
  {
   "cell_type": "markdown",
   "metadata": {},
   "source": [
    "In Sydney, the results show that all sydney CBD, i.e., Barangaroo, Ultimo, Pyrmont, etc. or Northern of Sydney are grouped into one. This makes sense and show that our cluster algorithm works well. There are also some hints. For example, in CBD, there are many cafe and restaurant. Thus, if someone would like to invest on these venue should take care of others. However, in Sydney Nouth, the most common is Gym. Thus, if you want to open a new gym, you should be careful. But if you are a Gym lover, you should consider to migrate here.\n",
    "\n",
    "In Melbourne, we also have some similar results. Cafe and restaurant are among the most common venues in CBD. And Flea market is more common than other venues in Melbourne South.\n",
    "\n",
    "To compare between two cities, we take the CBD as an example. If you love Japanese food, you should consider to live in Melbourne as these are among the common restanrant in here. However, if you love Chinese and traditional Australian food, you definitely should consider to migrate to Sydney."
   ]
  },
  {
   "cell_type": "markdown",
   "metadata": {},
   "source": [
    "Above are just some findings on the results. We can have many more just by exploring the results."
   ]
  },
  {
   "cell_type": "markdown",
   "metadata": {},
   "source": [
    "### VII. Conclusion"
   ]
  },
  {
   "cell_type": "markdown",
   "metadata": {},
   "source": [
    "In this project, we explore the data from Sydney and Melbourne and compare the results to get the similarity btween two cities. We applied the Data analysis to get some information inside the raw data. Further, we also applied Foursquare API to get some useful hints on common venues in both cities. Finally, we investigate the clusters of both cities using machine learning techniques. By doing this, we also get some hints for immigrants or visitor. This somehow answer the question: Melbourne or Sydney?"
   ]
  },
  {
   "cell_type": "markdown",
   "metadata": {},
   "source": [
    "### References"
   ]
  },
  {
   "cell_type": "markdown",
   "metadata": {},
   "source": [
    "1. https://gist.github.com/randomecho/5020859\n",
    "2. https://postcodez.com.au/postcodes\n",
    "3. https://www.spidersoft.com.au/2013/australia-wide-postcode-breakdown/"
   ]
  }
 ],
 "metadata": {
  "kernelspec": {
   "display_name": "Python 3",
   "language": "python",
   "name": "python3"
  },
  "language_info": {
   "codemirror_mode": {
    "name": "ipython",
    "version": 3
   },
   "file_extension": ".py",
   "mimetype": "text/x-python",
   "name": "python",
   "nbconvert_exporter": "python",
   "pygments_lexer": "ipython3",
   "version": "3.8.3"
  }
 },
 "nbformat": 4,
 "nbformat_minor": 4
}
